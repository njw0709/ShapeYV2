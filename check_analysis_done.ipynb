{
 "cells": [
  {
   "cell_type": "code",
   "execution_count": 16,
   "metadata": {},
   "outputs": [],
   "source": [
    "import os\n",
    "import time"
   ]
  },
  {
   "cell_type": "code",
   "execution_count": 3,
   "metadata": {},
   "outputs": [
    {
     "name": "stdout",
     "output_type": "stream",
     "text": [
      "['kernels16_poolingMap1Left2Right', 'kernels12_poolingMap0Left1Right', 'kernels12_poolingMap1Left1Right', 'kernels24_poolingMap0Left1Right', 'kernels24_poolingMap1Left1Right', 'kernels12_poolingMap1Left2Right', 'kernels16_poolingMap0Left1Right', 'kernels16_poolingMap1Left1Right', 'kernels24_poolingMap1Left2Right']\n"
     ]
    }
   ],
   "source": [
    "base_dir = \"/home/francis/nineCasesToRun/\"\n",
    "subdir = os.listdir(base_dir)"
   ]
  },
  {
   "cell_type": "code",
   "execution_count": 7,
   "metadata": {},
   "outputs": [],
   "source": [
    "all_features_dir = []\n",
    "for dir in subdir:\n",
    "    features_dir = [os.path.join(base_dir, dir, d) for d in os.listdir(base_dir + dir) if d.startswith(\"features-results-\")]\n",
    "    all_features_dir.extend(features_dir)\n",
    "    "
   ]
  },
  {
   "cell_type": "code",
   "execution_count": 13,
   "metadata": {},
   "outputs": [
    {
     "name": "stdout",
     "output_type": "stream",
     "text": [
      "['/home/francis/nineCasesToRun/kernels12_poolingMap0Left1Right/features-results-l2p0,1', '/home/francis/nineCasesToRun/kernels12_poolingMap0Left1Right/features-results-l2p1,1', '/home/francis/nineCasesToRun/kernels12_poolingMap0Left1Right/features-results-l2p1,2', '/home/francis/nineCasesToRun/kernels12_poolingMap1Left1Right/features-results-l2p0,1', '/home/francis/nineCasesToRun/kernels12_poolingMap1Left1Right/features-results-l2p1,1', '/home/francis/nineCasesToRun/kernels12_poolingMap1Left1Right/features-results-l2p1,2', '/home/francis/nineCasesToRun/kernels12_poolingMap1Left2Right/features-results-l2p0,1', '/home/francis/nineCasesToRun/kernels12_poolingMap1Left2Right/features-results-l2p1,1', '/home/francis/nineCasesToRun/kernels12_poolingMap1Left2Right/features-results-l2p1,2', '/home/francis/nineCasesToRun/kernels16_poolingMap0Left1Right/features-results-l2p0,1', '/home/francis/nineCasesToRun/kernels16_poolingMap0Left1Right/features-results-l2p1,1', '/home/francis/nineCasesToRun/kernels16_poolingMap0Left1Right/features-results-l2p1,2', '/home/francis/nineCasesToRun/kernels16_poolingMap1Left1Right/features-results-l2p0,1', '/home/francis/nineCasesToRun/kernels16_poolingMap1Left1Right/features-results-l2p1,1', '/home/francis/nineCasesToRun/kernels16_poolingMap1Left1Right/features-results-l2p1,2', '/home/francis/nineCasesToRun/kernels16_poolingMap1Left2Right/features-results-l2p0,1', '/home/francis/nineCasesToRun/kernels16_poolingMap1Left2Right/features-results-l2p1,1', '/home/francis/nineCasesToRun/kernels16_poolingMap1Left2Right/features-results-l2p1,2', '/home/francis/nineCasesToRun/kernels24_poolingMap0Left1Right/features-results-l2p0,1', '/home/francis/nineCasesToRun/kernels24_poolingMap0Left1Right/features-results-l2p1,1', '/home/francis/nineCasesToRun/kernels24_poolingMap0Left1Right/features-results-l2p1,2', '/home/francis/nineCasesToRun/kernels24_poolingMap1Left1Right/features-results-l2p0,1', '/home/francis/nineCasesToRun/kernels24_poolingMap1Left1Right/features-results-l2p1,1', '/home/francis/nineCasesToRun/kernels24_poolingMap1Left1Right/features-results-l2p1,2', '/home/francis/nineCasesToRun/kernels24_poolingMap1Left2Right/features-results-l2p0,1', '/home/francis/nineCasesToRun/kernels24_poolingMap1Left2Right/features-results-l2p1,1', '/home/francis/nineCasesToRun/kernels24_poolingMap1Left2Right/features-results-l2p1,2']\n"
     ]
    },
    {
     "data": {
      "text/plain": [
       "27"
      ]
     },
     "execution_count": 13,
     "metadata": {},
     "output_type": "execute_result"
    }
   ],
   "source": [
    "all_features_dir.sort()\n",
    "print(all_features_dir)\n",
    "len(all_features_dir)"
   ]
  },
  {
   "cell_type": "code",
   "execution_count": 19,
   "metadata": {},
   "outputs": [
    {
     "name": "stdout",
     "output_type": "stream",
     "text": [
      "Fri Sep  8 10:47:46 2023\n",
      "Fri Sep  8 10:47:55 2023\n",
      "Fri Sep  8 11:53:15 2023\n",
      "Fri Sep  8 11:53:48 2023\n",
      "Fri Sep  8 12:59:05 2023\n",
      "Fri Sep  8 12:59:00 2023\n",
      "Fri Sep  8 14:04:33 2023\n",
      "Fri Sep  8 14:04:16 2023\n",
      "Fri Sep  8 15:09:39 2023\n",
      "Fri Sep  8 15:10:16 2023\n",
      "Fri Sep  8 16:14:44 2023\n",
      "Fri Sep  8 16:15:35 2023\n",
      "Fri Sep  8 17:17:10 2023\n",
      "Fri Sep  8 10:52:05 2023\n",
      "Fri Sep  8 10:52:46 2023\n",
      "Fri Sep  8 12:00:30 2023\n",
      "Fri Sep  8 12:01:42 2023\n",
      "Fri Sep  8 13:08:54 2023\n",
      "Fri Sep  8 13:09:56 2023\n",
      "Fri Sep  8 14:16:34 2023\n",
      "Fri Sep  8 14:18:04 2023\n",
      "Fri Sep  8 15:23:48 2023\n",
      "Fri Sep  8 15:25:16 2023\n",
      "Fri Sep  8 16:31:54 2023\n",
      "Fri Sep  8 16:33:15 2023\n",
      "Fri Sep  8 17:39:17 2023\n",
      "Fri Sep  8 17:40:31 2023\n"
     ]
    }
   ],
   "source": [
    "for fd in all_features_dir:\n",
    "    stat_info = os.stat(os.path.join(fd, \"analysis_results.h5\"))\n",
    "    birth_time = stat_info.st_ctime\n",
    "    readable_time = time.ctime(birth_time)\n",
    "    print(readable_time)"
   ]
  },
  {
   "cell_type": "code",
   "execution_count": null,
   "metadata": {},
   "outputs": [],
   "source": []
  }
 ],
 "metadata": {
  "kernelspec": {
   "display_name": "shapeymodular",
   "language": "python",
   "name": "python3"
  },
  "language_info": {
   "codemirror_mode": {
    "name": "ipython",
    "version": 3
   },
   "file_extension": ".py",
   "mimetype": "text/x-python",
   "name": "python",
   "nbconvert_exporter": "python",
   "pygments_lexer": "ipython3",
   "version": "3.9.16"
  },
  "orig_nbformat": 4
 },
 "nbformat": 4,
 "nbformat_minor": 2
}
