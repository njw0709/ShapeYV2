{
 "cells": [
  {
   "cell_type": "code",
   "execution_count": 5,
   "metadata": {},
   "outputs": [],
   "source": [
    "a = ['123-p01.png']"
   ]
  },
  {
   "cell_type": "code",
   "execution_count": 6,
   "metadata": {},
   "outputs": [],
   "source": [
    "import numpy as np"
   ]
  },
  {
   "cell_type": "code",
   "execution_count": 9,
   "metadata": {},
   "outputs": [],
   "source": [
    "axes_of_interest = np.unique(\n",
    "            np.array([c.split(\"-\")[1].split(\".\")[0][:-2] for c in a])\n",
    "        )"
   ]
  },
  {
   "cell_type": "code",
   "execution_count": 10,
   "metadata": {},
   "outputs": [
    {
     "data": {
      "text/plain": [
       "array(['p'], dtype='<U1')"
      ]
     },
     "execution_count": 10,
     "metadata": {},
     "output_type": "execute_result"
    }
   ],
   "source": [
    "axes_of_interest"
   ]
  },
  {
   "cell_type": "code",
   "execution_count": 11,
   "metadata": {},
   "outputs": [
    {
     "name": "stdout",
     "output_type": "stream",
     "text": [
      "1\n",
      "2\n",
      "3\n",
      "4\n",
      "5\n",
      "6\n",
      "7\n",
      "8\n",
      "9\n"
     ]
    }
   ],
   "source": [
    "for i in range(1, 10):\n",
    "    print(i)"
   ]
  },
  {
   "cell_type": "code",
   "execution_count": 5,
   "metadata": {},
   "outputs": [],
   "source": [
    "import os\n",
    "import numpy as np"
   ]
  },
  {
   "cell_type": "code",
   "execution_count": 6,
   "metadata": {},
   "outputs": [],
   "source": [
    "dirname = \"/home/namj/projects/ShapeYAnalysis/data/ShapeY200/dataset/\""
   ]
  },
  {
   "cell_type": "code",
   "execution_count": 7,
   "metadata": {},
   "outputs": [],
   "source": [
    "imgnames = os.listdir(dirname)"
   ]
  },
  {
   "cell_type": "code",
   "execution_count": 10,
   "metadata": {},
   "outputs": [],
   "source": [
    "objnames = list(np.unique([imgname.split(\"-\")[0] for imgname in imgnames]))"
   ]
  },
  {
   "cell_type": "code",
   "execution_count": 11,
   "metadata": {},
   "outputs": [],
   "source": [
    "import json"
   ]
  },
  {
   "cell_type": "code",
   "execution_count": 14,
   "metadata": {},
   "outputs": [],
   "source": [
    "with open('ShapeY200_objs.json', 'w') as f:\n",
    "    json.dump(objnames, f)"
   ]
  },
  {
   "cell_type": "code",
   "execution_count": 17,
   "metadata": {},
   "outputs": [],
   "source": [
    "with open('../src/utils/ShapeY200_objs.json', 'r') as f:\n",
    "    objs = json.load(f)\n"
   ]
  },
  {
   "cell_type": "code",
   "execution_count": 18,
   "metadata": {},
   "outputs": [
    {
     "data": {
      "text/plain": [
       "['airplane_1021a0914a7207aff927ed529ad90a11',\n",
       " 'airplane_326e859d86a8078427eb9e7911a17418',\n",
       " 'airplane_35ae2885a0e645fb7843a50f3dd2047e',\n",
       " 'airplane_53c7a6b56afb63807222da102ac36d2b',\n",
       " 'airplane_7b134f6573e7270fb0a79e28606cb167',\n",
       " 'airplane_844d36a369cdeed3ac4f72bf08dc79a6',\n",
       " 'airplane_9513fcab860b113795ff232cd38210b4',\n",
       " 'airplane_a28b92f0ed237d6d13256b8319a93100',\n",
       " 'airplane_ecbb6df185a7b260760d31bf9510e4b7',\n",
       " 'airplane_f7c2edc1beeedd006e68e46a69a2d96d',\n",
       " 'bag_133c16fc6ca7d77676bb31db0358e9c6',\n",
       " 'bag_151d033af5381fd4c1e1e64c8ea306ea',\n",
       " 'bag_2ca6df7a5377825cfee773c7de26c274',\n",
       " 'bag_39381a2718d2a1d4d5f008f38a566dee',\n",
       " 'bag_4a1f62dbe8b091eabc49cae1a831a9e',\n",
       " 'bag_74c548ef3ca7b1987515e7bb7dba4019',\n",
       " 'bag_83ab18386e87bf4efef598dabc93c115',\n",
       " 'bag_abba6df6294f20c569ea850160c0b35',\n",
       " 'bag_adfe9029a1ca723eb8966aeece708f87',\n",
       " 'bag_e90e27c3020d25dd76bb31db0358e9c6',\n",
       " 'birdhouse_11dc4e10ef6e592f1aab8791875b3551',\n",
       " 'birdhouse_2e81196fa81cc1fba29538f582b2005',\n",
       " 'birdhouse_7bf5608a4d2c66bac5c86021644af7b5',\n",
       " 'birdhouse_a448fb21ce07c5332cba66dc6aeabcd4',\n",
       " 'birdhouse_a842ad87774e1948a89d6f0a00bf90fd',\n",
       " 'birdhouse_c9a3538b8408c66a33f19716eab42752',\n",
       " 'birdhouse_ece71b326dcb50bdfcfdb70b6c560685',\n",
       " 'birdhouse_ed8eecb25a61ce8ec30aa7d959330a5f',\n",
       " 'birdhouse_f04ba261ea073ef9390cc49064ed7b4d',\n",
       " 'birdhouse_fb7402f91e300ead8ac033353d37592a',\n",
       " 'boat_13c289d915523f2348132c07d51cd81a',\n",
       " 'boat_3176313945e3739e10508e1f7e97aa01',\n",
       " 'boat_6b87ed6710a0fc8d8aae7c4db7244339',\n",
       " 'boat_6e3db071ed95552b3faeafe37c2ce4f6',\n",
       " 'boat_8b3cf3842a88136c67c16c85d5f8c7d7',\n",
       " 'boat_b1a080228ad8a7c6eb2c303a0e0d287b',\n",
       " 'boat_b31884906c966b4fa54923b7d85aee7d',\n",
       " 'boat_e3206eef4da407e7c08fee43ebed0bfa',\n",
       " 'boat_e364eac9ec762c54de203ef6842ee61',\n",
       " 'boat_fe482b5db6daa95f88e2183678696c9a',\n",
       " 'bunk bed_1347959af4df977a15dd7d7985e749c1',\n",
       " 'bunk bed_1edea7d187858e2630b07c64830a47f3',\n",
       " 'bunk bed_2f44a88e17474295e66f707221b74f43',\n",
       " 'bunk bed_34292cd1143461a6bda4e7fc3e4df4d4',\n",
       " 'bunk bed_4290c1a305f46cba4cc1952ae0d6e81a',\n",
       " 'bunk bed_6e4707cac21b09f0531c83488903771b',\n",
       " 'bunk bed_73d8ed364821a2701a6208c41cfe5c77',\n",
       " 'bunk bed_aff661c669a2bb4fe3fb5e8ccfbdda1f',\n",
       " 'bunk bed_d3aa611e639ea0228998b3b64a143d42',\n",
       " 'bunk bed_e07dffd4c5607a6672b7738d7a601564',\n",
       " 'camera_17a010f0ade4d1fd83a3e53900c6cbba',\n",
       " 'camera_1967344f80da29618d342172201b8d8c',\n",
       " 'camera_235a6dd25c0a6f7b66f19f26ac490096',\n",
       " 'camera_97690c4db20227d248e23e2c398d8046',\n",
       " 'camera_b42c3da473bb4226dbe4bc54590e1d59',\n",
       " 'camera_c9c9ffd08af8b268b52759c2c2fc0d1e',\n",
       " 'camera_db663e3f7ee9869f5c351e299b24e355',\n",
       " 'camera_f7e2afd70e37f60ad2b6f4e920e50f96',\n",
       " 'camera_fb3b5fae94f7b02a3b269928487f8a4c',\n",
       " 'camera_fdcd83539b8db2c8b5635bf39f10a28a',\n",
       " 'car_1548f5fb0684d08c63155b8ebc275bd1',\n",
       " 'car_1e54527efa629c37a047cd0a07d473f1',\n",
       " 'car_41f087af6d5af9e1c05a03162270a7ea',\n",
       " 'car_5edaef36af2826762bf75f4335c3829b',\n",
       " 'car_5ef8eeb5ba5d2c6ff6efcf1cf084a608',\n",
       " 'car_77d9a23f45c888e595551e0d9e50cb0d',\n",
       " 'car_8c04413559b71fccbda72093f9b5aa73',\n",
       " 'car_8fadf13734ff86b5f9e6f9c7735c6b41',\n",
       " 'car_a08b151ac5254df184bf231ea6363fab',\n",
       " 'car_bb39689b3e6568e85ea174ca141ad66c',\n",
       " 'chair_1b938d400e1a340b17b431cae0dd70ed',\n",
       " 'chair_2b2510922e763c2443b0708c694aaf46',\n",
       " 'chair_2b55385a63cf62f6bababe11fcea8796',\n",
       " 'chair_2b8380ed4b779be7af7c7ad2549a1b15',\n",
       " 'chair_653c0f8b819872b41a6af642cfc1a2bc',\n",
       " 'chair_6e92bdda1bca7b72f9a4f3015fbf70',\n",
       " 'chair_7e190338d3f213c3f7b1230869d2b89c',\n",
       " 'chair_a724a8b2ea1ef63954a8e7cfdf35a7ed',\n",
       " 'chair_b0f35e0dbfd5d75620fc2acf581b444e',\n",
       " 'chair_c9d5ff677600b0a1a01ae992b62200ab',\n",
       " 'faucet_1e2e11043b3d67d76621db2c3226f08',\n",
       " 'faucet_1e5712458907fe06b362845c6edb57fc',\n",
       " 'faucet_2559df6172ff5b1a840312071e438eeb',\n",
       " 'faucet_2d47bde73180097d76d20e73c57c9a03',\n",
       " 'faucet_4a44ef4b181f1101b362845c6edb57fc',\n",
       " 'faucet_75400f002f5ca46f275e59035e1ccbda',\n",
       " 'faucet_7d6baf6cdeab0db93321831d2245cf06',\n",
       " 'faucet_abce921108990509251c40136771148c',\n",
       " 'faucet_d1a20d867c2b8f459cd6e2005048d293',\n",
       " 'faucet_de4c1e3e21d5202da7c60f6678573a4',\n",
       " 'guitar_10b65379796e96091c86d29189611a06',\n",
       " 'guitar_2b394d7e325c0ff5f48dc85fa744ff46',\n",
       " 'guitar_5f24e8a1b07665a7e546539ff7b98351',\n",
       " 'guitar_7175e8671bc22afea937a742b4b0dc33',\n",
       " 'guitar_b7e1c7e7ddd1485277df4c4d253ba3a',\n",
       " 'guitar_bdb021331b396851c09b3b7b0c2153f8',\n",
       " 'guitar_cb99963122f01a92e8bcbdd9e5145d74',\n",
       " 'guitar_da8ee6c488a2f4e093f806b1ecaee483',\n",
       " 'guitar_f6146aa6171dd4f4828b9741c7dfc3ed',\n",
       " 'guitar_feaacb1b8c140e5ff962b6de585c4677',\n",
       " 'headphone_2b28e2a5080101d245af43a64155c221',\n",
       " 'headphone_301d3c7e7a8cd529c37e70ff83bcc2f',\n",
       " 'headphone_51245ad5a0571188992fd3dac901d508',\n",
       " 'headphone_6bf1559769018cbb354b166143712fb3',\n",
       " 'headphone_703dced3f9479f348a731b44a5fe7a8e',\n",
       " 'headphone_719b4249339e7eb4c030d1f2c16e4c51',\n",
       " 'headphone_763f06de96ae50d5823e88e264b80650',\n",
       " 'headphone_98eb96633935d994c38ed9bce4ed5d0f',\n",
       " 'headphone_de3b9b253e8f1aaf8b15c58b209760b5',\n",
       " 'headphone_f90f01ec45ea95d65481d2ca627e43e7',\n",
       " 'lamp_18010f1e7133415290c2e24416edfe5b',\n",
       " 'lamp_18145f4b303c37f11c3739edd52fa3',\n",
       " 'lamp_308bd35d5f52de4e57b8f616df7adf9a',\n",
       " 'lamp_4dde6d694443a488edb5be732846826',\n",
       " 'lamp_605ddd207eed0d81414aaa1b9210e59a',\n",
       " 'lamp_611f9690f6eb4da79a6a8a8f3fa61f11',\n",
       " 'lamp_617e98c1d743c17420ccbe1c34ca182d',\n",
       " 'lamp_9af0807b146c564a45c4ecb2f4b73702',\n",
       " 'lamp_da4fe1c3d5b1eb6ab2b4f8bf5db83688',\n",
       " 'lamp_de5799693fbddbe3c4560b8f156e749',\n",
       " 'motorcycle_3a94134ec9698b74ec5901a85efd6b67',\n",
       " 'motorcycle_46e38cf88b07de0ee2b85785c47c5d52',\n",
       " 'motorcycle_49b7ec863c4599aabd1734e75169b9e0',\n",
       " 'motorcycle_88950eedce83a11ad4fea43a014cf734',\n",
       " 'motorcycle_896f688e07909b9b893e67220bf9be7',\n",
       " 'motorcycle_94a021f2078cab18da3e5772fc0cd087',\n",
       " 'motorcycle_c4e0be3db8960e7799c206f2618a97af',\n",
       " 'motorcycle_cdd1e5890e5a766a65397d05162306e',\n",
       " 'motorcycle_edc4c7a08293697db37378f3c85478b4',\n",
       " 'motorcycle_f0c7043178a8a2fc52ee90e577613070',\n",
       " 'mug_1ae1ba5dfb2a085247df6165146d5bbd',\n",
       " 'mug_52273f4b17505e898ef19a48ac4fcfdf',\n",
       " 'mug_5fe74baba21bba7ca4eec1b19b3a18f8',\n",
       " 'mug_6500ccc65e210b14d829190312080ea3',\n",
       " 'mug_68f4428c0b38ae0e2469963e6d044dfe',\n",
       " 'mug_6aec84952a5ffcf33f60d03e1cb068dc',\n",
       " 'mug_b18bf84bcd457ffbc2868ebdda32b945',\n",
       " 'mug_b6f30c63c946c286cf6897d8875cfd5e',\n",
       " 'mug_d7ba704184d424dfd56d9106430c3fe',\n",
       " 'mug_f23a544c04e2f5ccb50d0c6a0c254040',\n",
       " 'pistol_1171db047e43948b40aa5b072f9ee3d1',\n",
       " 'pistol_1226a05aba30d0987deae9192b6f5fdc',\n",
       " 'pistol_263afcd618780865bbace5122b1001f5',\n",
       " 'pistol_446e4145b475eb245751d640a4e334',\n",
       " 'pistol_4a5ed50fe28a7380fef144202cb2b935',\n",
       " 'pistol_898424eaa40e821c2bf47341dbd96eb',\n",
       " 'pistol_9a90f323edc8c30f54e702cd89ce6f04',\n",
       " 'pistol_c045c2df9649384e58da2ab14df356b2',\n",
       " 'pistol_db298a7cb95aea676ecdf20adf3e54ce',\n",
       " 'pistol_df2e8011beb752dc44608b3255ca1886',\n",
       " 'pot_133dc38c1316d9515dc3653f8341633a',\n",
       " 'pot_2399ba91d5263c913666eb1bf2ae701',\n",
       " 'pot_3c73f2f15c10d253f2665ed92bcd1166',\n",
       " 'pot_4fcc70a519fac2a3f11c3739edd52fa3',\n",
       " 'pot_595a2947c890819d58c88d30f502a452',\n",
       " 'pot_5f3a050002015f5bc323742ccd065ef4',\n",
       " 'pot_9c00e85febb3950fbd353c96f0f6d633',\n",
       " 'pot_bfd7c0ba3d690291271666a0c21c3f2',\n",
       " 'pot_f1d505c01e188533b11036f4855ac4b5',\n",
       " 'pot_f892893037aaa2028cbd3996b1c0adf8',\n",
       " 'printer_2263c8fa2d951833ecc46197d5349c6e',\n",
       " 'printer_2af74548033015f453227dcd0d547ba6',\n",
       " 'printer_90fc6f7b0b84755796348cae6ab0021',\n",
       " 'printer_97735b38d3b229d5e8be809ecac11dd',\n",
       " 'printer_a74db482402e533d9d23dd9e1ad481db',\n",
       " 'printer_b2ff768db80d2d723e6c258d47d0b669',\n",
       " 'printer_d0ee507ba98a89525df8d70b74fdbdb5',\n",
       " 'printer_d9a7f7d8d6358ab268e3172ee2027144',\n",
       " 'printer_df443a41d3b4f092d5805a1d6e49bc4e',\n",
       " 'printer_eecd888b440831bffce3743f4e2437fe',\n",
       " 'rocket_1a3ef9b0c9c8ae6244f315d1e2c21ef',\n",
       " 'rocket_2407c2684ee757e89c4176ab56cb612',\n",
       " 'rocket_3e75a7a2f8f602df390a81c7a00f98eb',\n",
       " 'rocket_5925619f2bcb830aec83434daf14e347',\n",
       " 'rocket_731db7871e19a2efddf75684fdf930e6',\n",
       " 'rocket_974472ca7b895f74c6f5c7c0f17e11c3',\n",
       " 'rocket_9d6c3971491bd0de616ce6fe9495197c',\n",
       " 'rocket_c3f7e3b188f6fe139a6e43b878d5b335',\n",
       " 'rocket_e04bda8655d9e606ebcdf982796b4fa',\n",
       " 'rocket_e1cb02a589e09aa193a67322c4cf7081',\n",
       " 'sofa_1a477f7b2c1799e1b728e6e715c3f8cf',\n",
       " 'sofa_3c56ceef171fa142126c0b0ea3ea0a2c',\n",
       " 'sofa_47c45ac7187a9674421b433358248213',\n",
       " 'sofa_698a0a47dd9bba797ddb7abd4c043364',\n",
       " 'sofa_6c4e0987896fc5df30c7f4adc2c33ad6',\n",
       " 'sofa_9f6d960c57515fb491264d3b5d25d83f',\n",
       " 'sofa_a7e4616a2a315dfac5ddc26ef5560e77',\n",
       " 'sofa_c293fb5d58a88ce85b903ba10d2ec446',\n",
       " 'sofa_c37832a4b22cc13e6654a522b30cb96',\n",
       " 'sofa_e491dc151c8e801186abe5555a3b447d',\n",
       " 'train_7578f09ea13f2d04ed79a511eb448339',\n",
       " 'train_79b834190bfcf065bc7069dbf29b2330',\n",
       " 'train_7d9cb763f622e2aa90f5fac3ff9f322',\n",
       " 'train_903584d52613647290df764ad314c67f',\n",
       " 'train_9b34d4118d5d72e9ed2f8e1c74f9fca9',\n",
       " 'train_af418bcf5fa6b22642ca7cc070f21ed3',\n",
       " 'train_d2a55d5745da47892aa93fe7a6076a9',\n",
       " 'train_d433ceb5bb3eece98c8b260b832217ab',\n",
       " 'train_ed66247c141a18936ef38ad304e9224b',\n",
       " 'train_fa69b96acfc4ab67d6d91af432c7bb1b']"
      ]
     },
     "execution_count": 18,
     "metadata": {},
     "output_type": "execute_result"
    }
   ],
   "source": [
    "objs"
   ]
  },
  {
   "cell_type": "code",
   "execution_count": 1,
   "metadata": {},
   "outputs": [],
   "source": [
    "import sys\n",
    "sys.path.append(\"../src\")\n",
    "from utils.constants import SHAPEY200_IMGNAMES, SHAPEY200_OBJCATS"
   ]
  },
  {
   "cell_type": "code",
   "execution_count": 2,
   "metadata": {},
   "outputs": [
    {
     "data": {
      "text/plain": [
       "array(['airplane', 'bag', 'birdhouse', 'boat', 'bunk bed', 'camera',\n",
       "       'car', 'chair', 'faucet', 'guitar', 'headphone', 'lamp',\n",
       "       'motorcycle', 'mug', 'pistol', 'pot', 'printer', 'rocket', 'sofa',\n",
       "       'train'], dtype='<U10')"
      ]
     },
     "execution_count": 2,
     "metadata": {},
     "output_type": "execute_result"
    }
   ],
   "source": [
    "SHAPEY200_OBJCATS"
   ]
  },
  {
   "cell_type": "code",
   "execution_count": 27,
   "metadata": {},
   "outputs": [
    {
     "data": {
      "text/plain": [
       "68200"
      ]
     },
     "execution_count": 27,
     "metadata": {},
     "output_type": "execute_result"
    }
   ],
   "source": [
    "len(SHAPEY200_IMGNAMES)"
   ]
  },
  {
   "cell_type": "code",
   "execution_count": 30,
   "metadata": {},
   "outputs": [
    {
     "name": "stdout",
     "output_type": "stream",
     "text": [
      "list2 is not a subset of list1\n"
     ]
    }
   ],
   "source": [
    "list1 = [\"1\", 2, 3, 4, 5]\n",
    "list2 = [3, \"4\"]\n",
    "\n",
    "if set(list2) <= set(list1):\n",
    "    print(\"list2 is a subset of list1\")\n",
    "else:\n",
    "    print(\"list2 is not a subset of list1\")\n"
   ]
  },
  {
   "cell_type": "code",
   "execution_count": 1,
   "metadata": {},
   "outputs": [],
   "source": [
    "import cupy as cp\n",
    "import numpy as np"
   ]
  },
  {
   "cell_type": "code",
   "execution_count": 46,
   "metadata": {},
   "outputs": [],
   "source": [
    "import sys\n",
    "sys.path.append(\"../src\")\n",
    "from utils.constants import ALL_AXES\n",
    "import utils\n",
    "import numpy as np"
   ]
  },
  {
   "cell_type": "code",
   "execution_count": 4,
   "metadata": {},
   "outputs": [],
   "source": [
    "contain_ax = cp.array(\n",
    "    [\n",
    "        [\n",
    "            cp.array([c in a for c in 'p']).all()\n",
    "            for a in ALL_AXES\n",
    "        ]\n",
    "    ],\n",
    "    dtype=int,\n",
    ")"
   ]
  },
  {
   "cell_type": "code",
   "execution_count": 12,
   "metadata": {},
   "outputs": [
    {
     "data": {
      "text/plain": [
       "array([[1, 1, 1, 1, 0, 0, 0, 0, 1, 1, 1, 1, 0, 0, 0, 0, 1, 1, 1, 1, 0, 0,\n",
       "        0, 0, 1, 1, 1, 1, 0, 0, 0]])"
      ]
     },
     "execution_count": 12,
     "metadata": {},
     "output_type": "execute_result"
    }
   ],
   "source": [
    "contain_ax"
   ]
  },
  {
   "cell_type": "code",
   "execution_count": 15,
   "metadata": {},
   "outputs": [],
   "source": [
    "repeat_mask = contain_ax * contain_ax.T"
   ]
  },
  {
   "cell_type": "code",
   "execution_count": 16,
   "metadata": {},
   "outputs": [
    {
     "data": {
      "text/plain": [
       "(31, 31)"
      ]
     },
     "execution_count": 16,
     "metadata": {},
     "output_type": "execute_result"
    }
   ],
   "source": [
    "repeat_mask.shape"
   ]
  },
  {
   "cell_type": "code",
   "execution_count": 9,
   "metadata": {},
   "outputs": [],
   "source": [
    "repeat_mask = cp.repeat(cp.repeat(repeat_mask, 11, axis=1), 11, axis=0)"
   ]
  },
  {
   "cell_type": "code",
   "execution_count": 11,
   "metadata": {},
   "outputs": [
    {
     "data": {
      "text/plain": [
       "(341, 341)"
      ]
     },
     "execution_count": 11,
     "metadata": {},
     "output_type": "execute_result"
    }
   ],
   "source": [
    "repeat_mask"
   ]
  },
  {
   "cell_type": "code",
   "execution_count": 18,
   "metadata": {},
   "outputs": [],
   "source": [
    "import h5py"
   ]
  },
  {
   "cell_type": "code",
   "execution_count": 27,
   "metadata": {},
   "outputs": [],
   "source": [
    "d = '/home/namj/projects/ShapeYTriad/data/processed/neural_net/xcit_large_24_p8_224_dist.h5'"
   ]
  },
  {
   "cell_type": "code",
   "execution_count": 28,
   "metadata": {},
   "outputs": [],
   "source": [
    "a = h5py.File(d, 'r')"
   ]
  },
  {
   "cell_type": "code",
   "execution_count": 29,
   "metadata": {},
   "outputs": [
    {
     "data": {
      "text/plain": [
       "<KeysViewHDF5 ['feature_output', 'original', 'pairwise_correlation']>"
      ]
     },
     "execution_count": 29,
     "metadata": {},
     "output_type": "execute_result"
    }
   ],
   "source": [
    "a.keys()"
   ]
  },
  {
   "cell_type": "code",
   "execution_count": 36,
   "metadata": {},
   "outputs": [
    {
     "data": {
      "text/plain": [
       "(11, 11)"
      ]
     },
     "execution_count": 36,
     "metadata": {},
     "output_type": "execute_result"
    }
   ],
   "source": [
    "a['original']['airplane_1021a0914a7207aff927ed529ad90a11/p/top1_cvals'].shape"
   ]
  },
  {
   "cell_type": "code",
   "execution_count": 37,
   "metadata": {},
   "outputs": [
    {
     "ename": "SyntaxError",
     "evalue": "invalid syntax (2212192611.py, line 1)",
     "output_type": "error",
     "traceback": [
      "\u001b[0;36m  Cell \u001b[0;32mIn[37], line 1\u001b[0;36m\u001b[0m\n\u001b[0;31m    c = [1:10]\u001b[0m\n\u001b[0m          ^\u001b[0m\n\u001b[0;31mSyntaxError\u001b[0m\u001b[0;31m:\u001b[0m invalid syntax\n"
     ]
    }
   ],
   "source": [
    "c = [1:10]"
   ]
  },
  {
   "cell_type": "code",
   "execution_count": 38,
   "metadata": {},
   "outputs": [],
   "source": [
    "c = [range(1, 10)]"
   ]
  },
  {
   "cell_type": "code",
   "execution_count": 39,
   "metadata": {},
   "outputs": [
    {
     "data": {
      "text/plain": [
       "[range(1, 10)]"
      ]
     },
     "execution_count": 39,
     "metadata": {},
     "output_type": "execute_result"
    }
   ],
   "source": [
    "c"
   ]
  },
  {
   "cell_type": "code",
   "execution_count": 44,
   "metadata": {},
   "outputs": [
    {
     "data": {
      "text/plain": [
       "(9, 4)"
      ]
     },
     "execution_count": 44,
     "metadata": {},
     "output_type": "execute_result"
    }
   ],
   "source": [
    "a['pairwise_correlation/original'][1:10,[2,5,9,11]].shape"
   ]
  },
  {
   "cell_type": "code",
   "execution_count": 48,
   "metadata": {},
   "outputs": [],
   "source": [
    "objidx = 1\n",
    "whole_corrmat_idx = [\n",
    "    objidx * utils.NUMBER_OF_VIEWS_PER_AXIS * utils.NUMBER_OF_AXES,\n",
    "    (objidx + 1) * utils.NUMBER_OF_VIEWS_PER_AXIS * utils.NUMBER_OF_AXES,\n",
    "]"
   ]
  },
  {
   "cell_type": "code",
   "execution_count": 49,
   "metadata": {},
   "outputs": [
    {
     "data": {
      "text/plain": [
       "[341, 682]"
      ]
     },
     "execution_count": 49,
     "metadata": {},
     "output_type": "execute_result"
    }
   ],
   "source": [
    "whole_corrmat_idx"
   ]
  },
  {
   "cell_type": "code",
   "execution_count": 54,
   "metadata": {},
   "outputs": [],
   "source": [
    "whole_corrmat_idx_np = np.linspace(whole_corrmat_idx[0], whole_corrmat_idx[1]-1, whole_corrmat_idx[1]-whole_corrmat_idx[0], dtype=int)"
   ]
  },
  {
   "cell_type": "code",
   "execution_count": 55,
   "metadata": {},
   "outputs": [
    {
     "data": {
      "text/plain": [
       "array([341, 342, 343, 344, 345, 346, 347, 348, 349, 350, 351, 352, 353,\n",
       "       354, 355, 356, 357, 358, 359, 360, 361, 362, 363, 364, 365, 366,\n",
       "       367, 368, 369, 370, 371, 372, 373, 374, 375, 376, 377, 378, 379,\n",
       "       380, 381, 382, 383, 384, 385, 386, 387, 388, 389, 390, 391, 392,\n",
       "       393, 394, 395, 396, 397, 398, 399, 400, 401, 402, 403, 404, 405,\n",
       "       406, 407, 408, 409, 410, 411, 412, 413, 414, 415, 416, 417, 418,\n",
       "       419, 420, 421, 422, 423, 424, 425, 426, 427, 428, 429, 430, 431,\n",
       "       432, 433, 434, 435, 436, 437, 438, 439, 440, 441, 442, 443, 444,\n",
       "       445, 446, 447, 448, 449, 450, 451, 452, 453, 454, 455, 456, 457,\n",
       "       458, 459, 460, 461, 462, 463, 464, 465, 466, 467, 468, 469, 470,\n",
       "       471, 472, 473, 474, 475, 476, 477, 478, 479, 480, 481, 482, 483,\n",
       "       484, 485, 486, 487, 488, 489, 490, 491, 492, 493, 494, 495, 496,\n",
       "       497, 498, 499, 500, 501, 502, 503, 504, 505, 506, 507, 508, 509,\n",
       "       510, 511, 512, 513, 514, 515, 516, 517, 518, 519, 520, 521, 522,\n",
       "       523, 524, 525, 526, 527, 528, 529, 530, 531, 532, 533, 534, 535,\n",
       "       536, 537, 538, 539, 540, 541, 542, 543, 544, 545, 546, 547, 548,\n",
       "       549, 550, 551, 552, 553, 554, 555, 556, 557, 558, 559, 560, 561,\n",
       "       562, 563, 564, 565, 566, 567, 568, 569, 570, 571, 572, 573, 574,\n",
       "       575, 576, 577, 578, 579, 580, 581, 582, 583, 584, 585, 586, 587,\n",
       "       588, 589, 590, 591, 592, 593, 594, 595, 596, 597, 598, 599, 600,\n",
       "       601, 602, 603, 604, 605, 606, 607, 608, 609, 610, 611, 612, 613,\n",
       "       614, 615, 616, 617, 618, 619, 620, 621, 622, 623, 624, 625, 626,\n",
       "       627, 628, 629, 630, 631, 632, 633, 634, 635, 636, 637, 638, 639,\n",
       "       640, 641, 642, 643, 644, 645, 646, 647, 648, 649, 650, 651, 652,\n",
       "       653, 654, 655, 656, 657, 658, 659, 660, 661, 662, 663, 664, 665,\n",
       "       666, 667, 668, 669, 670, 671, 672, 673, 674, 675, 676, 677, 678,\n",
       "       679, 680, 681])"
      ]
     },
     "execution_count": 55,
     "metadata": {},
     "output_type": "execute_result"
    }
   ],
   "source": [
    "whole_corrmat_idx_np"
   ]
  },
  {
   "cell_type": "code",
   "execution_count": 77,
   "metadata": {},
   "outputs": [],
   "source": [
    "contain_ax = np.array(\n",
    "            [[all([c in a for c in 'pw'])]*11 for a in utils.ALL_AXES], dtype=int\n",
    "        ).flatten()"
   ]
  },
  {
   "cell_type": "code",
   "execution_count": 79,
   "metadata": {},
   "outputs": [
    {
     "data": {
      "text/plain": [
       "(341,)"
      ]
     },
     "execution_count": 79,
     "metadata": {},
     "output_type": "execute_result"
    }
   ],
   "source": [
    "contain_ax.shape"
   ]
  },
  {
   "cell_type": "code",
   "execution_count": 62,
   "metadata": {},
   "outputs": [
    {
     "data": {
      "text/plain": [
       "(341,)"
      ]
     },
     "execution_count": 62,
     "metadata": {},
     "output_type": "execute_result"
    }
   ],
   "source": [
    "whole_corrmat_idx_np.shape"
   ]
  },
  {
   "cell_type": "code",
   "execution_count": 83,
   "metadata": {},
   "outputs": [
    {
     "data": {
      "text/plain": [
       "[363,\n",
       " 364,\n",
       " 365,\n",
       " 366,\n",
       " 367,\n",
       " 368,\n",
       " 369,\n",
       " 370,\n",
       " 371,\n",
       " 372,\n",
       " 373,\n",
       " 374,\n",
       " 375,\n",
       " 376,\n",
       " 377,\n",
       " 378,\n",
       " 379,\n",
       " 380,\n",
       " 381,\n",
       " 382,\n",
       " 383,\n",
       " 384,\n",
       " 451,\n",
       " 452,\n",
       " 453,\n",
       " 454,\n",
       " 455,\n",
       " 456,\n",
       " 457,\n",
       " 458,\n",
       " 459,\n",
       " 460,\n",
       " 461,\n",
       " 462,\n",
       " 463,\n",
       " 464,\n",
       " 465,\n",
       " 466,\n",
       " 467,\n",
       " 468,\n",
       " 469,\n",
       " 470,\n",
       " 471,\n",
       " 472,\n",
       " 539,\n",
       " 540,\n",
       " 541,\n",
       " 542,\n",
       " 543,\n",
       " 544,\n",
       " 545,\n",
       " 546,\n",
       " 547,\n",
       " 548,\n",
       " 549,\n",
       " 550,\n",
       " 551,\n",
       " 552,\n",
       " 553,\n",
       " 554,\n",
       " 555,\n",
       " 556,\n",
       " 557,\n",
       " 558,\n",
       " 559,\n",
       " 560,\n",
       " 627,\n",
       " 628,\n",
       " 629,\n",
       " 630,\n",
       " 631,\n",
       " 632,\n",
       " 633,\n",
       " 634,\n",
       " 635,\n",
       " 636,\n",
       " 637,\n",
       " 638,\n",
       " 639,\n",
       " 640,\n",
       " 641,\n",
       " 642,\n",
       " 643,\n",
       " 644,\n",
       " 645,\n",
       " 646,\n",
       " 647,\n",
       " 648]"
      ]
     },
     "execution_count": 83,
     "metadata": {},
     "output_type": "execute_result"
    }
   ],
   "source": [
    "list(whole_corrmat_idx_np[contain_ax==1])"
   ]
  },
  {
   "cell_type": "code",
   "execution_count": 84,
   "metadata": {},
   "outputs": [],
   "source": [
    "a = np.random.rand(1000, 1000)"
   ]
  },
  {
   "cell_type": "code",
   "execution_count": 87,
   "metadata": {},
   "outputs": [
    {
     "data": {
      "text/plain": [
       "(3, 1000)"
      ]
     },
     "execution_count": 87,
     "metadata": {},
     "output_type": "execute_result"
    }
   ],
   "source": [
    "a[[1,2,3],:].shape"
   ]
  },
  {
   "cell_type": "code",
   "execution_count": null,
   "metadata": {},
   "outputs": [],
   "source": []
  }
 ],
 "metadata": {
  "kernelspec": {
   "display_name": "shapeymodular",
   "language": "python",
   "name": "python3"
  },
  "language_info": {
   "codemirror_mode": {
    "name": "ipython",
    "version": 3
   },
   "file_extension": ".py",
   "mimetype": "text/x-python",
   "name": "python",
   "nbconvert_exporter": "python",
   "pygments_lexer": "ipython3",
   "version": "3.9.16"
  },
  "orig_nbformat": 4
 },
 "nbformat": 4,
 "nbformat_minor": 2
}
