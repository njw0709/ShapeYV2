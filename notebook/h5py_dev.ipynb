{
 "cells": [
  {
   "cell_type": "code",
   "execution_count": 1,
   "metadata": {},
   "outputs": [],
   "source": [
    "import numpy as np"
   ]
  },
  {
   "cell_type": "code",
   "execution_count": 5,
   "metadata": {},
   "outputs": [],
   "source": [
    "a = np.random.rand(4000, 24) +1"
   ]
  },
  {
   "cell_type": "code",
   "execution_count": 6,
   "metadata": {},
   "outputs": [],
   "source": [
    "b = a.astype(np.uint32)"
   ]
  },
  {
   "cell_type": "code",
   "execution_count": 7,
   "metadata": {},
   "outputs": [
    {
     "data": {
      "text/plain": [
       "array([[1, 1, 1, ..., 1, 1, 1],\n",
       "       [1, 1, 1, ..., 1, 1, 1],\n",
       "       [1, 1, 1, ..., 1, 1, 1],\n",
       "       ...,\n",
       "       [1, 1, 1, ..., 1, 1, 1],\n",
       "       [1, 1, 1, ..., 1, 1, 1],\n",
       "       [1, 1, 1, ..., 1, 1, 1]], dtype=uint32)"
      ]
     },
     "execution_count": 7,
     "metadata": {},
     "output_type": "execute_result"
    }
   ],
   "source": [
    "b"
   ]
  },
  {
   "cell_type": "code",
   "execution_count": 21,
   "metadata": {},
   "outputs": [],
   "source": [
    "histcounts = np.apply_along_axis(\n",
    "        lambda x: np.histogram(x, bins=np.linspace(0, 1, 1001))[0], 0, a\n",
    "    )\n"
   ]
  },
  {
   "cell_type": "code",
   "execution_count": 22,
   "metadata": {},
   "outputs": [
    {
     "data": {
      "text/plain": [
       "(1000, 24)"
      ]
     },
     "execution_count": 22,
     "metadata": {},
     "output_type": "execute_result"
    }
   ],
   "source": [
    "histcounts.shape"
   ]
  },
  {
   "cell_type": "code",
   "execution_count": 23,
   "metadata": {},
   "outputs": [],
   "source": [
    "d = np.cumsum(histcounts, axis=1)"
   ]
  },
  {
   "cell_type": "code",
   "execution_count": 25,
   "metadata": {},
   "outputs": [
    {
     "data": {
      "text/plain": [
       "(1000, 24)"
      ]
     },
     "execution_count": 25,
     "metadata": {},
     "output_type": "execute_result"
    }
   ],
   "source": [
    "d.shape"
   ]
  },
  {
   "cell_type": "code",
   "execution_count": 28,
   "metadata": {},
   "outputs": [],
   "source": [
    "e = np.take(d, -1, axis=1)"
   ]
  },
  {
   "cell_type": "code",
   "execution_count": 29,
   "metadata": {},
   "outputs": [
    {
     "data": {
      "text/plain": [
       "True"
      ]
     },
     "execution_count": 29,
     "metadata": {},
     "output_type": "execute_result"
    }
   ],
   "source": [
    "np.allclose(e, d[:, -1])"
   ]
  },
  {
   "cell_type": "code",
   "execution_count": 1,
   "metadata": {},
   "outputs": [],
   "source": [
    "import numpy as np"
   ]
  },
  {
   "cell_type": "code",
   "execution_count": 2,
   "metadata": {},
   "outputs": [],
   "source": [
    "a = [np.zeros((1,1))]*3"
   ]
  },
  {
   "cell_type": "code",
   "execution_count": 4,
   "metadata": {},
   "outputs": [],
   "source": [
    "a[0] = 1"
   ]
  },
  {
   "cell_type": "code",
   "execution_count": 5,
   "metadata": {},
   "outputs": [
    {
     "data": {
      "text/plain": [
       "[1, array([[0.]]), array([[0.]])]"
      ]
     },
     "execution_count": 5,
     "metadata": {},
     "output_type": "execute_result"
    }
   ],
   "source": [
    "a"
   ]
  },
  {
   "cell_type": "code",
   "execution_count": 6,
   "metadata": {},
   "outputs": [],
   "source": [
    "a = np.random.random((3,5))"
   ]
  },
  {
   "cell_type": "code",
   "execution_count": 12,
   "metadata": {},
   "outputs": [],
   "source": [
    "b = np.random.random((3,5))"
   ]
  },
  {
   "cell_type": "code",
   "execution_count": 13,
   "metadata": {},
   "outputs": [],
   "source": [
    "c  = [a,b]"
   ]
  },
  {
   "cell_type": "code",
   "execution_count": 15,
   "metadata": {},
   "outputs": [],
   "source": [
    "d = np.concatenate(c, axis=1)"
   ]
  },
  {
   "cell_type": "code",
   "execution_count": 16,
   "metadata": {},
   "outputs": [
    {
     "data": {
      "text/plain": [
       "(3, 10)"
      ]
     },
     "execution_count": 16,
     "metadata": {},
     "output_type": "execute_result"
    }
   ],
   "source": [
    "d.shape"
   ]
  },
  {
   "cell_type": "code",
   "execution_count": 17,
   "metadata": {},
   "outputs": [],
   "source": [
    "a = [[]]*3"
   ]
  },
  {
   "cell_type": "code",
   "execution_count": 18,
   "metadata": {},
   "outputs": [
    {
     "data": {
      "text/plain": [
       "[[], [], []]"
      ]
     },
     "execution_count": 18,
     "metadata": {},
     "output_type": "execute_result"
    }
   ],
   "source": [
    "a"
   ]
  },
  {
   "cell_type": "code",
   "execution_count": 8,
   "metadata": {},
   "outputs": [],
   "source": [
    "import os"
   ]
  },
  {
   "cell_type": "code",
   "execution_count": 9,
   "metadata": {},
   "outputs": [],
   "source": [
    "a = os.listdir(\"/home/francis/nineCasesToRun\")"
   ]
  },
  {
   "cell_type": "code",
   "execution_count": 11,
   "metadata": {},
   "outputs": [
    {
     "data": {
      "text/plain": [
       "['kernels16_poolingMap1Left2Right',\n",
       " 'kernels12_poolingMap0Left1Right',\n",
       " 'kernels12_poolingMap1Left1Right',\n",
       " 'kernels24_poolingMap0Left1Right',\n",
       " 'kernels24_poolingMap1Left1Right']"
      ]
     },
     "execution_count": 11,
     "metadata": {},
     "output_type": "execute_result"
    }
   ],
   "source": [
    "a[:5]"
   ]
  },
  {
   "cell_type": "code",
   "execution_count": 12,
   "metadata": {},
   "outputs": [],
   "source": [
    "b = os.listdir(os.path.join(\"/home/francis/nineCasesToRun/\", a[0]))"
   ]
  },
  {
   "cell_type": "code",
   "execution_count": 13,
   "metadata": {},
   "outputs": [
    {
     "data": {
      "text/plain": [
       "['poolingMap.mat',\n",
       " 'kernels.mat',\n",
       " 'konturs.lst',\n",
       " 'triads.mat',\n",
       " 'config.json',\n",
       " 'features-results',\n",
       " 'features-results-l2p1,2',\n",
       " 'features-results-l2p0,1',\n",
       " 'features-results-l2p1,1']"
      ]
     },
     "execution_count": 13,
     "metadata": {},
     "output_type": "execute_result"
    }
   ],
   "source": [
    "b"
   ]
  },
  {
   "cell_type": "code",
   "execution_count": 15,
   "metadata": {},
   "outputs": [
    {
     "data": {
      "text/plain": [
       "['features-results-l2p1,2',\n",
       " 'features-results-l2p0,1',\n",
       " 'features-results-l2p1,1']"
      ]
     },
     "execution_count": 15,
     "metadata": {},
     "output_type": "execute_result"
    }
   ],
   "source": [
    "[fd for fd in os.listdir(os.path.join(\"/home/francis/nineCasesToRun/\", a[0])) if \"features-results-\" in fd]"
   ]
  },
  {
   "cell_type": "code",
   "execution_count": 16,
   "metadata": {},
   "outputs": [],
   "source": [
    "a = [1,2,3,4,5,6]"
   ]
  },
  {
   "cell_type": "code",
   "execution_count": 18,
   "metadata": {},
   "outputs": [
    {
     "data": {
      "text/plain": [
       "[1, 2, 3, 4, 5]"
      ]
     },
     "execution_count": 18,
     "metadata": {},
     "output_type": "execute_result"
    }
   ],
   "source": [
    "a[:5]"
   ]
  },
  {
   "cell_type": "code",
   "execution_count": 19,
   "metadata": {},
   "outputs": [
    {
     "data": {
      "text/plain": [
       "[6]"
      ]
     },
     "execution_count": 19,
     "metadata": {},
     "output_type": "execute_result"
    }
   ],
   "source": [
    "a[5:]"
   ]
  },
  {
   "cell_type": "code",
   "execution_count": 25,
   "metadata": {},
   "outputs": [],
   "source": [
    "import os\n",
    "import shutil"
   ]
  },
  {
   "cell_type": "code",
   "execution_count": 21,
   "metadata": {},
   "outputs": [],
   "source": [
    "dirname = '/home/francis/nineCasesToRun/'"
   ]
  },
  {
   "cell_type": "code",
   "execution_count": 22,
   "metadata": {},
   "outputs": [],
   "source": [
    "thresholds = os.listdir('../thresholds/')"
   ]
  },
  {
   "cell_type": "code",
   "execution_count": 27,
   "metadata": {},
   "outputs": [
    {
     "name": "stdout",
     "output_type": "stream",
     "text": [
      "kernels12_poolingMap1Left2Right_features-results-l2p1,2_thresholds.mat\n",
      "/home/francis/nineCasesToRun/kernels12_poolingMap1Left2Right/features-results-l2p1,2/thresholds.mat\n",
      "kernels16_poolingMap1Left2Right_features-results-l2p1,2_thresholds.mat\n",
      "/home/francis/nineCasesToRun/kernels16_poolingMap1Left2Right/features-results-l2p1,2/thresholds.mat\n",
      "kernels16_poolingMap1Left1Right_features-results-l2p0,1_thresholds.mat\n",
      "/home/francis/nineCasesToRun/kernels16_poolingMap1Left1Right/features-results-l2p0,1/thresholds.mat\n",
      "kernels12_poolingMap1Left1Right_features-results-l2p1,1_thresholds.mat\n",
      "/home/francis/nineCasesToRun/kernels12_poolingMap1Left1Right/features-results-l2p1,1/thresholds.mat\n",
      "kernels24_poolingMap0Left1Right_features-results-l2p0,1_thresholds.mat\n",
      "/home/francis/nineCasesToRun/kernels24_poolingMap0Left1Right/features-results-l2p0,1/thresholds.mat\n",
      "kernels24_poolingMap1Left2Right_features-results-l2p1,2_thresholds.mat\n",
      "/home/francis/nineCasesToRun/kernels24_poolingMap1Left2Right/features-results-l2p1,2/thresholds.mat\n",
      "kernels24_poolingMap1Left1Right_features-results-l2p1,1_thresholds.mat\n",
      "/home/francis/nineCasesToRun/kernels24_poolingMap1Left1Right/features-results-l2p1,1/thresholds.mat\n",
      "kernels12_poolingMap0Left1Right_features-results-l2p0,1_thresholds.mat\n",
      "/home/francis/nineCasesToRun/kernels12_poolingMap0Left1Right/features-results-l2p0,1/thresholds.mat\n",
      "kernels16_poolingMap0Left1Right_features-results-l2p1,1_thresholds.mat\n",
      "/home/francis/nineCasesToRun/kernels16_poolingMap0Left1Right/features-results-l2p1,1/thresholds.mat\n"
     ]
    }
   ],
   "source": [
    "for th in thresholds:\n",
    "    print(th)\n",
    "    parsed_filename = th.split('_')\n",
    "    kername = parsed_filename[0] + '_' + parsed_filename[1]\n",
    "    features_dir = parsed_filename[2]\n",
    "    filename = parsed_filename[3]\n",
    "    print(os.path.join(dirname, kername, features_dir, filename))\n",
    "    # shutil.copy(os.path.join('../thresholds/', th), os.path.join(dirname, kername, features_dir, filename))\n",
    "    os.remove(os.path.join(dirname, kername, features_dir, filename))"
   ]
  },
  {
   "cell_type": "code",
   "execution_count": 28,
   "metadata": {},
   "outputs": [
    {
     "data": {
      "text/plain": [
       "'/home/francis/nineCasesToRun/'"
      ]
     },
     "execution_count": 28,
     "metadata": {},
     "output_type": "execute_result"
    }
   ],
   "source": [
    "dirname"
   ]
  },
  {
   "cell_type": "code",
   "execution_count": 29,
   "metadata": {},
   "outputs": [],
   "source": [
    "import json"
   ]
  },
  {
   "cell_type": "code",
   "execution_count": 30,
   "metadata": {},
   "outputs": [],
   "source": [
    "with open('/home/francis/nineCasesToRun/kernels12_poolingMap1Left2Right/features-results-l2p1,2/config.json') as f:\n",
    "    data = json.load(f)"
   ]
  },
  {
   "cell_type": "code",
   "execution_count": 31,
   "metadata": {},
   "outputs": [
    {
     "data": {
      "text/plain": [
       "{'featuresContourMatrixName': 'twelveChannelOrigLmax',\n",
       " 'poolingKernelsFileName': '/home/francis/nineCasesToRun/kernels12_poolingMap1Left2Right/kernels.mat',\n",
       " 'poolingKernelsMatrixName': 'kernels',\n",
       " 'featuresL1PoolingNeighborsFileName': '/home/francis/nineCasesToRun/kernels12_poolingMap1Left2Right/poolingMap.mat',\n",
       " 'featuresL1PoolingNeighborsMatrixName': 'poolingMap',\n",
       " 'triadsFileName': '/home/francis/nineCasesToRun/kernels12_poolingMap1Left2Right/triads.mat',\n",
       " 'triadsMatrixName': 'triads',\n",
       " 'featuresL2PoolingLeftNeighbors': 1,\n",
       " 'featuresL2PoolingRightNeighbors': 2}"
      ]
     },
     "execution_count": 31,
     "metadata": {},
     "output_type": "execute_result"
    }
   ],
   "source": [
    "data"
   ]
  },
  {
   "cell_type": "code",
   "execution_count": null,
   "metadata": {},
   "outputs": [],
   "source": [
    "data[\"featuresThresholdsFileName\"] = "
   ]
  },
  {
   "cell_type": "code",
   "execution_count": 33,
   "metadata": {},
   "outputs": [],
   "source": [
    "for kerdir in os.listdir(dirname):\n",
    "    features_dir = [f for f in os.listdir(os.path.join(dirname, kerdir)) if 'features-results-' in f]\n",
    "    for fd in features_dir:\n",
    "        with open(os.path.join(dirname, kerdir, fd, 'config.json')) as f:\n",
    "            configs = json.load(f)\n",
    "        configs[\"featuresThresholdsFileName\"] = os.path.join(dirname, kerdir, fd, 'thresholds.mat')\n",
    "        with open(os.path.join(dirname, kerdir, fd, 'config.json'), 'w') as f:\n",
    "            json.dump(configs, f)"
   ]
  },
  {
   "attachments": {},
   "cell_type": "markdown",
   "metadata": {},
   "source": [
    "dir = '/home/francis/nineCasesToRun/kernels12_poolingMap0Left1Right/features-results-l2p0,1'"
   ]
  },
  {
   "cell_type": "code",
   "execution_count": 34,
   "metadata": {},
   "outputs": [],
   "source": [
    "d = '/home/francis/nineCasesToRun/kernels12_poolingMap0Left1Right/features-results-l2p0,1'"
   ]
  },
  {
   "cell_type": "code",
   "execution_count": 35,
   "metadata": {},
   "outputs": [],
   "source": [
    "thres = os.path.join(d, 'thresholds.mat')"
   ]
  },
  {
   "cell_type": "code",
   "execution_count": 38,
   "metadata": {},
   "outputs": [],
   "source": [
    "feat_file = os.listdir(d)[0]"
   ]
  },
  {
   "cell_type": "code",
   "execution_count": 39,
   "metadata": {},
   "outputs": [
    {
     "data": {
      "text/plain": [
       "'features_guitar_da8ee6c488a2f4e093f806b1ecaee483-x06.mat'"
      ]
     },
     "execution_count": 39,
     "metadata": {},
     "output_type": "execute_result"
    }
   ],
   "source": [
    "feat_file"
   ]
  },
  {
   "cell_type": "code",
   "execution_count": 36,
   "metadata": {},
   "outputs": [],
   "source": [
    "import h5py"
   ]
  },
  {
   "cell_type": "code",
   "execution_count": 37,
   "metadata": {},
   "outputs": [
    {
     "name": "stdout",
     "output_type": "stream",
     "text": [
      "['features_threshold_0', 'features_threshold_1', 'features_threshold_2', 'features_threshold_3', 'features_threshold_4', 'features_threshold_5']\n"
     ]
    }
   ],
   "source": [
    "with h5py.File(thres, 'r') as f:\n",
    "    print(list(f.keys()))"
   ]
  },
  {
   "cell_type": "code",
   "execution_count": 56,
   "metadata": {},
   "outputs": [
    {
     "name": "stdout",
     "output_type": "stream",
     "text": [
      "['l2pool_0', 'l2pool_1', 'l2pool_2']\n"
     ]
    }
   ],
   "source": [
    "d = '/home/francis/nineCasesToRun/kernels16_poolingMap1Left2Right/features-results-l2p1,2'\n",
    "with h5py.File(os.path.join(d, feat_file), 'r') as hf:\n",
    "    print(list(hf.keys()))\n",
    "    data = hf['l2pool_0'][:]"
   ]
  },
  {
   "cell_type": "code",
   "execution_count": 58,
   "metadata": {},
   "outputs": [
    {
     "data": {
      "text/plain": [
       "(4000, 24)"
      ]
     },
     "execution_count": 58,
     "metadata": {},
     "output_type": "execute_result"
    }
   ],
   "source": [
    "data.shape"
   ]
  },
  {
   "cell_type": "code",
   "execution_count": 54,
   "metadata": {},
   "outputs": [
    {
     "name": "stdout",
     "output_type": "stream",
     "text": [
      "checking: /home/francis/nineCasesToRun/kernels16_poolingMap1Left2Right/features-results-l2p1,2\n",
      "<KeysViewHDF5 ['l2pool_0', 'l2pool_1', 'l2pool_2']>\n",
      "/home/francis/nineCasesToRun/kernels16_poolingMap1Left2Right/features-results-l2p1,2\n",
      "filename features_mug_6aec84952a5ffcf33f60d03e1cb068dc-y06.mat\n",
      "checking: /home/francis/nineCasesToRun/kernels16_poolingMap1Left2Right/features-results-l2p0,1\n",
      "checking: /home/francis/nineCasesToRun/kernels16_poolingMap1Left2Right/features-results-l2p1,1\n",
      "<KeysViewHDF5 ['l2pool_0', 'l2pool_1', 'l2pool_2']>\n",
      "/home/francis/nineCasesToRun/kernels16_poolingMap1Left2Right/features-results-l2p1,1\n",
      "filename features_headphone_2b28e2a5080101d245af43a64155c221-xp07.mat\n",
      "checking: /home/francis/nineCasesToRun/kernels12_poolingMap0Left1Right/features-results-l2p0,1\n",
      "checking: /home/francis/nineCasesToRun/kernels12_poolingMap0Left1Right/features-results-l2p1,1\n",
      "<KeysViewHDF5 ['l2pool_0', 'l2pool_1', 'l2pool_2']>\n",
      "/home/francis/nineCasesToRun/kernels12_poolingMap0Left1Right/features-results-l2p1,1\n",
      "filename features_rocket_731db7871e19a2efddf75684fdf930e6-xw08.mat\n",
      "checking: /home/francis/nineCasesToRun/kernels12_poolingMap0Left1Right/features-results-l2p1,2\n",
      "<KeysViewHDF5 ['l2pool_0', 'l2pool_1', 'l2pool_2']>\n",
      "/home/francis/nineCasesToRun/kernels12_poolingMap0Left1Right/features-results-l2p1,2\n",
      "filename features_chair_7e190338d3f213c3f7b1230869d2b89c-xprw04.mat\n",
      "checking: /home/francis/nineCasesToRun/kernels12_poolingMap1Left1Right/features-results-l2p1,1\n",
      "<KeysViewHDF5 ['l2pool_0', 'l2pool_1', 'l2pool_2']>\n",
      "/home/francis/nineCasesToRun/kernels12_poolingMap1Left1Right/features-results-l2p1,1\n",
      "filename features_printer_97735b38d3b229d5e8be809ecac11dd-p02.mat\n",
      "checking: /home/francis/nineCasesToRun/kernels12_poolingMap1Left1Right/features-results-l2p0,1\n",
      "checking: /home/francis/nineCasesToRun/kernels12_poolingMap1Left1Right/features-results-l2p1,2\n",
      "<KeysViewHDF5 ['l2pool_0', 'l2pool_1', 'l2pool_2']>\n",
      "/home/francis/nineCasesToRun/kernels12_poolingMap1Left1Right/features-results-l2p1,2\n",
      "filename features_bunk bed_e07dffd4c5607a6672b7738d7a601564-x06.mat\n",
      "checking: /home/francis/nineCasesToRun/kernels24_poolingMap0Left1Right/features-results-l2p0,1\n",
      "checking: /home/francis/nineCasesToRun/kernels24_poolingMap0Left1Right/features-results-l2p1,1\n",
      "<KeysViewHDF5 ['l2pool_0', 'l2pool_1', 'l2pool_2']>\n",
      "/home/francis/nineCasesToRun/kernels24_poolingMap0Left1Right/features-results-l2p1,1\n",
      "filename features_bunk bed_aff661c669a2bb4fe3fb5e8ccfbdda1f-yprw08.mat\n",
      "checking: /home/francis/nineCasesToRun/kernels24_poolingMap0Left1Right/features-results-l2p1,2\n",
      "<KeysViewHDF5 ['l2pool_0', 'l2pool_1', 'l2pool_2']>\n",
      "/home/francis/nineCasesToRun/kernels24_poolingMap0Left1Right/features-results-l2p1,2\n",
      "filename features_sofa_e491dc151c8e801186abe5555a3b447d-yw09.mat\n",
      "checking: /home/francis/nineCasesToRun/kernels24_poolingMap1Left1Right/features-results-l2p1,2\n",
      "<KeysViewHDF5 ['l2pool_0', 'l2pool_1', 'l2pool_2']>\n",
      "/home/francis/nineCasesToRun/kernels24_poolingMap1Left1Right/features-results-l2p1,2\n",
      "filename features_bag_83ab18386e87bf4efef598dabc93c115-xyw10.mat\n",
      "checking: /home/francis/nineCasesToRun/kernels24_poolingMap1Left1Right/features-results-l2p1,1\n",
      "<KeysViewHDF5 ['l2pool_0', 'l2pool_1', 'l2pool_2']>\n",
      "/home/francis/nineCasesToRun/kernels24_poolingMap1Left1Right/features-results-l2p1,1\n",
      "filename features_motorcycle_49b7ec863c4599aabd1734e75169b9e0-yp11.mat\n",
      "checking: /home/francis/nineCasesToRun/kernels24_poolingMap1Left1Right/features-results-l2p0,1\n",
      "checking: /home/francis/nineCasesToRun/kernels12_poolingMap1Left2Right/features-results-l2p0,1\n",
      "checking: /home/francis/nineCasesToRun/kernels12_poolingMap1Left2Right/features-results-l2p1,1\n",
      "<KeysViewHDF5 ['l2pool_0', 'l2pool_1', 'l2pool_2']>\n",
      "/home/francis/nineCasesToRun/kernels12_poolingMap1Left2Right/features-results-l2p1,1\n",
      "filename features_train_d2a55d5745da47892aa93fe7a6076a9-pw08.mat\n",
      "checking: /home/francis/nineCasesToRun/kernels12_poolingMap1Left2Right/features-results-l2p1,2\n",
      "<KeysViewHDF5 ['l2pool_0', 'l2pool_1', 'l2pool_2']>\n",
      "/home/francis/nineCasesToRun/kernels12_poolingMap1Left2Right/features-results-l2p1,2\n",
      "filename features_camera_17a010f0ade4d1fd83a3e53900c6cbba-xw01.mat\n",
      "checking: /home/francis/nineCasesToRun/kernels16_poolingMap0Left1Right/features-results-l2p1,2\n",
      "<KeysViewHDF5 ['l2pool_0', 'l2pool_1', 'l2pool_2']>\n",
      "/home/francis/nineCasesToRun/kernels16_poolingMap0Left1Right/features-results-l2p1,2\n",
      "filename features_birdhouse_f04ba261ea073ef9390cc49064ed7b4d-r03.mat\n",
      "checking: /home/francis/nineCasesToRun/kernels16_poolingMap0Left1Right/features-results-l2p0,1\n",
      "checking: /home/francis/nineCasesToRun/kernels16_poolingMap0Left1Right/features-results-l2p1,1\n",
      "<KeysViewHDF5 ['l2pool_0', 'l2pool_1', 'l2pool_2']>\n",
      "/home/francis/nineCasesToRun/kernels16_poolingMap0Left1Right/features-results-l2p1,1\n",
      "filename features_bag_e90e27c3020d25dd76bb31db0358e9c6-xypw06.mat\n",
      "checking: /home/francis/nineCasesToRun/kernels16_poolingMap1Left1Right/features-results-l2p1,2\n",
      "<KeysViewHDF5 ['l2pool_0', 'l2pool_1', 'l2pool_2']>\n",
      "/home/francis/nineCasesToRun/kernels16_poolingMap1Left1Right/features-results-l2p1,2\n",
      "filename features_airplane_f7c2edc1beeedd006e68e46a69a2d96d-y05.mat\n",
      "checking: /home/francis/nineCasesToRun/kernels16_poolingMap1Left1Right/features-results-l2p0,1\n",
      "checking: /home/francis/nineCasesToRun/kernels16_poolingMap1Left1Right/features-results-l2p1,1\n",
      "<KeysViewHDF5 ['l2pool_0', 'l2pool_1', 'l2pool_2']>\n",
      "/home/francis/nineCasesToRun/kernels16_poolingMap1Left1Right/features-results-l2p1,1\n",
      "filename features_bag_83ab18386e87bf4efef598dabc93c115-yr11.mat\n",
      "checking: /home/francis/nineCasesToRun/kernels24_poolingMap1Left2Right/features-results-l2p0,1\n",
      "checking: /home/francis/nineCasesToRun/kernels24_poolingMap1Left2Right/features-results-l2p1,1\n",
      "<KeysViewHDF5 ['l2pool_0', 'l2pool_1', 'l2pool_2']>\n",
      "/home/francis/nineCasesToRun/kernels24_poolingMap1Left2Right/features-results-l2p1,1\n",
      "filename features_sofa_3c56ceef171fa142126c0b0ea3ea0a2c-ypw07.mat\n",
      "checking: /home/francis/nineCasesToRun/kernels24_poolingMap1Left2Right/features-results-l2p1,2\n",
      "<KeysViewHDF5 ['l2pool_0', 'l2pool_1', 'l2pool_2']>\n",
      "/home/francis/nineCasesToRun/kernels24_poolingMap1Left2Right/features-results-l2p1,2\n",
      "filename features_pot_4fcc70a519fac2a3f11c3739edd52fa3-xyp01.mat\n"
     ]
    }
   ],
   "source": [
    "import sys\n",
    "sys.path.append('../')\n",
    "import random\n",
    "import shapeymodular.utils as utils\n",
    "for kerdir in os.listdir(dirname):\n",
    "    features_dir = [f for f in os.listdir(os.path.join(dirname, kerdir)) if 'features-results-' in f]\n",
    "    for fd in features_dir:\n",
    "        allfiles = os.listdir(os.path.join(dirname, kerdir, fd))\n",
    "        features = []\n",
    "        print(\"checking: {}\".format(os.path.join(dirname, kerdir, fd)))\n",
    "        for f in random.sample(allfiles, 1000):\n",
    "            if \".mat\" in f and \"features_\" in f:\n",
    "                imgname = f.split(\"features_\")[1].split(\".mat\")[0] + \".png\"\n",
    "                if imgname in utils.SHAPEY200_IMGNAMES:\n",
    "                    features.append(f)\n",
    "        for f in features:\n",
    "            with h5py.File(os.path.join(dirname, kerdir, fd, f), 'r') as hf:\n",
    "                if len(list(hf.keys())) != 6:\n",
    "                    print(hf.keys())\n",
    "                    print(os.path.join(dirname, kerdir, fd))\n",
    "                    print(\"filename {}\".format(f))\n",
    "                    break\n",
    "                elif \"detected_0\" not in list(hf.keys()):\n",
    "                    print(os.path.join(dirname, kerdir, fd))\n",
    "                    print(\"filename {}\".format(f))\n",
    "                    break"
   ]
  },
  {
   "cell_type": "code",
   "execution_count": 1,
   "metadata": {},
   "outputs": [],
   "source": [
    "d = '/home/francis/nineCasesToRun/kernels16_poolingMap1Left2Right/features-results-l2p0,1'"
   ]
  },
  {
   "cell_type": "code",
   "execution_count": 3,
   "metadata": {},
   "outputs": [],
   "source": [
    "import os\n",
    "files = [f for f in os.listdir(d) if \"features_\" in f and \"mat\" in f]"
   ]
  },
  {
   "cell_type": "code",
   "execution_count": 6,
   "metadata": {},
   "outputs": [
    {
     "name": "stdout",
     "output_type": "stream",
     "text": [
      "['detected_0', 'detected_1', 'detected_2', 'l2pool_0', 'l2pool_1', 'l2pool_2']\n",
      "/home/francis/nineCasesToRun/kernels16_poolingMap1Left2Right/features-results-l2p0,1/features_camera_c9c9ffd08af8b268b52759c2c2fc0d1e-xypr11.mat\n"
     ]
    }
   ],
   "source": [
    "import h5py\n",
    "with h5py.File(os.path.join(d, files[0]), 'r') as hf:\n",
    "    print(list(hf.keys()))\n",
    "    print(os.path.join(d, files[0]))"
   ]
  },
  {
   "cell_type": "code",
   "execution_count": 7,
   "metadata": {},
   "outputs": [],
   "source": [
    "f = '/home/namj/projects/ShapeYTriad/data/raw/diads12ChannelsRegularLmax/features-with-diads12ChannelsRegularLmax/features_airplane_7b134f6573e7270fb0a79e28606cb167-p01.mat'"
   ]
  },
  {
   "cell_type": "code",
   "execution_count": 8,
   "metadata": {},
   "outputs": [
    {
     "name": "stdout",
     "output_type": "stream",
     "text": [
      "['subframe_0', 'subframe_1', 'subframe_2']\n"
     ]
    }
   ],
   "source": [
    "with h5py.File(f, 'r') as hf:\n",
    "    print(list(hf.keys()))"
   ]
  },
  {
   "cell_type": "code",
   "execution_count": 1,
   "metadata": {},
   "outputs": [],
   "source": [
    "import h5py"
   ]
  },
  {
   "cell_type": "code",
   "execution_count": 61,
   "metadata": {},
   "outputs": [],
   "source": [
    "v1_path ='/home/namj/projects/ShapeYV2/shapeymodular/test/test_data/cross_version_test_data/analysis_results_v1/diads12ChannelsRegularLmax-Jaccard_results.mat'\n",
    "v2_path = '/home/namj/projects/ShapeYV2/shapeymodular/test/test_data/cross_version_test_data/analysis_results_v2/diads12ChannelsRegularLmax-Jaccard_results.h5'"
   ]
  },
  {
   "cell_type": "code",
   "execution_count": 63,
   "metadata": {},
   "outputs": [],
   "source": [
    "hf.close()\n",
    "hf_v2.close()"
   ]
  },
  {
   "cell_type": "code",
   "execution_count": 64,
   "metadata": {},
   "outputs": [],
   "source": [
    "hf = h5py.File(v1_path, 'r')\n",
    "hf_v2 = h5py.File(v2_path, 'r')"
   ]
  },
  {
   "cell_type": "code",
   "execution_count": 102,
   "metadata": {},
   "outputs": [],
   "source": [
    "top1_cvals_otherobj_v2 = hf_v2['airplane_53c7a6b56afb63807222da102ac36d2b/pw/top1_cvals_otherobj'][:]\n",
    "top1_idx_otherobj_v2 = hf_v2['airplane_53c7a6b56afb63807222da102ac36d2b/pw/top1_idx_otherobj'][:]"
   ]
  },
  {
   "cell_type": "code",
   "execution_count": 103,
   "metadata": {},
   "outputs": [],
   "source": [
    "top1_cvals_otherobj_v1 = hf['original/airplane_53c7a6b56afb63807222da102ac36d2b/pw/top1_cvals_otherobj'][:]\n",
    "top1_idx_otherobj_v1 = hf['original/airplane_53c7a6b56afb63807222da102ac36d2b/pw/top1_idx_otherobj'][:]"
   ]
  },
  {
   "cell_type": "code",
   "execution_count": 108,
   "metadata": {},
   "outputs": [],
   "source": [
    "top1_cvals_otherobj_v1 = np.expand_dims(top1_cvals_otherobj_v1, axis=1)"
   ]
  },
  {
   "cell_type": "code",
   "execution_count": 111,
   "metadata": {},
   "outputs": [],
   "source": [
    "not_equal_idxs = np.transpose(np.where(~np.isclose(top1_cvals_otherobj_v1, top1_cvals_otherobj_v2)))"
   ]
  },
  {
   "cell_type": "code",
   "execution_count": 114,
   "metadata": {},
   "outputs": [
    {
     "name": "stdout",
     "output_type": "stream",
     "text": [
      "nan\n",
      "0.0\n"
     ]
    }
   ],
   "source": [
    "for r, c, in not_equal_idxs:\n",
    "    print(top1_cvals_otherobj_v1[r, c])\n",
    "    print(top1_cvals_otherobj_v2[r, c])\n"
   ]
  },
  {
   "cell_type": "code",
   "execution_count": 105,
   "metadata": {},
   "outputs": [
    {
     "data": {
      "text/plain": [
       "array([  802, 58013, 32878, 59002, 30628, 30386, 30386,  3079,  3079,\n",
       "         130,   131])"
      ]
     },
     "execution_count": 105,
     "metadata": {},
     "output_type": "execute_result"
    }
   ],
   "source": [
    "top1_idx_otherobj_v1"
   ]
  },
  {
   "cell_type": "code",
   "execution_count": 106,
   "metadata": {},
   "outputs": [
    {
     "data": {
      "text/plain": [
       "array([[    0],\n",
       "       [58013],\n",
       "       [32878],\n",
       "       [59002],\n",
       "       [30628],\n",
       "       [30386],\n",
       "       [30386],\n",
       "       [ 3079],\n",
       "       [ 3079],\n",
       "       [  130],\n",
       "       [  131]])"
      ]
     },
     "execution_count": 106,
     "metadata": {},
     "output_type": "execute_result"
    }
   ],
   "source": [
    "top1_idx_otherobj_v2"
   ]
  },
  {
   "cell_type": "code",
   "execution_count": 91,
   "metadata": {},
   "outputs": [],
   "source": [
    "top1_per_obj_v1 = hf['original/airplane_53c7a6b56afb63807222da102ac36d2b/pw/top1_per_obj_cvals'][:]\n",
    "top1_per_obj_v2 = hf_v2['airplane_53c7a6b56afb63807222da102ac36d2b/pw/']['top1_per_obj_cvals'][:]"
   ]
  },
  {
   "cell_type": "code",
   "execution_count": 93,
   "metadata": {},
   "outputs": [
    {
     "data": {
      "text/plain": [
       "array([ 0.,  0., nan,  0., nan,  0.,  0., nan, nan,  0.,  0.,  0.,  0.,\n",
       "        0.,  0.,  0.,  0.,  0.,  0.,  0.,  0.,  0.,  0.,  0.,  0.,  0.,\n",
       "        0.,  0.,  0., nan,  0.,  0.,  0., nan,  0.,  0.,  0.,  0.,  0.,\n",
       "        0.,  0.,  0.,  0.,  0.,  0.,  0.,  0.,  0.,  0.,  0.,  0.,  0.,\n",
       "        0.,  0.,  0.,  0.,  0.,  0.,  0.,  0.,  0.,  0.,  0.,  0.,  0.,\n",
       "        0.,  0.,  0.,  0.,  0., nan,  0.,  0.,  0.,  0.,  0.,  0.,  0.,\n",
       "        0.,  0.,  0.,  0.,  0.,  0.,  0.,  0.,  0.,  0., nan, nan, nan,\n",
       "       nan,  0., nan, nan, nan, nan, nan, nan,  0.,  0.,  0.,  0.,  0.,\n",
       "        0.,  0.,  0.,  0.,  0.,  0.,  0.,  0.,  0.,  0.,  0.,  0.,  0.,\n",
       "        0., nan,  0.,  0.,  0.,  0.,  0.,  0.,  0.,  0.,  0.,  0.,  0.,\n",
       "        0., nan,  0.,  0.,  0.,  0.,  0.,  0.,  0.,  0., nan,  0., nan,\n",
       "        0.,  0., nan,  0.,  0.,  0.,  0., nan,  0.,  0.,  0.,  0.,  0.,\n",
       "        0.,  0.,  0.,  0.,  0.,  0.,  0.,  0.,  0.,  0.,  0.,  0.,  0.,\n",
       "       nan,  0., nan, nan, nan, nan, nan, nan, nan,  0.,  0.,  0.,  0.,\n",
       "        0.,  0.,  0.,  0.,  0.,  0.,  0.,  0.,  0.,  0.,  0., nan, nan,\n",
       "        0.,  0.,  0.,  0.])"
      ]
     },
     "execution_count": 93,
     "metadata": {},
     "output_type": "execute_result"
    }
   ],
   "source": [
    "top1_per_obj_v1[0,:]"
   ]
  },
  {
   "cell_type": "code",
   "execution_count": 94,
   "metadata": {},
   "outputs": [
    {
     "data": {
      "text/plain": [
       "array([0., 0., 0., 0., 0., 0., 0., 0., 0., 0., 0., 0., 0., 0., 0., 0., 0.,\n",
       "       0., 0., 0., 0., 0., 0., 0., 0., 0., 0., 0., 0., 0., 0., 0., 0., 0.,\n",
       "       0., 0., 0., 0., 0., 0., 0., 0., 0., 0., 0., 0., 0., 0., 0., 0., 0.,\n",
       "       0., 0., 0., 0., 0., 0., 0., 0., 0., 0., 0., 0., 0., 0., 0., 0., 0.,\n",
       "       0., 0., 0., 0., 0., 0., 0., 0., 0., 0., 0., 0., 0., 0., 0., 0., 0.,\n",
       "       0., 0., 0., 0., 0., 0., 0., 0., 0., 0., 0., 0., 0., 0., 0., 0., 0.,\n",
       "       0., 0., 0., 0., 0., 0., 0., 0., 0., 0., 0., 0., 0., 0., 0., 0., 0.,\n",
       "       0., 0., 0., 0., 0., 0., 0., 0., 0., 0., 0., 0., 0., 0., 0., 0., 0.,\n",
       "       0., 0., 0., 0., 0., 0., 0., 0., 0., 0., 0., 0., 0., 0., 0., 0., 0.,\n",
       "       0., 0., 0., 0., 0., 0., 0., 0., 0., 0., 0., 0., 0., 0., 0., 0., 0.,\n",
       "       0., 0., 0., 0., 0., 0., 0., 0., 0., 0., 0., 0., 0., 0., 0., 0., 0.,\n",
       "       0., 0., 0., 0., 0., 0., 0., 0., 0., 0., 0., 0.])"
      ]
     },
     "execution_count": 94,
     "metadata": {},
     "output_type": "execute_result"
    }
   ],
   "source": [
    "top1_per_obj_v2[0,:]"
   ]
  },
  {
   "cell_type": "code",
   "execution_count": 1,
   "metadata": {},
   "outputs": [],
   "source": [
    "import sys\n",
    "sys.path.append('../')\n",
    "import shapeymodular.utils as utils"
   ]
  },
  {
   "cell_type": "code",
   "execution_count": 97,
   "metadata": {},
   "outputs": [
    {
     "data": {
      "text/plain": [
       "3"
      ]
     },
     "execution_count": 97,
     "metadata": {},
     "output_type": "execute_result"
    }
   ],
   "source": [
    "utils.SHAPEY200_OBJS.index('airplane_53c7a6b56afb63807222da102ac36d2b')"
   ]
  },
  {
   "cell_type": "code",
   "execution_count": 2,
   "metadata": {},
   "outputs": [],
   "source": [
    "import numpy as np"
   ]
  },
  {
   "cell_type": "code",
   "execution_count": 8,
   "metadata": {},
   "outputs": [],
   "source": [
    "in_same_objcat = np.array(\n",
    "                    [\n",
    "                        utils.ImageNameHelper.get_obj_category_from_objname(utils.SHAPEY200_OBJS[0])\n",
    "                        == utils.ImageNameHelper.get_obj_category_from_objname(\n",
    "                            other_obj\n",
    "                        )\n",
    "                        for other_obj in utils.SHAPEY200_OBJS\n",
    "                        if other_obj != utils.SHAPEY200_OBJS[0]\n",
    "                    ]\n",
    "                )"
   ]
  },
  {
   "cell_type": "code",
   "execution_count": 9,
   "metadata": {},
   "outputs": [
    {
     "data": {
      "text/plain": [
       "array([ True,  True,  True,  True,  True,  True,  True,  True,  True,\n",
       "       False, False, False, False, False, False, False, False, False,\n",
       "       False, False, False, False, False, False, False, False, False,\n",
       "       False, False, False, False, False, False, False, False, False,\n",
       "       False, False, False, False, False, False, False, False, False,\n",
       "       False, False, False, False, False, False, False, False, False,\n",
       "       False, False, False, False, False, False, False, False, False,\n",
       "       False, False, False, False, False, False, False, False, False,\n",
       "       False, False, False, False, False, False, False, False, False,\n",
       "       False, False, False, False, False, False, False, False, False,\n",
       "       False, False, False, False, False, False, False, False, False,\n",
       "       False, False, False, False, False, False, False, False, False,\n",
       "       False, False, False, False, False, False, False, False, False,\n",
       "       False, False, False, False, False, False, False, False, False,\n",
       "       False, False, False, False, False, False, False, False, False,\n",
       "       False, False, False, False, False, False, False, False, False,\n",
       "       False, False, False, False, False, False, False, False, False,\n",
       "       False, False, False, False, False, False, False, False, False,\n",
       "       False, False, False, False, False, False, False, False, False,\n",
       "       False, False, False, False, False, False, False, False, False,\n",
       "       False, False, False, False, False, False, False, False, False,\n",
       "       False, False, False, False, False, False, False, False, False,\n",
       "       False])"
      ]
     },
     "execution_count": 9,
     "metadata": {},
     "output_type": "execute_result"
    }
   ],
   "source": [
    "in_same_objcat"
   ]
  },
  {
   "cell_type": "code",
   "execution_count": 10,
   "metadata": {},
   "outputs": [],
   "source": [
    "same_obj_mask = np.tile(\n",
    "                    in_same_objcat, (11, 1)\n",
    "                )"
   ]
  },
  {
   "cell_type": "code",
   "execution_count": 12,
   "metadata": {},
   "outputs": [
    {
     "data": {
      "text/plain": [
       "(11, 199)"
      ]
     },
     "execution_count": 12,
     "metadata": {},
     "output_type": "execute_result"
    }
   ],
   "source": [
    "same_obj_mask.shape"
   ]
  },
  {
   "cell_type": "code",
   "execution_count": 1,
   "metadata": {},
   "outputs": [],
   "source": [
    "import numpy as np"
   ]
  },
  {
   "cell_type": "code",
   "execution_count": 31,
   "metadata": {},
   "outputs": [],
   "source": [
    "a = np.linspace(0, 10, 11)\n",
    "b = np.linspace(0, 10, 11)\n",
    "c = np.linspace(1, 11, 11)\n",
    "d = [a, b, c]"
   ]
  },
  {
   "cell_type": "code",
   "execution_count": 40,
   "metadata": {},
   "outputs": [],
   "source": [
    "m = np.mean(d, axis=0)"
   ]
  },
  {
   "cell_type": "code",
   "execution_count": 54,
   "metadata": {},
   "outputs": [
    {
     "data": {
      "text/plain": [
       "array([0.57735027, 0.57735027, 0.57735027, 0.57735027, 0.57735027,\n",
       "       0.57735027, 0.57735027, 0.57735027, 0.57735027, 0.57735027,\n",
       "       0.57735027])"
      ]
     },
     "execution_count": 54,
     "metadata": {},
     "output_type": "execute_result"
    }
   ],
   "source": [
    "(((d-m)**2).sum(axis=0)/2)**0.5"
   ]
  },
  {
   "cell_type": "code",
   "execution_count": 52,
   "metadata": {},
   "outputs": [
    {
     "data": {
      "text/plain": [
       "array([0.57735027, 0.57735027, 0.57735027, 0.57735027, 0.57735027,\n",
       "       0.57735027, 0.57735027, 0.57735027, 0.57735027, 0.57735027,\n",
       "       0.57735027])"
      ]
     },
     "execution_count": 52,
     "metadata": {},
     "output_type": "execute_result"
    }
   ],
   "source": [
    "np.std(d, axis=0, ddof=1)"
   ]
  },
  {
   "cell_type": "code",
   "execution_count": 45,
   "metadata": {},
   "outputs": [
    {
     "data": {
      "text/plain": [
       "0.27216552698271285"
      ]
     },
     "execution_count": 45,
     "metadata": {},
     "output_type": "execute_result"
    }
   ],
   "source": [
    "np.sqrt((1-0.33333)**2+(-0.33333)**2 + (-0.33333)**2)/3"
   ]
  },
  {
   "cell_type": "code",
   "execution_count": null,
   "metadata": {},
   "outputs": [],
   "source": []
  }
 ],
 "metadata": {
  "kernelspec": {
   "display_name": "shapeymodular",
   "language": "python",
   "name": "python3"
  },
  "language_info": {
   "codemirror_mode": {
    "name": "ipython",
    "version": 3
   },
   "file_extension": ".py",
   "mimetype": "text/x-python",
   "name": "python",
   "nbconvert_exporter": "python",
   "pygments_lexer": "ipython3",
   "version": "3.9.16"
  },
  "orig_nbformat": 4
 },
 "nbformat": 4,
 "nbformat_minor": 2
}
