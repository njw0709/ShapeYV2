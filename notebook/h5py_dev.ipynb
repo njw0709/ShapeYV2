{
 "cells": [
  {
   "cell_type": "code",
   "execution_count": 5,
   "metadata": {},
   "outputs": [],
   "source": [
    "a = ['123-p01.png']"
   ]
  },
  {
   "cell_type": "code",
   "execution_count": 6,
   "metadata": {},
   "outputs": [],
   "source": [
    "import numpy as np"
   ]
  },
  {
   "cell_type": "code",
   "execution_count": 9,
   "metadata": {},
   "outputs": [],
   "source": [
    "axes_of_interest = np.unique(\n",
    "            np.array([c.split(\"-\")[1].split(\".\")[0][:-2] for c in a])\n",
    "        )"
   ]
  },
  {
   "cell_type": "code",
   "execution_count": 10,
   "metadata": {},
   "outputs": [
    {
     "data": {
      "text/plain": [
       "array(['p'], dtype='<U1')"
      ]
     },
     "execution_count": 10,
     "metadata": {},
     "output_type": "execute_result"
    }
   ],
   "source": [
    "axes_of_interest"
   ]
  },
  {
   "cell_type": "code",
   "execution_count": 11,
   "metadata": {},
   "outputs": [
    {
     "name": "stdout",
     "output_type": "stream",
     "text": [
      "1\n",
      "2\n",
      "3\n",
      "4\n",
      "5\n",
      "6\n",
      "7\n",
      "8\n",
      "9\n"
     ]
    }
   ],
   "source": [
    "for i in range(1, 10):\n",
    "    print(i)"
   ]
  },
  {
   "cell_type": "code",
   "execution_count": 5,
   "metadata": {},
   "outputs": [],
   "source": [
    "import os\n",
    "import numpy as np"
   ]
  },
  {
   "cell_type": "code",
   "execution_count": 6,
   "metadata": {},
   "outputs": [],
   "source": [
    "dirname = \"/home/namj/projects/ShapeYAnalysis/data/ShapeY200/dataset/\""
   ]
  },
  {
   "cell_type": "code",
   "execution_count": 7,
   "metadata": {},
   "outputs": [],
   "source": [
    "imgnames = os.listdir(dirname)"
   ]
  },
  {
   "cell_type": "code",
   "execution_count": 10,
   "metadata": {},
   "outputs": [],
   "source": [
    "objnames = list(np.unique([imgname.split(\"-\")[0] for imgname in imgnames]))"
   ]
  },
  {
   "cell_type": "code",
   "execution_count": 11,
   "metadata": {},
   "outputs": [],
   "source": [
    "import json"
   ]
  },
  {
   "cell_type": "code",
   "execution_count": 14,
   "metadata": {},
   "outputs": [],
   "source": [
    "with open('ShapeY200_objs.json', 'w') as f:\n",
    "    json.dump(objnames, f)"
   ]
  },
  {
   "cell_type": "code",
   "execution_count": 17,
   "metadata": {},
   "outputs": [],
   "source": [
    "with open('../src/utils/ShapeY200_objs.json', 'r') as f:\n",
    "    objs = json.load(f)\n"
   ]
  },
  {
   "cell_type": "code",
   "execution_count": 18,
   "metadata": {},
   "outputs": [
    {
     "data": {
      "text/plain": [
       "['airplane_1021a0914a7207aff927ed529ad90a11',\n",
       " 'airplane_326e859d86a8078427eb9e7911a17418',\n",
       " 'airplane_35ae2885a0e645fb7843a50f3dd2047e',\n",
       " 'airplane_53c7a6b56afb63807222da102ac36d2b',\n",
       " 'airplane_7b134f6573e7270fb0a79e28606cb167',\n",
       " 'airplane_844d36a369cdeed3ac4f72bf08dc79a6',\n",
       " 'airplane_9513fcab860b113795ff232cd38210b4',\n",
       " 'airplane_a28b92f0ed237d6d13256b8319a93100',\n",
       " 'airplane_ecbb6df185a7b260760d31bf9510e4b7',\n",
       " 'airplane_f7c2edc1beeedd006e68e46a69a2d96d',\n",
       " 'bag_133c16fc6ca7d77676bb31db0358e9c6',\n",
       " 'bag_151d033af5381fd4c1e1e64c8ea306ea',\n",
       " 'bag_2ca6df7a5377825cfee773c7de26c274',\n",
       " 'bag_39381a2718d2a1d4d5f008f38a566dee',\n",
       " 'bag_4a1f62dbe8b091eabc49cae1a831a9e',\n",
       " 'bag_74c548ef3ca7b1987515e7bb7dba4019',\n",
       " 'bag_83ab18386e87bf4efef598dabc93c115',\n",
       " 'bag_abba6df6294f20c569ea850160c0b35',\n",
       " 'bag_adfe9029a1ca723eb8966aeece708f87',\n",
       " 'bag_e90e27c3020d25dd76bb31db0358e9c6',\n",
       " 'birdhouse_11dc4e10ef6e592f1aab8791875b3551',\n",
       " 'birdhouse_2e81196fa81cc1fba29538f582b2005',\n",
       " 'birdhouse_7bf5608a4d2c66bac5c86021644af7b5',\n",
       " 'birdhouse_a448fb21ce07c5332cba66dc6aeabcd4',\n",
       " 'birdhouse_a842ad87774e1948a89d6f0a00bf90fd',\n",
       " 'birdhouse_c9a3538b8408c66a33f19716eab42752',\n",
       " 'birdhouse_ece71b326dcb50bdfcfdb70b6c560685',\n",
       " 'birdhouse_ed8eecb25a61ce8ec30aa7d959330a5f',\n",
       " 'birdhouse_f04ba261ea073ef9390cc49064ed7b4d',\n",
       " 'birdhouse_fb7402f91e300ead8ac033353d37592a',\n",
       " 'boat_13c289d915523f2348132c07d51cd81a',\n",
       " 'boat_3176313945e3739e10508e1f7e97aa01',\n",
       " 'boat_6b87ed6710a0fc8d8aae7c4db7244339',\n",
       " 'boat_6e3db071ed95552b3faeafe37c2ce4f6',\n",
       " 'boat_8b3cf3842a88136c67c16c85d5f8c7d7',\n",
       " 'boat_b1a080228ad8a7c6eb2c303a0e0d287b',\n",
       " 'boat_b31884906c966b4fa54923b7d85aee7d',\n",
       " 'boat_e3206eef4da407e7c08fee43ebed0bfa',\n",
       " 'boat_e364eac9ec762c54de203ef6842ee61',\n",
       " 'boat_fe482b5db6daa95f88e2183678696c9a',\n",
       " 'bunk bed_1347959af4df977a15dd7d7985e749c1',\n",
       " 'bunk bed_1edea7d187858e2630b07c64830a47f3',\n",
       " 'bunk bed_2f44a88e17474295e66f707221b74f43',\n",
       " 'bunk bed_34292cd1143461a6bda4e7fc3e4df4d4',\n",
       " 'bunk bed_4290c1a305f46cba4cc1952ae0d6e81a',\n",
       " 'bunk bed_6e4707cac21b09f0531c83488903771b',\n",
       " 'bunk bed_73d8ed364821a2701a6208c41cfe5c77',\n",
       " 'bunk bed_aff661c669a2bb4fe3fb5e8ccfbdda1f',\n",
       " 'bunk bed_d3aa611e639ea0228998b3b64a143d42',\n",
       " 'bunk bed_e07dffd4c5607a6672b7738d7a601564',\n",
       " 'camera_17a010f0ade4d1fd83a3e53900c6cbba',\n",
       " 'camera_1967344f80da29618d342172201b8d8c',\n",
       " 'camera_235a6dd25c0a6f7b66f19f26ac490096',\n",
       " 'camera_97690c4db20227d248e23e2c398d8046',\n",
       " 'camera_b42c3da473bb4226dbe4bc54590e1d59',\n",
       " 'camera_c9c9ffd08af8b268b52759c2c2fc0d1e',\n",
       " 'camera_db663e3f7ee9869f5c351e299b24e355',\n",
       " 'camera_f7e2afd70e37f60ad2b6f4e920e50f96',\n",
       " 'camera_fb3b5fae94f7b02a3b269928487f8a4c',\n",
       " 'camera_fdcd83539b8db2c8b5635bf39f10a28a',\n",
       " 'car_1548f5fb0684d08c63155b8ebc275bd1',\n",
       " 'car_1e54527efa629c37a047cd0a07d473f1',\n",
       " 'car_41f087af6d5af9e1c05a03162270a7ea',\n",
       " 'car_5edaef36af2826762bf75f4335c3829b',\n",
       " 'car_5ef8eeb5ba5d2c6ff6efcf1cf084a608',\n",
       " 'car_77d9a23f45c888e595551e0d9e50cb0d',\n",
       " 'car_8c04413559b71fccbda72093f9b5aa73',\n",
       " 'car_8fadf13734ff86b5f9e6f9c7735c6b41',\n",
       " 'car_a08b151ac5254df184bf231ea6363fab',\n",
       " 'car_bb39689b3e6568e85ea174ca141ad66c',\n",
       " 'chair_1b938d400e1a340b17b431cae0dd70ed',\n",
       " 'chair_2b2510922e763c2443b0708c694aaf46',\n",
       " 'chair_2b55385a63cf62f6bababe11fcea8796',\n",
       " 'chair_2b8380ed4b779be7af7c7ad2549a1b15',\n",
       " 'chair_653c0f8b819872b41a6af642cfc1a2bc',\n",
       " 'chair_6e92bdda1bca7b72f9a4f3015fbf70',\n",
       " 'chair_7e190338d3f213c3f7b1230869d2b89c',\n",
       " 'chair_a724a8b2ea1ef63954a8e7cfdf35a7ed',\n",
       " 'chair_b0f35e0dbfd5d75620fc2acf581b444e',\n",
       " 'chair_c9d5ff677600b0a1a01ae992b62200ab',\n",
       " 'faucet_1e2e11043b3d67d76621db2c3226f08',\n",
       " 'faucet_1e5712458907fe06b362845c6edb57fc',\n",
       " 'faucet_2559df6172ff5b1a840312071e438eeb',\n",
       " 'faucet_2d47bde73180097d76d20e73c57c9a03',\n",
       " 'faucet_4a44ef4b181f1101b362845c6edb57fc',\n",
       " 'faucet_75400f002f5ca46f275e59035e1ccbda',\n",
       " 'faucet_7d6baf6cdeab0db93321831d2245cf06',\n",
       " 'faucet_abce921108990509251c40136771148c',\n",
       " 'faucet_d1a20d867c2b8f459cd6e2005048d293',\n",
       " 'faucet_de4c1e3e21d5202da7c60f6678573a4',\n",
       " 'guitar_10b65379796e96091c86d29189611a06',\n",
       " 'guitar_2b394d7e325c0ff5f48dc85fa744ff46',\n",
       " 'guitar_5f24e8a1b07665a7e546539ff7b98351',\n",
       " 'guitar_7175e8671bc22afea937a742b4b0dc33',\n",
       " 'guitar_b7e1c7e7ddd1485277df4c4d253ba3a',\n",
       " 'guitar_bdb021331b396851c09b3b7b0c2153f8',\n",
       " 'guitar_cb99963122f01a92e8bcbdd9e5145d74',\n",
       " 'guitar_da8ee6c488a2f4e093f806b1ecaee483',\n",
       " 'guitar_f6146aa6171dd4f4828b9741c7dfc3ed',\n",
       " 'guitar_feaacb1b8c140e5ff962b6de585c4677',\n",
       " 'headphone_2b28e2a5080101d245af43a64155c221',\n",
       " 'headphone_301d3c7e7a8cd529c37e70ff83bcc2f',\n",
       " 'headphone_51245ad5a0571188992fd3dac901d508',\n",
       " 'headphone_6bf1559769018cbb354b166143712fb3',\n",
       " 'headphone_703dced3f9479f348a731b44a5fe7a8e',\n",
       " 'headphone_719b4249339e7eb4c030d1f2c16e4c51',\n",
       " 'headphone_763f06de96ae50d5823e88e264b80650',\n",
       " 'headphone_98eb96633935d994c38ed9bce4ed5d0f',\n",
       " 'headphone_de3b9b253e8f1aaf8b15c58b209760b5',\n",
       " 'headphone_f90f01ec45ea95d65481d2ca627e43e7',\n",
       " 'lamp_18010f1e7133415290c2e24416edfe5b',\n",
       " 'lamp_18145f4b303c37f11c3739edd52fa3',\n",
       " 'lamp_308bd35d5f52de4e57b8f616df7adf9a',\n",
       " 'lamp_4dde6d694443a488edb5be732846826',\n",
       " 'lamp_605ddd207eed0d81414aaa1b9210e59a',\n",
       " 'lamp_611f9690f6eb4da79a6a8a8f3fa61f11',\n",
       " 'lamp_617e98c1d743c17420ccbe1c34ca182d',\n",
       " 'lamp_9af0807b146c564a45c4ecb2f4b73702',\n",
       " 'lamp_da4fe1c3d5b1eb6ab2b4f8bf5db83688',\n",
       " 'lamp_de5799693fbddbe3c4560b8f156e749',\n",
       " 'motorcycle_3a94134ec9698b74ec5901a85efd6b67',\n",
       " 'motorcycle_46e38cf88b07de0ee2b85785c47c5d52',\n",
       " 'motorcycle_49b7ec863c4599aabd1734e75169b9e0',\n",
       " 'motorcycle_88950eedce83a11ad4fea43a014cf734',\n",
       " 'motorcycle_896f688e07909b9b893e67220bf9be7',\n",
       " 'motorcycle_94a021f2078cab18da3e5772fc0cd087',\n",
       " 'motorcycle_c4e0be3db8960e7799c206f2618a97af',\n",
       " 'motorcycle_cdd1e5890e5a766a65397d05162306e',\n",
       " 'motorcycle_edc4c7a08293697db37378f3c85478b4',\n",
       " 'motorcycle_f0c7043178a8a2fc52ee90e577613070',\n",
       " 'mug_1ae1ba5dfb2a085247df6165146d5bbd',\n",
       " 'mug_52273f4b17505e898ef19a48ac4fcfdf',\n",
       " 'mug_5fe74baba21bba7ca4eec1b19b3a18f8',\n",
       " 'mug_6500ccc65e210b14d829190312080ea3',\n",
       " 'mug_68f4428c0b38ae0e2469963e6d044dfe',\n",
       " 'mug_6aec84952a5ffcf33f60d03e1cb068dc',\n",
       " 'mug_b18bf84bcd457ffbc2868ebdda32b945',\n",
       " 'mug_b6f30c63c946c286cf6897d8875cfd5e',\n",
       " 'mug_d7ba704184d424dfd56d9106430c3fe',\n",
       " 'mug_f23a544c04e2f5ccb50d0c6a0c254040',\n",
       " 'pistol_1171db047e43948b40aa5b072f9ee3d1',\n",
       " 'pistol_1226a05aba30d0987deae9192b6f5fdc',\n",
       " 'pistol_263afcd618780865bbace5122b1001f5',\n",
       " 'pistol_446e4145b475eb245751d640a4e334',\n",
       " 'pistol_4a5ed50fe28a7380fef144202cb2b935',\n",
       " 'pistol_898424eaa40e821c2bf47341dbd96eb',\n",
       " 'pistol_9a90f323edc8c30f54e702cd89ce6f04',\n",
       " 'pistol_c045c2df9649384e58da2ab14df356b2',\n",
       " 'pistol_db298a7cb95aea676ecdf20adf3e54ce',\n",
       " 'pistol_df2e8011beb752dc44608b3255ca1886',\n",
       " 'pot_133dc38c1316d9515dc3653f8341633a',\n",
       " 'pot_2399ba91d5263c913666eb1bf2ae701',\n",
       " 'pot_3c73f2f15c10d253f2665ed92bcd1166',\n",
       " 'pot_4fcc70a519fac2a3f11c3739edd52fa3',\n",
       " 'pot_595a2947c890819d58c88d30f502a452',\n",
       " 'pot_5f3a050002015f5bc323742ccd065ef4',\n",
       " 'pot_9c00e85febb3950fbd353c96f0f6d633',\n",
       " 'pot_bfd7c0ba3d690291271666a0c21c3f2',\n",
       " 'pot_f1d505c01e188533b11036f4855ac4b5',\n",
       " 'pot_f892893037aaa2028cbd3996b1c0adf8',\n",
       " 'printer_2263c8fa2d951833ecc46197d5349c6e',\n",
       " 'printer_2af74548033015f453227dcd0d547ba6',\n",
       " 'printer_90fc6f7b0b84755796348cae6ab0021',\n",
       " 'printer_97735b38d3b229d5e8be809ecac11dd',\n",
       " 'printer_a74db482402e533d9d23dd9e1ad481db',\n",
       " 'printer_b2ff768db80d2d723e6c258d47d0b669',\n",
       " 'printer_d0ee507ba98a89525df8d70b74fdbdb5',\n",
       " 'printer_d9a7f7d8d6358ab268e3172ee2027144',\n",
       " 'printer_df443a41d3b4f092d5805a1d6e49bc4e',\n",
       " 'printer_eecd888b440831bffce3743f4e2437fe',\n",
       " 'rocket_1a3ef9b0c9c8ae6244f315d1e2c21ef',\n",
       " 'rocket_2407c2684ee757e89c4176ab56cb612',\n",
       " 'rocket_3e75a7a2f8f602df390a81c7a00f98eb',\n",
       " 'rocket_5925619f2bcb830aec83434daf14e347',\n",
       " 'rocket_731db7871e19a2efddf75684fdf930e6',\n",
       " 'rocket_974472ca7b895f74c6f5c7c0f17e11c3',\n",
       " 'rocket_9d6c3971491bd0de616ce6fe9495197c',\n",
       " 'rocket_c3f7e3b188f6fe139a6e43b878d5b335',\n",
       " 'rocket_e04bda8655d9e606ebcdf982796b4fa',\n",
       " 'rocket_e1cb02a589e09aa193a67322c4cf7081',\n",
       " 'sofa_1a477f7b2c1799e1b728e6e715c3f8cf',\n",
       " 'sofa_3c56ceef171fa142126c0b0ea3ea0a2c',\n",
       " 'sofa_47c45ac7187a9674421b433358248213',\n",
       " 'sofa_698a0a47dd9bba797ddb7abd4c043364',\n",
       " 'sofa_6c4e0987896fc5df30c7f4adc2c33ad6',\n",
       " 'sofa_9f6d960c57515fb491264d3b5d25d83f',\n",
       " 'sofa_a7e4616a2a315dfac5ddc26ef5560e77',\n",
       " 'sofa_c293fb5d58a88ce85b903ba10d2ec446',\n",
       " 'sofa_c37832a4b22cc13e6654a522b30cb96',\n",
       " 'sofa_e491dc151c8e801186abe5555a3b447d',\n",
       " 'train_7578f09ea13f2d04ed79a511eb448339',\n",
       " 'train_79b834190bfcf065bc7069dbf29b2330',\n",
       " 'train_7d9cb763f622e2aa90f5fac3ff9f322',\n",
       " 'train_903584d52613647290df764ad314c67f',\n",
       " 'train_9b34d4118d5d72e9ed2f8e1c74f9fca9',\n",
       " 'train_af418bcf5fa6b22642ca7cc070f21ed3',\n",
       " 'train_d2a55d5745da47892aa93fe7a6076a9',\n",
       " 'train_d433ceb5bb3eece98c8b260b832217ab',\n",
       " 'train_ed66247c141a18936ef38ad304e9224b',\n",
       " 'train_fa69b96acfc4ab67d6d91af432c7bb1b']"
      ]
     },
     "execution_count": 18,
     "metadata": {},
     "output_type": "execute_result"
    }
   ],
   "source": [
    "objs"
   ]
  },
  {
   "cell_type": "code",
   "execution_count": 1,
   "metadata": {},
   "outputs": [],
   "source": [
    "import sys\n",
    "sys.path.append(\"../src\")\n",
    "from utils.constants import SHAPEY200_IMGNAMES, SHAPEY200_OBJCATS"
   ]
  },
  {
   "cell_type": "code",
   "execution_count": 2,
   "metadata": {},
   "outputs": [
    {
     "data": {
      "text/plain": [
       "array(['airplane', 'bag', 'birdhouse', 'boat', 'bunk bed', 'camera',\n",
       "       'car', 'chair', 'faucet', 'guitar', 'headphone', 'lamp',\n",
       "       'motorcycle', 'mug', 'pistol', 'pot', 'printer', 'rocket', 'sofa',\n",
       "       'train'], dtype='<U10')"
      ]
     },
     "execution_count": 2,
     "metadata": {},
     "output_type": "execute_result"
    }
   ],
   "source": [
    "SHAPEY200_OBJCATS"
   ]
  },
  {
   "cell_type": "code",
   "execution_count": 27,
   "metadata": {},
   "outputs": [
    {
     "data": {
      "text/plain": [
       "68200"
      ]
     },
     "execution_count": 27,
     "metadata": {},
     "output_type": "execute_result"
    }
   ],
   "source": [
    "len(SHAPEY200_IMGNAMES)"
   ]
  },
  {
   "cell_type": "code",
   "execution_count": 30,
   "metadata": {},
   "outputs": [
    {
     "name": "stdout",
     "output_type": "stream",
     "text": [
      "list2 is not a subset of list1\n"
     ]
    }
   ],
   "source": [
    "list1 = [\"1\", 2, 3, 4, 5]\n",
    "list2 = [3, \"4\"]\n",
    "\n",
    "if set(list2) <= set(list1):\n",
    "    print(\"list2 is a subset of list1\")\n",
    "else:\n",
    "    print(\"list2 is not a subset of list1\")\n"
   ]
  },
  {
   "cell_type": "code",
   "execution_count": 1,
   "metadata": {},
   "outputs": [],
   "source": [
    "import cupy as cp\n",
    "import numpy as np"
   ]
  },
  {
   "cell_type": "code",
   "execution_count": 1,
   "metadata": {},
   "outputs": [],
   "source": [
    "import sys\n",
    "sys.path.append(\"../src\")\n",
    "from utils.constants import ALL_AXES\n",
    "import utils\n",
    "import numpy as np"
   ]
  },
  {
   "cell_type": "code",
   "execution_count": 2,
   "metadata": {},
   "outputs": [],
   "source": [
    "cval_mat = np.full(\n",
    "        [\n",
    "            utils.NUMBER_OF_VIEWS_PER_AXIS,\n",
    "            utils.NUMBER_OF_VIEWS_PER_AXIS * utils.NUMBER_OF_AXES,\n",
    "        ],\n",
    "        np.nan,\n",
    "    )"
   ]
  },
  {
   "cell_type": "code",
   "execution_count": 7,
   "metadata": {},
   "outputs": [
    {
     "name": "stdout",
     "output_type": "stream",
     "text": [
      "30008\n"
     ]
    }
   ],
   "source": [
    "print(cval_mat.itemsize * cval_mat.size)"
   ]
  },
  {
   "cell_type": "code",
   "execution_count": 8,
   "metadata": {},
   "outputs": [
    {
     "data": {
      "text/plain": [
       "nan"
      ]
     },
     "execution_count": 8,
     "metadata": {},
     "output_type": "execute_result"
    }
   ],
   "source": [
    "np.nan * 100"
   ]
  },
  {
   "cell_type": "code",
   "execution_count": 6,
   "metadata": {},
   "outputs": [
    {
     "name": "stdout",
     "output_type": "stream",
     "text": [
      "8\n"
     ]
    }
   ],
   "source": [
    "d = np.random.random((11, 341))\n",
    "print(d.itemsize)"
   ]
  },
  {
   "cell_type": "code",
   "execution_count": 4,
   "metadata": {},
   "outputs": [],
   "source": [
    "contain_ax = cp.array(\n",
    "    [\n",
    "        [\n",
    "            cp.array([c in a for c in 'p']).all()\n",
    "            for a in ALL_AXES\n",
    "        ]\n",
    "    ],\n",
    "    dtype=int,\n",
    ")"
   ]
  },
  {
   "cell_type": "code",
   "execution_count": 12,
   "metadata": {},
   "outputs": [
    {
     "data": {
      "text/plain": [
       "array([[1, 1, 1, 1, 0, 0, 0, 0, 1, 1, 1, 1, 0, 0, 0, 0, 1, 1, 1, 1, 0, 0,\n",
       "        0, 0, 1, 1, 1, 1, 0, 0, 0]])"
      ]
     },
     "execution_count": 12,
     "metadata": {},
     "output_type": "execute_result"
    }
   ],
   "source": [
    "contain_ax"
   ]
  },
  {
   "cell_type": "code",
   "execution_count": 15,
   "metadata": {},
   "outputs": [],
   "source": [
    "repeat_mask = contain_ax * contain_ax.T"
   ]
  },
  {
   "cell_type": "code",
   "execution_count": 16,
   "metadata": {},
   "outputs": [
    {
     "data": {
      "text/plain": [
       "(31, 31)"
      ]
     },
     "execution_count": 16,
     "metadata": {},
     "output_type": "execute_result"
    }
   ],
   "source": [
    "repeat_mask.shape"
   ]
  },
  {
   "cell_type": "code",
   "execution_count": 9,
   "metadata": {},
   "outputs": [],
   "source": [
    "repeat_mask = cp.repeat(cp.repeat(repeat_mask, 11, axis=1), 11, axis=0)"
   ]
  },
  {
   "cell_type": "code",
   "execution_count": 11,
   "metadata": {},
   "outputs": [
    {
     "data": {
      "text/plain": [
       "(341, 341)"
      ]
     },
     "execution_count": 11,
     "metadata": {},
     "output_type": "execute_result"
    }
   ],
   "source": [
    "repeat_mask"
   ]
  },
  {
   "cell_type": "code",
   "execution_count": 18,
   "metadata": {},
   "outputs": [],
   "source": [
    "import h5py"
   ]
  },
  {
   "cell_type": "code",
   "execution_count": 27,
   "metadata": {},
   "outputs": [],
   "source": [
    "d = '/home/namj/projects/ShapeYTriad/data/processed/neural_net/xcit_large_24_p8_224_dist.h5'"
   ]
  },
  {
   "cell_type": "code",
   "execution_count": 28,
   "metadata": {},
   "outputs": [],
   "source": [
    "a = h5py.File(d, 'r')"
   ]
  },
  {
   "cell_type": "code",
   "execution_count": 29,
   "metadata": {},
   "outputs": [
    {
     "data": {
      "text/plain": [
       "<KeysViewHDF5 ['feature_output', 'original', 'pairwise_correlation']>"
      ]
     },
     "execution_count": 29,
     "metadata": {},
     "output_type": "execute_result"
    }
   ],
   "source": [
    "a.keys()"
   ]
  },
  {
   "cell_type": "code",
   "execution_count": 36,
   "metadata": {},
   "outputs": [
    {
     "data": {
      "text/plain": [
       "(11, 11)"
      ]
     },
     "execution_count": 36,
     "metadata": {},
     "output_type": "execute_result"
    }
   ],
   "source": [
    "a['original']['airplane_1021a0914a7207aff927ed529ad90a11/p/top1_cvals'].shape"
   ]
  },
  {
   "cell_type": "code",
   "execution_count": 37,
   "metadata": {},
   "outputs": [
    {
     "ename": "SyntaxError",
     "evalue": "invalid syntax (2212192611.py, line 1)",
     "output_type": "error",
     "traceback": [
      "\u001b[0;36m  Cell \u001b[0;32mIn[37], line 1\u001b[0;36m\u001b[0m\n\u001b[0;31m    c = [1:10]\u001b[0m\n\u001b[0m          ^\u001b[0m\n\u001b[0;31mSyntaxError\u001b[0m\u001b[0;31m:\u001b[0m invalid syntax\n"
     ]
    }
   ],
   "source": [
    "c = [1:10]"
   ]
  },
  {
   "cell_type": "code",
   "execution_count": 38,
   "metadata": {},
   "outputs": [],
   "source": [
    "c = [range(1, 10)]"
   ]
  },
  {
   "cell_type": "code",
   "execution_count": 39,
   "metadata": {},
   "outputs": [
    {
     "data": {
      "text/plain": [
       "[range(1, 10)]"
      ]
     },
     "execution_count": 39,
     "metadata": {},
     "output_type": "execute_result"
    }
   ],
   "source": [
    "c"
   ]
  },
  {
   "cell_type": "code",
   "execution_count": 44,
   "metadata": {},
   "outputs": [
    {
     "data": {
      "text/plain": [
       "(9, 4)"
      ]
     },
     "execution_count": 44,
     "metadata": {},
     "output_type": "execute_result"
    }
   ],
   "source": [
    "a['pairwise_correlation/original'][1:10,[2,5,9,11]].shape"
   ]
  },
  {
   "cell_type": "code",
   "execution_count": 48,
   "metadata": {},
   "outputs": [],
   "source": [
    "objidx = 1\n",
    "whole_corrmat_idx = [\n",
    "    objidx * utils.NUMBER_OF_VIEWS_PER_AXIS * utils.NUMBER_OF_AXES,\n",
    "    (objidx + 1) * utils.NUMBER_OF_VIEWS_PER_AXIS * utils.NUMBER_OF_AXES,\n",
    "]"
   ]
  },
  {
   "cell_type": "code",
   "execution_count": 49,
   "metadata": {},
   "outputs": [
    {
     "data": {
      "text/plain": [
       "[341, 682]"
      ]
     },
     "execution_count": 49,
     "metadata": {},
     "output_type": "execute_result"
    }
   ],
   "source": [
    "whole_corrmat_idx"
   ]
  },
  {
   "cell_type": "code",
   "execution_count": 54,
   "metadata": {},
   "outputs": [],
   "source": [
    "whole_corrmat_idx_np = np.linspace(whole_corrmat_idx[0], whole_corrmat_idx[1]-1, whole_corrmat_idx[1]-whole_corrmat_idx[0], dtype=int)"
   ]
  },
  {
   "cell_type": "code",
   "execution_count": 55,
   "metadata": {},
   "outputs": [
    {
     "data": {
      "text/plain": [
       "array([341, 342, 343, 344, 345, 346, 347, 348, 349, 350, 351, 352, 353,\n",
       "       354, 355, 356, 357, 358, 359, 360, 361, 362, 363, 364, 365, 366,\n",
       "       367, 368, 369, 370, 371, 372, 373, 374, 375, 376, 377, 378, 379,\n",
       "       380, 381, 382, 383, 384, 385, 386, 387, 388, 389, 390, 391, 392,\n",
       "       393, 394, 395, 396, 397, 398, 399, 400, 401, 402, 403, 404, 405,\n",
       "       406, 407, 408, 409, 410, 411, 412, 413, 414, 415, 416, 417, 418,\n",
       "       419, 420, 421, 422, 423, 424, 425, 426, 427, 428, 429, 430, 431,\n",
       "       432, 433, 434, 435, 436, 437, 438, 439, 440, 441, 442, 443, 444,\n",
       "       445, 446, 447, 448, 449, 450, 451, 452, 453, 454, 455, 456, 457,\n",
       "       458, 459, 460, 461, 462, 463, 464, 465, 466, 467, 468, 469, 470,\n",
       "       471, 472, 473, 474, 475, 476, 477, 478, 479, 480, 481, 482, 483,\n",
       "       484, 485, 486, 487, 488, 489, 490, 491, 492, 493, 494, 495, 496,\n",
       "       497, 498, 499, 500, 501, 502, 503, 504, 505, 506, 507, 508, 509,\n",
       "       510, 511, 512, 513, 514, 515, 516, 517, 518, 519, 520, 521, 522,\n",
       "       523, 524, 525, 526, 527, 528, 529, 530, 531, 532, 533, 534, 535,\n",
       "       536, 537, 538, 539, 540, 541, 542, 543, 544, 545, 546, 547, 548,\n",
       "       549, 550, 551, 552, 553, 554, 555, 556, 557, 558, 559, 560, 561,\n",
       "       562, 563, 564, 565, 566, 567, 568, 569, 570, 571, 572, 573, 574,\n",
       "       575, 576, 577, 578, 579, 580, 581, 582, 583, 584, 585, 586, 587,\n",
       "       588, 589, 590, 591, 592, 593, 594, 595, 596, 597, 598, 599, 600,\n",
       "       601, 602, 603, 604, 605, 606, 607, 608, 609, 610, 611, 612, 613,\n",
       "       614, 615, 616, 617, 618, 619, 620, 621, 622, 623, 624, 625, 626,\n",
       "       627, 628, 629, 630, 631, 632, 633, 634, 635, 636, 637, 638, 639,\n",
       "       640, 641, 642, 643, 644, 645, 646, 647, 648, 649, 650, 651, 652,\n",
       "       653, 654, 655, 656, 657, 658, 659, 660, 661, 662, 663, 664, 665,\n",
       "       666, 667, 668, 669, 670, 671, 672, 673, 674, 675, 676, 677, 678,\n",
       "       679, 680, 681])"
      ]
     },
     "execution_count": 55,
     "metadata": {},
     "output_type": "execute_result"
    }
   ],
   "source": [
    "whole_corrmat_idx_np"
   ]
  },
  {
   "cell_type": "code",
   "execution_count": 77,
   "metadata": {},
   "outputs": [],
   "source": [
    "contain_ax = np.array(\n",
    "            [[all([c in a for c in 'pw'])]*11 for a in utils.ALL_AXES], dtype=int\n",
    "        ).flatten()"
   ]
  },
  {
   "cell_type": "code",
   "execution_count": 79,
   "metadata": {},
   "outputs": [
    {
     "data": {
      "text/plain": [
       "(341,)"
      ]
     },
     "execution_count": 79,
     "metadata": {},
     "output_type": "execute_result"
    }
   ],
   "source": [
    "contain_ax.shape"
   ]
  },
  {
   "cell_type": "code",
   "execution_count": 62,
   "metadata": {},
   "outputs": [
    {
     "data": {
      "text/plain": [
       "(341,)"
      ]
     },
     "execution_count": 62,
     "metadata": {},
     "output_type": "execute_result"
    }
   ],
   "source": [
    "whole_corrmat_idx_np.shape"
   ]
  },
  {
   "cell_type": "code",
   "execution_count": 83,
   "metadata": {},
   "outputs": [
    {
     "data": {
      "text/plain": [
       "[363,\n",
       " 364,\n",
       " 365,\n",
       " 366,\n",
       " 367,\n",
       " 368,\n",
       " 369,\n",
       " 370,\n",
       " 371,\n",
       " 372,\n",
       " 373,\n",
       " 374,\n",
       " 375,\n",
       " 376,\n",
       " 377,\n",
       " 378,\n",
       " 379,\n",
       " 380,\n",
       " 381,\n",
       " 382,\n",
       " 383,\n",
       " 384,\n",
       " 451,\n",
       " 452,\n",
       " 453,\n",
       " 454,\n",
       " 455,\n",
       " 456,\n",
       " 457,\n",
       " 458,\n",
       " 459,\n",
       " 460,\n",
       " 461,\n",
       " 462,\n",
       " 463,\n",
       " 464,\n",
       " 465,\n",
       " 466,\n",
       " 467,\n",
       " 468,\n",
       " 469,\n",
       " 470,\n",
       " 471,\n",
       " 472,\n",
       " 539,\n",
       " 540,\n",
       " 541,\n",
       " 542,\n",
       " 543,\n",
       " 544,\n",
       " 545,\n",
       " 546,\n",
       " 547,\n",
       " 548,\n",
       " 549,\n",
       " 550,\n",
       " 551,\n",
       " 552,\n",
       " 553,\n",
       " 554,\n",
       " 555,\n",
       " 556,\n",
       " 557,\n",
       " 558,\n",
       " 559,\n",
       " 560,\n",
       " 627,\n",
       " 628,\n",
       " 629,\n",
       " 630,\n",
       " 631,\n",
       " 632,\n",
       " 633,\n",
       " 634,\n",
       " 635,\n",
       " 636,\n",
       " 637,\n",
       " 638,\n",
       " 639,\n",
       " 640,\n",
       " 641,\n",
       " 642,\n",
       " 643,\n",
       " 644,\n",
       " 645,\n",
       " 646,\n",
       " 647,\n",
       " 648]"
      ]
     },
     "execution_count": 83,
     "metadata": {},
     "output_type": "execute_result"
    }
   ],
   "source": [
    "list(whole_corrmat_idx_np[contain_ax==1])"
   ]
  },
  {
   "cell_type": "code",
   "execution_count": 84,
   "metadata": {},
   "outputs": [],
   "source": [
    "a = np.random.rand(1000, 1000)"
   ]
  },
  {
   "cell_type": "code",
   "execution_count": 87,
   "metadata": {},
   "outputs": [
    {
     "data": {
      "text/plain": [
       "(3, 1000)"
      ]
     },
     "execution_count": 87,
     "metadata": {},
     "output_type": "execute_result"
    }
   ],
   "source": [
    "a[[1,2,3],:].shape"
   ]
  },
  {
   "cell_type": "code",
   "execution_count": 7,
   "metadata": {},
   "outputs": [],
   "source": [
    "from dataclasses import dataclass\n",
    "from typing import Tuple, Union, Sequence, List\n",
    "import typing\n",
    "import numpy as np\n",
    "import h5py\n",
    "from abc import ABC\n",
    "from bidict import bidict\n",
    "import sys\n",
    "sys.path.append(\"../src\")\n",
    "import utils\n",
    "\n",
    "\n",
    "@dataclass\n",
    "class CorrMat(ABC):\n",
    "    description: \n",
    "    corrmat: Union[np.ndarray, h5py.Dataset]\n",
    "\n",
    "    def __post_init__(self):\n",
    "        assert self.corrmat.shape[0] == self.dims[0]\n",
    "        assert self.corrmat.shape[1] == self.dims[1]\n",
    "\n",
    "\n",
    "@dataclass\n",
    "class WholeShapeYMat(CorrMat):\n",
    "    def __post_init__(self):\n",
    "        super().__post_init__()\n",
    "        assert self.corrmat.shape[0] == len(utils.SHAPEY200_IMGNAMES)\n",
    "        assert self.corrmat.shape[1] == len(utils.SHAPEY200_IMGNAMES)\n",
    "\n",
    "@dataclass\n",
    "class PartialCorrMat(CorrMat):\n",
    "    shapey200_mapping: Tuple[\n",
    "        Union[Sequence[str], Sequence[int]], Union[Sequence[str], Sequence[int]]\n",
    "    ]  # describes the rows and columns of the input corrmat in ShapeY200 order\n",
    "\n",
    "    def __post_init__(self):\n",
    "        super().__post_init__()\n",
    "        self.shapey200_mapping = PartialCorrMat.convert_mapping_to_int(\n",
    "            self.shapey200_mapping\n",
    "        )\n",
    "        self.shapey200_mapping_dict = (\n",
    "            bidict(enumerate(self.shapey200_mapping[0])),\n",
    "            bidict(enumerate(self.shapey200_mapping[1])),\n",
    "        )  # key: corrmat index, value: shapey200 index\n",
    "\n",
    "    @staticmethod\n",
    "    def convert_mapping_to_int(\n",
    "        shapey200_mapping: Tuple[\n",
    "            Union[Sequence[str], Sequence[int]], Union[Sequence[str], Sequence[int]]\n",
    "        ]\n",
    "    ) -> Tuple[Sequence[int], Sequence[int]]:\n",
    "        row_descriptor, col_descriptor = shapey200_mapping\n",
    "\n",
    "        if isinstance(row_descriptor[0], str):\n",
    "            row_descriptor_idx = [\n",
    "                utils.ImageNameHelper.imgname_to_shapey_idx(typing.cast(str, imgname))\n",
    "                for imgname in row_descriptor\n",
    "            ]\n",
    "        else:\n",
    "            row_descriptor_idx = typing.cast(List[int], row_descriptor)\n",
    "        if isinstance(col_descriptor[0], str):\n",
    "            col_descriptor_idx = [\n",
    "                utils.ImageNameHelper.imgname_to_shapey_idx(typing.cast(str, imgname))\n",
    "                for imgname in col_descriptor\n",
    "            ]\n",
    "        else:\n",
    "            col_descriptor_idx = typing.cast(List[int], col_descriptor)\n",
    "\n",
    "        return row_descriptor_idx, col_descriptor_idx\n",
    "\n"
   ]
  },
  {
   "cell_type": "code",
   "execution_count": 8,
   "metadata": {},
   "outputs": [],
   "source": [
    "a = PartialCorrMat((1000, 1000), np.random.rand(1000, 1000), (range(1000), range(1000)))"
   ]
  },
  {
   "cell_type": "code",
   "execution_count": 12,
   "metadata": {},
   "outputs": [
    {
     "data": {
      "text/plain": [
       "(1000, 1000)"
      ]
     },
     "execution_count": 12,
     "metadata": {},
     "output_type": "execute_result"
    }
   ],
   "source": [
    "a.corrmat."
   ]
  },
  {
   "cell_type": "code",
   "execution_count": 2,
   "metadata": {},
   "outputs": [],
   "source": [
    "from typing import Sequence\n",
    "def pull_axis_description_from_txt(filepath: str) -> Sequence[str]:\n",
    "    with open(filepath, \"r\") as f:\n",
    "        imgnames = f.read().splitlines()\n",
    "    return imgnames"
   ]
  },
  {
   "cell_type": "code",
   "execution_count": 3,
   "metadata": {},
   "outputs": [
    {
     "data": {
      "text/plain": [
       "['features_airplane_1021a0914a7207aff927ed529ad90a11-p01.mat',\n",
       " 'features_airplane_1021a0914a7207aff927ed529ad90a11-p02.mat',\n",
       " 'features_airplane_1021a0914a7207aff927ed529ad90a11-p03.mat',\n",
       " 'features_airplane_1021a0914a7207aff927ed529ad90a11-p04.mat',\n",
       " 'features_airplane_1021a0914a7207aff927ed529ad90a11-p05.mat',\n",
       " 'features_airplane_1021a0914a7207aff927ed529ad90a11-p06.mat',\n",
       " 'features_airplane_1021a0914a7207aff927ed529ad90a11-p07.mat',\n",
       " 'features_airplane_1021a0914a7207aff927ed529ad90a11-p08.mat',\n",
       " 'features_airplane_1021a0914a7207aff927ed529ad90a11-p09.mat',\n",
       " 'features_airplane_1021a0914a7207aff927ed529ad90a11-p10.mat',\n",
       " 'features_airplane_1021a0914a7207aff927ed529ad90a11-p11.mat',\n",
       " 'features_airplane_1021a0914a7207aff927ed529ad90a11-pr01.mat',\n",
       " 'features_airplane_1021a0914a7207aff927ed529ad90a11-pr02.mat',\n",
       " 'features_airplane_1021a0914a7207aff927ed529ad90a11-pr03.mat',\n",
       " 'features_airplane_1021a0914a7207aff927ed529ad90a11-pr04.mat',\n",
       " 'features_airplane_1021a0914a7207aff927ed529ad90a11-pr05.mat',\n",
       " 'features_airplane_1021a0914a7207aff927ed529ad90a11-pr06.mat',\n",
       " 'features_airplane_1021a0914a7207aff927ed529ad90a11-pr07.mat',\n",
       " 'features_airplane_1021a0914a7207aff927ed529ad90a11-pr08.mat',\n",
       " 'features_airplane_1021a0914a7207aff927ed529ad90a11-pr09.mat',\n",
       " 'features_airplane_1021a0914a7207aff927ed529ad90a11-pr10.mat',\n",
       " 'features_airplane_1021a0914a7207aff927ed529ad90a11-pr11.mat',\n",
       " 'features_airplane_1021a0914a7207aff927ed529ad90a11-prw01.mat',\n",
       " 'features_airplane_1021a0914a7207aff927ed529ad90a11-prw02.mat',\n",
       " 'features_airplane_1021a0914a7207aff927ed529ad90a11-prw03.mat',\n",
       " 'features_airplane_1021a0914a7207aff927ed529ad90a11-prw04.mat',\n",
       " 'features_airplane_1021a0914a7207aff927ed529ad90a11-prw05.mat',\n",
       " 'features_airplane_1021a0914a7207aff927ed529ad90a11-prw06.mat',\n",
       " 'features_airplane_1021a0914a7207aff927ed529ad90a11-prw07.mat',\n",
       " 'features_airplane_1021a0914a7207aff927ed529ad90a11-prw08.mat',\n",
       " 'features_airplane_1021a0914a7207aff927ed529ad90a11-prw09.mat',\n",
       " 'features_airplane_1021a0914a7207aff927ed529ad90a11-prw10.mat',\n",
       " 'features_airplane_1021a0914a7207aff927ed529ad90a11-prw11.mat',\n",
       " 'features_airplane_1021a0914a7207aff927ed529ad90a11-pw01.mat',\n",
       " 'features_airplane_1021a0914a7207aff927ed529ad90a11-pw02.mat',\n",
       " 'features_airplane_1021a0914a7207aff927ed529ad90a11-pw03.mat',\n",
       " 'features_airplane_1021a0914a7207aff927ed529ad90a11-pw04.mat',\n",
       " 'features_airplane_1021a0914a7207aff927ed529ad90a11-pw05.mat',\n",
       " 'features_airplane_1021a0914a7207aff927ed529ad90a11-pw06.mat',\n",
       " 'features_airplane_1021a0914a7207aff927ed529ad90a11-pw07.mat',\n",
       " 'features_airplane_1021a0914a7207aff927ed529ad90a11-pw08.mat',\n",
       " 'features_airplane_1021a0914a7207aff927ed529ad90a11-pw09.mat',\n",
       " 'features_airplane_1021a0914a7207aff927ed529ad90a11-pw10.mat',\n",
       " 'features_airplane_1021a0914a7207aff927ed529ad90a11-pw11.mat',\n",
       " 'features_airplane_1021a0914a7207aff927ed529ad90a11-r01.mat',\n",
       " 'features_airplane_1021a0914a7207aff927ed529ad90a11-r02.mat',\n",
       " 'features_airplane_1021a0914a7207aff927ed529ad90a11-r03.mat',\n",
       " 'features_airplane_1021a0914a7207aff927ed529ad90a11-r04.mat',\n",
       " 'features_airplane_1021a0914a7207aff927ed529ad90a11-r05.mat',\n",
       " 'features_airplane_1021a0914a7207aff927ed529ad90a11-r06.mat',\n",
       " 'features_airplane_1021a0914a7207aff927ed529ad90a11-r07.mat',\n",
       " 'features_airplane_1021a0914a7207aff927ed529ad90a11-r08.mat',\n",
       " 'features_airplane_1021a0914a7207aff927ed529ad90a11-r09.mat',\n",
       " 'features_airplane_1021a0914a7207aff927ed529ad90a11-r10.mat',\n",
       " 'features_airplane_1021a0914a7207aff927ed529ad90a11-r11.mat',\n",
       " 'features_airplane_1021a0914a7207aff927ed529ad90a11-rw01.mat',\n",
       " 'features_airplane_1021a0914a7207aff927ed529ad90a11-rw02.mat',\n",
       " 'features_airplane_1021a0914a7207aff927ed529ad90a11-rw03.mat',\n",
       " 'features_airplane_1021a0914a7207aff927ed529ad90a11-rw04.mat',\n",
       " 'features_airplane_1021a0914a7207aff927ed529ad90a11-rw05.mat',\n",
       " 'features_airplane_1021a0914a7207aff927ed529ad90a11-rw06.mat',\n",
       " 'features_airplane_1021a0914a7207aff927ed529ad90a11-rw07.mat',\n",
       " 'features_airplane_1021a0914a7207aff927ed529ad90a11-rw08.mat',\n",
       " 'features_airplane_1021a0914a7207aff927ed529ad90a11-rw09.mat',\n",
       " 'features_airplane_1021a0914a7207aff927ed529ad90a11-rw10.mat',\n",
       " 'features_airplane_1021a0914a7207aff927ed529ad90a11-rw11.mat',\n",
       " 'features_airplane_1021a0914a7207aff927ed529ad90a11-w01.mat',\n",
       " 'features_airplane_1021a0914a7207aff927ed529ad90a11-w02.mat',\n",
       " 'features_airplane_1021a0914a7207aff927ed529ad90a11-w03.mat',\n",
       " 'features_airplane_1021a0914a7207aff927ed529ad90a11-w04.mat',\n",
       " 'features_airplane_1021a0914a7207aff927ed529ad90a11-w05.mat',\n",
       " 'features_airplane_1021a0914a7207aff927ed529ad90a11-w06.mat',\n",
       " 'features_airplane_1021a0914a7207aff927ed529ad90a11-w07.mat',\n",
       " 'features_airplane_1021a0914a7207aff927ed529ad90a11-w08.mat',\n",
       " 'features_airplane_1021a0914a7207aff927ed529ad90a11-w09.mat',\n",
       " 'features_airplane_1021a0914a7207aff927ed529ad90a11-w10.mat',\n",
       " 'features_airplane_1021a0914a7207aff927ed529ad90a11-w11.mat',\n",
       " 'features_airplane_1021a0914a7207aff927ed529ad90a11-x01.mat',\n",
       " 'features_airplane_1021a0914a7207aff927ed529ad90a11-x02.mat',\n",
       " 'features_airplane_1021a0914a7207aff927ed529ad90a11-x03.mat',\n",
       " 'features_airplane_1021a0914a7207aff927ed529ad90a11-x04.mat',\n",
       " 'features_airplane_1021a0914a7207aff927ed529ad90a11-x05.mat',\n",
       " 'features_airplane_1021a0914a7207aff927ed529ad90a11-x06.mat',\n",
       " 'features_airplane_1021a0914a7207aff927ed529ad90a11-x07.mat',\n",
       " 'features_airplane_1021a0914a7207aff927ed529ad90a11-x08.mat',\n",
       " 'features_airplane_1021a0914a7207aff927ed529ad90a11-x09.mat',\n",
       " 'features_airplane_1021a0914a7207aff927ed529ad90a11-x10.mat',\n",
       " 'features_airplane_1021a0914a7207aff927ed529ad90a11-x11.mat',\n",
       " 'features_airplane_1021a0914a7207aff927ed529ad90a11-xp01.mat',\n",
       " 'features_airplane_1021a0914a7207aff927ed529ad90a11-xp02.mat',\n",
       " 'features_airplane_1021a0914a7207aff927ed529ad90a11-xp03.mat',\n",
       " 'features_airplane_1021a0914a7207aff927ed529ad90a11-xp04.mat',\n",
       " 'features_airplane_1021a0914a7207aff927ed529ad90a11-xp05.mat',\n",
       " 'features_airplane_1021a0914a7207aff927ed529ad90a11-xp06.mat',\n",
       " 'features_airplane_1021a0914a7207aff927ed529ad90a11-xp07.mat',\n",
       " 'features_airplane_1021a0914a7207aff927ed529ad90a11-xp08.mat',\n",
       " 'features_airplane_1021a0914a7207aff927ed529ad90a11-xp09.mat',\n",
       " 'features_airplane_1021a0914a7207aff927ed529ad90a11-xp10.mat',\n",
       " 'features_airplane_1021a0914a7207aff927ed529ad90a11-xp11.mat',\n",
       " 'features_airplane_1021a0914a7207aff927ed529ad90a11-xpr01.mat',\n",
       " 'features_airplane_1021a0914a7207aff927ed529ad90a11-xpr02.mat',\n",
       " 'features_airplane_1021a0914a7207aff927ed529ad90a11-xpr03.mat',\n",
       " 'features_airplane_1021a0914a7207aff927ed529ad90a11-xpr04.mat',\n",
       " 'features_airplane_1021a0914a7207aff927ed529ad90a11-xpr05.mat',\n",
       " 'features_airplane_1021a0914a7207aff927ed529ad90a11-xpr06.mat',\n",
       " 'features_airplane_1021a0914a7207aff927ed529ad90a11-xpr07.mat',\n",
       " 'features_airplane_1021a0914a7207aff927ed529ad90a11-xpr08.mat',\n",
       " 'features_airplane_1021a0914a7207aff927ed529ad90a11-xpr09.mat',\n",
       " 'features_airplane_1021a0914a7207aff927ed529ad90a11-xpr10.mat',\n",
       " 'features_airplane_1021a0914a7207aff927ed529ad90a11-xpr11.mat',\n",
       " 'features_airplane_1021a0914a7207aff927ed529ad90a11-xprw01.mat',\n",
       " 'features_airplane_1021a0914a7207aff927ed529ad90a11-xprw02.mat',\n",
       " 'features_airplane_1021a0914a7207aff927ed529ad90a11-xprw03.mat',\n",
       " 'features_airplane_1021a0914a7207aff927ed529ad90a11-xprw04.mat',\n",
       " 'features_airplane_1021a0914a7207aff927ed529ad90a11-xprw05.mat',\n",
       " 'features_airplane_1021a0914a7207aff927ed529ad90a11-xprw06.mat',\n",
       " 'features_airplane_1021a0914a7207aff927ed529ad90a11-xprw07.mat',\n",
       " 'features_airplane_1021a0914a7207aff927ed529ad90a11-xprw08.mat',\n",
       " 'features_airplane_1021a0914a7207aff927ed529ad90a11-xprw09.mat',\n",
       " 'features_airplane_1021a0914a7207aff927ed529ad90a11-xprw10.mat',\n",
       " 'features_airplane_1021a0914a7207aff927ed529ad90a11-xprw11.mat',\n",
       " 'features_airplane_1021a0914a7207aff927ed529ad90a11-xpw01.mat',\n",
       " 'features_airplane_1021a0914a7207aff927ed529ad90a11-xpw02.mat',\n",
       " 'features_airplane_1021a0914a7207aff927ed529ad90a11-xpw03.mat',\n",
       " 'features_airplane_1021a0914a7207aff927ed529ad90a11-xpw04.mat',\n",
       " 'features_airplane_1021a0914a7207aff927ed529ad90a11-xpw05.mat',\n",
       " 'features_airplane_1021a0914a7207aff927ed529ad90a11-xpw06.mat',\n",
       " 'features_airplane_1021a0914a7207aff927ed529ad90a11-xpw07.mat',\n",
       " 'features_airplane_1021a0914a7207aff927ed529ad90a11-xpw08.mat',\n",
       " 'features_airplane_1021a0914a7207aff927ed529ad90a11-xpw09.mat',\n",
       " 'features_airplane_1021a0914a7207aff927ed529ad90a11-xpw10.mat',\n",
       " 'features_airplane_1021a0914a7207aff927ed529ad90a11-xpw11.mat',\n",
       " 'features_airplane_1021a0914a7207aff927ed529ad90a11-xr01.mat',\n",
       " 'features_airplane_1021a0914a7207aff927ed529ad90a11-xr02.mat',\n",
       " 'features_airplane_1021a0914a7207aff927ed529ad90a11-xr03.mat',\n",
       " 'features_airplane_1021a0914a7207aff927ed529ad90a11-xr04.mat',\n",
       " 'features_airplane_1021a0914a7207aff927ed529ad90a11-xr05.mat',\n",
       " 'features_airplane_1021a0914a7207aff927ed529ad90a11-xr06.mat',\n",
       " 'features_airplane_1021a0914a7207aff927ed529ad90a11-xr07.mat',\n",
       " 'features_airplane_1021a0914a7207aff927ed529ad90a11-xr08.mat',\n",
       " 'features_airplane_1021a0914a7207aff927ed529ad90a11-xr09.mat',\n",
       " 'features_airplane_1021a0914a7207aff927ed529ad90a11-xr10.mat',\n",
       " 'features_airplane_1021a0914a7207aff927ed529ad90a11-xr11.mat',\n",
       " 'features_airplane_1021a0914a7207aff927ed529ad90a11-xrw01.mat',\n",
       " 'features_airplane_1021a0914a7207aff927ed529ad90a11-xrw02.mat',\n",
       " 'features_airplane_1021a0914a7207aff927ed529ad90a11-xrw03.mat',\n",
       " 'features_airplane_1021a0914a7207aff927ed529ad90a11-xrw04.mat',\n",
       " 'features_airplane_1021a0914a7207aff927ed529ad90a11-xrw05.mat',\n",
       " 'features_airplane_1021a0914a7207aff927ed529ad90a11-xrw06.mat',\n",
       " 'features_airplane_1021a0914a7207aff927ed529ad90a11-xrw07.mat',\n",
       " 'features_airplane_1021a0914a7207aff927ed529ad90a11-xrw08.mat',\n",
       " 'features_airplane_1021a0914a7207aff927ed529ad90a11-xrw09.mat',\n",
       " 'features_airplane_1021a0914a7207aff927ed529ad90a11-xrw10.mat',\n",
       " 'features_airplane_1021a0914a7207aff927ed529ad90a11-xrw11.mat',\n",
       " 'features_airplane_1021a0914a7207aff927ed529ad90a11-xw01.mat',\n",
       " 'features_airplane_1021a0914a7207aff927ed529ad90a11-xw02.mat',\n",
       " 'features_airplane_1021a0914a7207aff927ed529ad90a11-xw03.mat',\n",
       " 'features_airplane_1021a0914a7207aff927ed529ad90a11-xw04.mat',\n",
       " 'features_airplane_1021a0914a7207aff927ed529ad90a11-xw05.mat',\n",
       " 'features_airplane_1021a0914a7207aff927ed529ad90a11-xw06.mat',\n",
       " 'features_airplane_1021a0914a7207aff927ed529ad90a11-xw07.mat',\n",
       " 'features_airplane_1021a0914a7207aff927ed529ad90a11-xw08.mat',\n",
       " 'features_airplane_1021a0914a7207aff927ed529ad90a11-xw09.mat',\n",
       " 'features_airplane_1021a0914a7207aff927ed529ad90a11-xw10.mat',\n",
       " 'features_airplane_1021a0914a7207aff927ed529ad90a11-xw11.mat',\n",
       " 'features_airplane_1021a0914a7207aff927ed529ad90a11-xy01.mat',\n",
       " 'features_airplane_1021a0914a7207aff927ed529ad90a11-xy02.mat',\n",
       " 'features_airplane_1021a0914a7207aff927ed529ad90a11-xy03.mat',\n",
       " 'features_airplane_1021a0914a7207aff927ed529ad90a11-xy04.mat',\n",
       " 'features_airplane_1021a0914a7207aff927ed529ad90a11-xy05.mat',\n",
       " 'features_airplane_1021a0914a7207aff927ed529ad90a11-xy06.mat',\n",
       " 'features_airplane_1021a0914a7207aff927ed529ad90a11-xy07.mat',\n",
       " 'features_airplane_1021a0914a7207aff927ed529ad90a11-xy08.mat',\n",
       " 'features_airplane_1021a0914a7207aff927ed529ad90a11-xy09.mat',\n",
       " 'features_airplane_1021a0914a7207aff927ed529ad90a11-xy10.mat',\n",
       " 'features_airplane_1021a0914a7207aff927ed529ad90a11-xy11.mat',\n",
       " 'features_airplane_1021a0914a7207aff927ed529ad90a11-xyp01.mat',\n",
       " 'features_airplane_1021a0914a7207aff927ed529ad90a11-xyp02.mat',\n",
       " 'features_airplane_1021a0914a7207aff927ed529ad90a11-xyp03.mat',\n",
       " 'features_airplane_1021a0914a7207aff927ed529ad90a11-xyp04.mat',\n",
       " 'features_airplane_1021a0914a7207aff927ed529ad90a11-xyp05.mat',\n",
       " 'features_airplane_1021a0914a7207aff927ed529ad90a11-xyp06.mat',\n",
       " 'features_airplane_1021a0914a7207aff927ed529ad90a11-xyp07.mat',\n",
       " 'features_airplane_1021a0914a7207aff927ed529ad90a11-xyp08.mat',\n",
       " 'features_airplane_1021a0914a7207aff927ed529ad90a11-xyp09.mat',\n",
       " 'features_airplane_1021a0914a7207aff927ed529ad90a11-xyp10.mat',\n",
       " 'features_airplane_1021a0914a7207aff927ed529ad90a11-xyp11.mat',\n",
       " 'features_airplane_1021a0914a7207aff927ed529ad90a11-xypr01.mat',\n",
       " 'features_airplane_1021a0914a7207aff927ed529ad90a11-xypr02.mat',\n",
       " 'features_airplane_1021a0914a7207aff927ed529ad90a11-xypr03.mat',\n",
       " 'features_airplane_1021a0914a7207aff927ed529ad90a11-xypr04.mat',\n",
       " 'features_airplane_1021a0914a7207aff927ed529ad90a11-xypr05.mat',\n",
       " 'features_airplane_1021a0914a7207aff927ed529ad90a11-xypr06.mat',\n",
       " 'features_airplane_1021a0914a7207aff927ed529ad90a11-xypr07.mat',\n",
       " 'features_airplane_1021a0914a7207aff927ed529ad90a11-xypr08.mat',\n",
       " 'features_airplane_1021a0914a7207aff927ed529ad90a11-xypr09.mat',\n",
       " 'features_airplane_1021a0914a7207aff927ed529ad90a11-xypr10.mat',\n",
       " 'features_airplane_1021a0914a7207aff927ed529ad90a11-xypr11.mat',\n",
       " 'features_airplane_1021a0914a7207aff927ed529ad90a11-xyprw01.mat',\n",
       " 'features_airplane_1021a0914a7207aff927ed529ad90a11-xyprw02.mat',\n",
       " 'features_airplane_1021a0914a7207aff927ed529ad90a11-xyprw03.mat',\n",
       " 'features_airplane_1021a0914a7207aff927ed529ad90a11-xyprw04.mat',\n",
       " 'features_airplane_1021a0914a7207aff927ed529ad90a11-xyprw05.mat',\n",
       " 'features_airplane_1021a0914a7207aff927ed529ad90a11-xyprw06.mat',\n",
       " 'features_airplane_1021a0914a7207aff927ed529ad90a11-xyprw07.mat',\n",
       " 'features_airplane_1021a0914a7207aff927ed529ad90a11-xyprw08.mat',\n",
       " 'features_airplane_1021a0914a7207aff927ed529ad90a11-xyprw09.mat',\n",
       " 'features_airplane_1021a0914a7207aff927ed529ad90a11-xyprw10.mat',\n",
       " 'features_airplane_1021a0914a7207aff927ed529ad90a11-xyprw11.mat',\n",
       " 'features_airplane_1021a0914a7207aff927ed529ad90a11-xypw01.mat',\n",
       " 'features_airplane_1021a0914a7207aff927ed529ad90a11-xypw02.mat',\n",
       " 'features_airplane_1021a0914a7207aff927ed529ad90a11-xypw03.mat',\n",
       " 'features_airplane_1021a0914a7207aff927ed529ad90a11-xypw04.mat',\n",
       " 'features_airplane_1021a0914a7207aff927ed529ad90a11-xypw05.mat',\n",
       " 'features_airplane_1021a0914a7207aff927ed529ad90a11-xypw06.mat',\n",
       " 'features_airplane_1021a0914a7207aff927ed529ad90a11-xypw07.mat',\n",
       " 'features_airplane_1021a0914a7207aff927ed529ad90a11-xypw08.mat',\n",
       " 'features_airplane_1021a0914a7207aff927ed529ad90a11-xypw09.mat',\n",
       " 'features_airplane_1021a0914a7207aff927ed529ad90a11-xypw10.mat',\n",
       " 'features_airplane_1021a0914a7207aff927ed529ad90a11-xypw11.mat',\n",
       " 'features_airplane_1021a0914a7207aff927ed529ad90a11-xyr01.mat',\n",
       " 'features_airplane_1021a0914a7207aff927ed529ad90a11-xyr02.mat',\n",
       " 'features_airplane_1021a0914a7207aff927ed529ad90a11-xyr03.mat',\n",
       " 'features_airplane_1021a0914a7207aff927ed529ad90a11-xyr04.mat',\n",
       " 'features_airplane_1021a0914a7207aff927ed529ad90a11-xyr05.mat',\n",
       " 'features_airplane_1021a0914a7207aff927ed529ad90a11-xyr06.mat',\n",
       " 'features_airplane_1021a0914a7207aff927ed529ad90a11-xyr07.mat',\n",
       " 'features_airplane_1021a0914a7207aff927ed529ad90a11-xyr08.mat',\n",
       " 'features_airplane_1021a0914a7207aff927ed529ad90a11-xyr09.mat',\n",
       " 'features_airplane_1021a0914a7207aff927ed529ad90a11-xyr10.mat',\n",
       " 'features_airplane_1021a0914a7207aff927ed529ad90a11-xyr11.mat',\n",
       " 'features_airplane_1021a0914a7207aff927ed529ad90a11-xyrw01.mat',\n",
       " 'features_airplane_1021a0914a7207aff927ed529ad90a11-xyrw02.mat',\n",
       " 'features_airplane_1021a0914a7207aff927ed529ad90a11-xyrw03.mat',\n",
       " 'features_airplane_1021a0914a7207aff927ed529ad90a11-xyrw04.mat',\n",
       " 'features_airplane_1021a0914a7207aff927ed529ad90a11-xyrw05.mat',\n",
       " 'features_airplane_1021a0914a7207aff927ed529ad90a11-xyrw06.mat',\n",
       " 'features_airplane_1021a0914a7207aff927ed529ad90a11-xyrw07.mat',\n",
       " 'features_airplane_1021a0914a7207aff927ed529ad90a11-xyrw08.mat',\n",
       " 'features_airplane_1021a0914a7207aff927ed529ad90a11-xyrw09.mat',\n",
       " 'features_airplane_1021a0914a7207aff927ed529ad90a11-xyrw10.mat',\n",
       " 'features_airplane_1021a0914a7207aff927ed529ad90a11-xyrw11.mat',\n",
       " 'features_airplane_1021a0914a7207aff927ed529ad90a11-xyw01.mat',\n",
       " 'features_airplane_1021a0914a7207aff927ed529ad90a11-xyw02.mat',\n",
       " 'features_airplane_1021a0914a7207aff927ed529ad90a11-xyw03.mat',\n",
       " 'features_airplane_1021a0914a7207aff927ed529ad90a11-xyw04.mat',\n",
       " 'features_airplane_1021a0914a7207aff927ed529ad90a11-xyw05.mat',\n",
       " 'features_airplane_1021a0914a7207aff927ed529ad90a11-xyw06.mat',\n",
       " 'features_airplane_1021a0914a7207aff927ed529ad90a11-xyw07.mat',\n",
       " 'features_airplane_1021a0914a7207aff927ed529ad90a11-xyw08.mat',\n",
       " 'features_airplane_1021a0914a7207aff927ed529ad90a11-xyw09.mat',\n",
       " 'features_airplane_1021a0914a7207aff927ed529ad90a11-xyw10.mat',\n",
       " 'features_airplane_1021a0914a7207aff927ed529ad90a11-xyw11.mat',\n",
       " 'features_airplane_1021a0914a7207aff927ed529ad90a11-y01.mat',\n",
       " 'features_airplane_1021a0914a7207aff927ed529ad90a11-y02.mat',\n",
       " 'features_airplane_1021a0914a7207aff927ed529ad90a11-y03.mat',\n",
       " 'features_airplane_1021a0914a7207aff927ed529ad90a11-y04.mat',\n",
       " 'features_airplane_1021a0914a7207aff927ed529ad90a11-y05.mat',\n",
       " 'features_airplane_1021a0914a7207aff927ed529ad90a11-y06.mat',\n",
       " 'features_airplane_1021a0914a7207aff927ed529ad90a11-y07.mat',\n",
       " 'features_airplane_1021a0914a7207aff927ed529ad90a11-y08.mat',\n",
       " 'features_airplane_1021a0914a7207aff927ed529ad90a11-y09.mat',\n",
       " 'features_airplane_1021a0914a7207aff927ed529ad90a11-y10.mat',\n",
       " 'features_airplane_1021a0914a7207aff927ed529ad90a11-y11.mat',\n",
       " 'features_airplane_1021a0914a7207aff927ed529ad90a11-yp01.mat',\n",
       " 'features_airplane_1021a0914a7207aff927ed529ad90a11-yp02.mat',\n",
       " 'features_airplane_1021a0914a7207aff927ed529ad90a11-yp03.mat',\n",
       " 'features_airplane_1021a0914a7207aff927ed529ad90a11-yp04.mat',\n",
       " 'features_airplane_1021a0914a7207aff927ed529ad90a11-yp05.mat',\n",
       " 'features_airplane_1021a0914a7207aff927ed529ad90a11-yp06.mat',\n",
       " 'features_airplane_1021a0914a7207aff927ed529ad90a11-yp07.mat',\n",
       " 'features_airplane_1021a0914a7207aff927ed529ad90a11-yp08.mat',\n",
       " 'features_airplane_1021a0914a7207aff927ed529ad90a11-yp09.mat',\n",
       " 'features_airplane_1021a0914a7207aff927ed529ad90a11-yp10.mat',\n",
       " 'features_airplane_1021a0914a7207aff927ed529ad90a11-yp11.mat',\n",
       " 'features_airplane_1021a0914a7207aff927ed529ad90a11-ypr01.mat',\n",
       " 'features_airplane_1021a0914a7207aff927ed529ad90a11-ypr02.mat',\n",
       " 'features_airplane_1021a0914a7207aff927ed529ad90a11-ypr03.mat',\n",
       " 'features_airplane_1021a0914a7207aff927ed529ad90a11-ypr04.mat',\n",
       " 'features_airplane_1021a0914a7207aff927ed529ad90a11-ypr05.mat',\n",
       " 'features_airplane_1021a0914a7207aff927ed529ad90a11-ypr06.mat',\n",
       " 'features_airplane_1021a0914a7207aff927ed529ad90a11-ypr07.mat',\n",
       " 'features_airplane_1021a0914a7207aff927ed529ad90a11-ypr08.mat',\n",
       " 'features_airplane_1021a0914a7207aff927ed529ad90a11-ypr09.mat',\n",
       " 'features_airplane_1021a0914a7207aff927ed529ad90a11-ypr10.mat',\n",
       " 'features_airplane_1021a0914a7207aff927ed529ad90a11-ypr11.mat',\n",
       " 'features_airplane_1021a0914a7207aff927ed529ad90a11-yprw01.mat',\n",
       " 'features_airplane_1021a0914a7207aff927ed529ad90a11-yprw02.mat',\n",
       " 'features_airplane_1021a0914a7207aff927ed529ad90a11-yprw03.mat',\n",
       " 'features_airplane_1021a0914a7207aff927ed529ad90a11-yprw04.mat',\n",
       " 'features_airplane_1021a0914a7207aff927ed529ad90a11-yprw05.mat',\n",
       " 'features_airplane_1021a0914a7207aff927ed529ad90a11-yprw06.mat',\n",
       " 'features_airplane_1021a0914a7207aff927ed529ad90a11-yprw07.mat',\n",
       " 'features_airplane_1021a0914a7207aff927ed529ad90a11-yprw08.mat',\n",
       " 'features_airplane_1021a0914a7207aff927ed529ad90a11-yprw09.mat',\n",
       " 'features_airplane_1021a0914a7207aff927ed529ad90a11-yprw10.mat',\n",
       " 'features_airplane_1021a0914a7207aff927ed529ad90a11-yprw11.mat',\n",
       " 'features_airplane_1021a0914a7207aff927ed529ad90a11-ypw01.mat',\n",
       " 'features_airplane_1021a0914a7207aff927ed529ad90a11-ypw02.mat',\n",
       " 'features_airplane_1021a0914a7207aff927ed529ad90a11-ypw03.mat',\n",
       " 'features_airplane_1021a0914a7207aff927ed529ad90a11-ypw04.mat',\n",
       " 'features_airplane_1021a0914a7207aff927ed529ad90a11-ypw05.mat',\n",
       " 'features_airplane_1021a0914a7207aff927ed529ad90a11-ypw06.mat',\n",
       " 'features_airplane_1021a0914a7207aff927ed529ad90a11-ypw07.mat',\n",
       " 'features_airplane_1021a0914a7207aff927ed529ad90a11-ypw08.mat',\n",
       " 'features_airplane_1021a0914a7207aff927ed529ad90a11-ypw09.mat',\n",
       " 'features_airplane_1021a0914a7207aff927ed529ad90a11-ypw10.mat',\n",
       " 'features_airplane_1021a0914a7207aff927ed529ad90a11-ypw11.mat',\n",
       " 'features_airplane_1021a0914a7207aff927ed529ad90a11-yr01.mat',\n",
       " 'features_airplane_1021a0914a7207aff927ed529ad90a11-yr02.mat',\n",
       " 'features_airplane_1021a0914a7207aff927ed529ad90a11-yr03.mat',\n",
       " 'features_airplane_1021a0914a7207aff927ed529ad90a11-yr04.mat',\n",
       " 'features_airplane_1021a0914a7207aff927ed529ad90a11-yr05.mat',\n",
       " 'features_airplane_1021a0914a7207aff927ed529ad90a11-yr06.mat',\n",
       " 'features_airplane_1021a0914a7207aff927ed529ad90a11-yr07.mat',\n",
       " 'features_airplane_1021a0914a7207aff927ed529ad90a11-yr08.mat',\n",
       " 'features_airplane_1021a0914a7207aff927ed529ad90a11-yr09.mat',\n",
       " 'features_airplane_1021a0914a7207aff927ed529ad90a11-yr10.mat',\n",
       " 'features_airplane_1021a0914a7207aff927ed529ad90a11-yr11.mat',\n",
       " 'features_airplane_1021a0914a7207aff927ed529ad90a11-yrw01.mat',\n",
       " 'features_airplane_1021a0914a7207aff927ed529ad90a11-yrw02.mat',\n",
       " 'features_airplane_1021a0914a7207aff927ed529ad90a11-yrw03.mat',\n",
       " 'features_airplane_1021a0914a7207aff927ed529ad90a11-yrw04.mat',\n",
       " 'features_airplane_1021a0914a7207aff927ed529ad90a11-yrw05.mat',\n",
       " 'features_airplane_1021a0914a7207aff927ed529ad90a11-yrw06.mat',\n",
       " 'features_airplane_1021a0914a7207aff927ed529ad90a11-yrw07.mat',\n",
       " 'features_airplane_1021a0914a7207aff927ed529ad90a11-yrw08.mat',\n",
       " 'features_airplane_1021a0914a7207aff927ed529ad90a11-yrw09.mat',\n",
       " 'features_airplane_1021a0914a7207aff927ed529ad90a11-yrw10.mat',\n",
       " 'features_airplane_1021a0914a7207aff927ed529ad90a11-yrw11.mat',\n",
       " 'features_airplane_1021a0914a7207aff927ed529ad90a11-yw01.mat',\n",
       " 'features_airplane_1021a0914a7207aff927ed529ad90a11-yw02.mat',\n",
       " 'features_airplane_1021a0914a7207aff927ed529ad90a11-yw03.mat',\n",
       " 'features_airplane_1021a0914a7207aff927ed529ad90a11-yw04.mat',\n",
       " 'features_airplane_1021a0914a7207aff927ed529ad90a11-yw05.mat',\n",
       " 'features_airplane_1021a0914a7207aff927ed529ad90a11-yw06.mat',\n",
       " 'features_airplane_1021a0914a7207aff927ed529ad90a11-yw07.mat',\n",
       " 'features_airplane_1021a0914a7207aff927ed529ad90a11-yw08.mat',\n",
       " 'features_airplane_1021a0914a7207aff927ed529ad90a11-yw09.mat',\n",
       " 'features_airplane_1021a0914a7207aff927ed529ad90a11-yw10.mat',\n",
       " 'features_airplane_1021a0914a7207aff927ed529ad90a11-yw11.mat',\n",
       " 'features_airplane_326e859d86a8078427eb9e7911a17418-p01.mat',\n",
       " 'features_airplane_326e859d86a8078427eb9e7911a17418-p02.mat',\n",
       " 'features_airplane_326e859d86a8078427eb9e7911a17418-p03.mat',\n",
       " 'features_airplane_326e859d86a8078427eb9e7911a17418-p04.mat',\n",
       " 'features_airplane_326e859d86a8078427eb9e7911a17418-p05.mat',\n",
       " 'features_airplane_326e859d86a8078427eb9e7911a17418-p06.mat',\n",
       " 'features_airplane_326e859d86a8078427eb9e7911a17418-p07.mat',\n",
       " 'features_airplane_326e859d86a8078427eb9e7911a17418-p08.mat',\n",
       " 'features_airplane_326e859d86a8078427eb9e7911a17418-p09.mat',\n",
       " 'features_airplane_326e859d86a8078427eb9e7911a17418-p10.mat',\n",
       " 'features_airplane_326e859d86a8078427eb9e7911a17418-p11.mat',\n",
       " 'features_airplane_326e859d86a8078427eb9e7911a17418-pr01.mat',\n",
       " 'features_airplane_326e859d86a8078427eb9e7911a17418-pr02.mat',\n",
       " 'features_airplane_326e859d86a8078427eb9e7911a17418-pr03.mat',\n",
       " 'features_airplane_326e859d86a8078427eb9e7911a17418-pr04.mat',\n",
       " 'features_airplane_326e859d86a8078427eb9e7911a17418-pr05.mat',\n",
       " 'features_airplane_326e859d86a8078427eb9e7911a17418-pr06.mat',\n",
       " 'features_airplane_326e859d86a8078427eb9e7911a17418-pr07.mat',\n",
       " 'features_airplane_326e859d86a8078427eb9e7911a17418-pr08.mat',\n",
       " 'features_airplane_326e859d86a8078427eb9e7911a17418-pr09.mat',\n",
       " 'features_airplane_326e859d86a8078427eb9e7911a17418-pr10.mat',\n",
       " 'features_airplane_326e859d86a8078427eb9e7911a17418-pr11.mat',\n",
       " 'features_airplane_326e859d86a8078427eb9e7911a17418-prw01.mat',\n",
       " 'features_airplane_326e859d86a8078427eb9e7911a17418-prw02.mat',\n",
       " 'features_airplane_326e859d86a8078427eb9e7911a17418-prw03.mat',\n",
       " 'features_airplane_326e859d86a8078427eb9e7911a17418-prw04.mat',\n",
       " 'features_airplane_326e859d86a8078427eb9e7911a17418-prw05.mat',\n",
       " 'features_airplane_326e859d86a8078427eb9e7911a17418-prw06.mat',\n",
       " 'features_airplane_326e859d86a8078427eb9e7911a17418-prw07.mat',\n",
       " 'features_airplane_326e859d86a8078427eb9e7911a17418-prw08.mat',\n",
       " 'features_airplane_326e859d86a8078427eb9e7911a17418-prw09.mat',\n",
       " 'features_airplane_326e859d86a8078427eb9e7911a17418-prw10.mat',\n",
       " 'features_airplane_326e859d86a8078427eb9e7911a17418-prw11.mat',\n",
       " 'features_airplane_326e859d86a8078427eb9e7911a17418-pw01.mat',\n",
       " 'features_airplane_326e859d86a8078427eb9e7911a17418-pw02.mat',\n",
       " 'features_airplane_326e859d86a8078427eb9e7911a17418-pw03.mat',\n",
       " 'features_airplane_326e859d86a8078427eb9e7911a17418-pw04.mat',\n",
       " 'features_airplane_326e859d86a8078427eb9e7911a17418-pw05.mat',\n",
       " 'features_airplane_326e859d86a8078427eb9e7911a17418-pw06.mat',\n",
       " 'features_airplane_326e859d86a8078427eb9e7911a17418-pw07.mat',\n",
       " 'features_airplane_326e859d86a8078427eb9e7911a17418-pw08.mat',\n",
       " 'features_airplane_326e859d86a8078427eb9e7911a17418-pw09.mat',\n",
       " 'features_airplane_326e859d86a8078427eb9e7911a17418-pw10.mat',\n",
       " 'features_airplane_326e859d86a8078427eb9e7911a17418-pw11.mat',\n",
       " 'features_airplane_326e859d86a8078427eb9e7911a17418-r01.mat',\n",
       " 'features_airplane_326e859d86a8078427eb9e7911a17418-r02.mat',\n",
       " 'features_airplane_326e859d86a8078427eb9e7911a17418-r03.mat',\n",
       " 'features_airplane_326e859d86a8078427eb9e7911a17418-r04.mat',\n",
       " 'features_airplane_326e859d86a8078427eb9e7911a17418-r05.mat',\n",
       " 'features_airplane_326e859d86a8078427eb9e7911a17418-r06.mat',\n",
       " 'features_airplane_326e859d86a8078427eb9e7911a17418-r07.mat',\n",
       " 'features_airplane_326e859d86a8078427eb9e7911a17418-r08.mat',\n",
       " 'features_airplane_326e859d86a8078427eb9e7911a17418-r09.mat',\n",
       " 'features_airplane_326e859d86a8078427eb9e7911a17418-r10.mat',\n",
       " 'features_airplane_326e859d86a8078427eb9e7911a17418-r11.mat',\n",
       " 'features_airplane_326e859d86a8078427eb9e7911a17418-rw01.mat',\n",
       " 'features_airplane_326e859d86a8078427eb9e7911a17418-rw02.mat',\n",
       " 'features_airplane_326e859d86a8078427eb9e7911a17418-rw03.mat',\n",
       " 'features_airplane_326e859d86a8078427eb9e7911a17418-rw04.mat',\n",
       " 'features_airplane_326e859d86a8078427eb9e7911a17418-rw05.mat',\n",
       " 'features_airplane_326e859d86a8078427eb9e7911a17418-rw06.mat',\n",
       " 'features_airplane_326e859d86a8078427eb9e7911a17418-rw07.mat',\n",
       " 'features_airplane_326e859d86a8078427eb9e7911a17418-rw08.mat',\n",
       " 'features_airplane_326e859d86a8078427eb9e7911a17418-rw09.mat',\n",
       " 'features_airplane_326e859d86a8078427eb9e7911a17418-rw10.mat',\n",
       " 'features_airplane_326e859d86a8078427eb9e7911a17418-rw11.mat',\n",
       " 'features_airplane_326e859d86a8078427eb9e7911a17418-w01.mat',\n",
       " 'features_airplane_326e859d86a8078427eb9e7911a17418-w02.mat',\n",
       " 'features_airplane_326e859d86a8078427eb9e7911a17418-w03.mat',\n",
       " 'features_airplane_326e859d86a8078427eb9e7911a17418-w04.mat',\n",
       " 'features_airplane_326e859d86a8078427eb9e7911a17418-w05.mat',\n",
       " 'features_airplane_326e859d86a8078427eb9e7911a17418-w06.mat',\n",
       " 'features_airplane_326e859d86a8078427eb9e7911a17418-w07.mat',\n",
       " 'features_airplane_326e859d86a8078427eb9e7911a17418-w08.mat',\n",
       " 'features_airplane_326e859d86a8078427eb9e7911a17418-w09.mat',\n",
       " 'features_airplane_326e859d86a8078427eb9e7911a17418-w10.mat',\n",
       " 'features_airplane_326e859d86a8078427eb9e7911a17418-w11.mat',\n",
       " 'features_airplane_326e859d86a8078427eb9e7911a17418-x01.mat',\n",
       " 'features_airplane_326e859d86a8078427eb9e7911a17418-x02.mat',\n",
       " 'features_airplane_326e859d86a8078427eb9e7911a17418-x03.mat',\n",
       " 'features_airplane_326e859d86a8078427eb9e7911a17418-x04.mat',\n",
       " 'features_airplane_326e859d86a8078427eb9e7911a17418-x05.mat',\n",
       " 'features_airplane_326e859d86a8078427eb9e7911a17418-x06.mat',\n",
       " 'features_airplane_326e859d86a8078427eb9e7911a17418-x07.mat',\n",
       " 'features_airplane_326e859d86a8078427eb9e7911a17418-x08.mat',\n",
       " 'features_airplane_326e859d86a8078427eb9e7911a17418-x09.mat',\n",
       " 'features_airplane_326e859d86a8078427eb9e7911a17418-x10.mat',\n",
       " 'features_airplane_326e859d86a8078427eb9e7911a17418-x11.mat',\n",
       " 'features_airplane_326e859d86a8078427eb9e7911a17418-xp01.mat',\n",
       " 'features_airplane_326e859d86a8078427eb9e7911a17418-xp02.mat',\n",
       " 'features_airplane_326e859d86a8078427eb9e7911a17418-xp03.mat',\n",
       " 'features_airplane_326e859d86a8078427eb9e7911a17418-xp04.mat',\n",
       " 'features_airplane_326e859d86a8078427eb9e7911a17418-xp05.mat',\n",
       " 'features_airplane_326e859d86a8078427eb9e7911a17418-xp06.mat',\n",
       " 'features_airplane_326e859d86a8078427eb9e7911a17418-xp07.mat',\n",
       " 'features_airplane_326e859d86a8078427eb9e7911a17418-xp08.mat',\n",
       " 'features_airplane_326e859d86a8078427eb9e7911a17418-xp09.mat',\n",
       " 'features_airplane_326e859d86a8078427eb9e7911a17418-xp10.mat',\n",
       " 'features_airplane_326e859d86a8078427eb9e7911a17418-xp11.mat',\n",
       " 'features_airplane_326e859d86a8078427eb9e7911a17418-xpr01.mat',\n",
       " 'features_airplane_326e859d86a8078427eb9e7911a17418-xpr02.mat',\n",
       " 'features_airplane_326e859d86a8078427eb9e7911a17418-xpr03.mat',\n",
       " 'features_airplane_326e859d86a8078427eb9e7911a17418-xpr04.mat',\n",
       " 'features_airplane_326e859d86a8078427eb9e7911a17418-xpr05.mat',\n",
       " 'features_airplane_326e859d86a8078427eb9e7911a17418-xpr06.mat',\n",
       " 'features_airplane_326e859d86a8078427eb9e7911a17418-xpr07.mat',\n",
       " 'features_airplane_326e859d86a8078427eb9e7911a17418-xpr08.mat',\n",
       " 'features_airplane_326e859d86a8078427eb9e7911a17418-xpr09.mat',\n",
       " 'features_airplane_326e859d86a8078427eb9e7911a17418-xpr10.mat',\n",
       " 'features_airplane_326e859d86a8078427eb9e7911a17418-xpr11.mat',\n",
       " 'features_airplane_326e859d86a8078427eb9e7911a17418-xprw01.mat',\n",
       " 'features_airplane_326e859d86a8078427eb9e7911a17418-xprw02.mat',\n",
       " 'features_airplane_326e859d86a8078427eb9e7911a17418-xprw03.mat',\n",
       " 'features_airplane_326e859d86a8078427eb9e7911a17418-xprw04.mat',\n",
       " 'features_airplane_326e859d86a8078427eb9e7911a17418-xprw05.mat',\n",
       " 'features_airplane_326e859d86a8078427eb9e7911a17418-xprw06.mat',\n",
       " 'features_airplane_326e859d86a8078427eb9e7911a17418-xprw07.mat',\n",
       " 'features_airplane_326e859d86a8078427eb9e7911a17418-xprw08.mat',\n",
       " 'features_airplane_326e859d86a8078427eb9e7911a17418-xprw09.mat',\n",
       " 'features_airplane_326e859d86a8078427eb9e7911a17418-xprw10.mat',\n",
       " 'features_airplane_326e859d86a8078427eb9e7911a17418-xprw11.mat',\n",
       " 'features_airplane_326e859d86a8078427eb9e7911a17418-xpw01.mat',\n",
       " 'features_airplane_326e859d86a8078427eb9e7911a17418-xpw02.mat',\n",
       " 'features_airplane_326e859d86a8078427eb9e7911a17418-xpw03.mat',\n",
       " 'features_airplane_326e859d86a8078427eb9e7911a17418-xpw04.mat',\n",
       " 'features_airplane_326e859d86a8078427eb9e7911a17418-xpw05.mat',\n",
       " 'features_airplane_326e859d86a8078427eb9e7911a17418-xpw06.mat',\n",
       " 'features_airplane_326e859d86a8078427eb9e7911a17418-xpw07.mat',\n",
       " 'features_airplane_326e859d86a8078427eb9e7911a17418-xpw08.mat',\n",
       " 'features_airplane_326e859d86a8078427eb9e7911a17418-xpw09.mat',\n",
       " 'features_airplane_326e859d86a8078427eb9e7911a17418-xpw10.mat',\n",
       " 'features_airplane_326e859d86a8078427eb9e7911a17418-xpw11.mat',\n",
       " 'features_airplane_326e859d86a8078427eb9e7911a17418-xr01.mat',\n",
       " 'features_airplane_326e859d86a8078427eb9e7911a17418-xr02.mat',\n",
       " 'features_airplane_326e859d86a8078427eb9e7911a17418-xr03.mat',\n",
       " 'features_airplane_326e859d86a8078427eb9e7911a17418-xr04.mat',\n",
       " 'features_airplane_326e859d86a8078427eb9e7911a17418-xr05.mat',\n",
       " 'features_airplane_326e859d86a8078427eb9e7911a17418-xr06.mat',\n",
       " 'features_airplane_326e859d86a8078427eb9e7911a17418-xr07.mat',\n",
       " 'features_airplane_326e859d86a8078427eb9e7911a17418-xr08.mat',\n",
       " 'features_airplane_326e859d86a8078427eb9e7911a17418-xr09.mat',\n",
       " 'features_airplane_326e859d86a8078427eb9e7911a17418-xr10.mat',\n",
       " 'features_airplane_326e859d86a8078427eb9e7911a17418-xr11.mat',\n",
       " 'features_airplane_326e859d86a8078427eb9e7911a17418-xrw01.mat',\n",
       " 'features_airplane_326e859d86a8078427eb9e7911a17418-xrw02.mat',\n",
       " 'features_airplane_326e859d86a8078427eb9e7911a17418-xrw03.mat',\n",
       " 'features_airplane_326e859d86a8078427eb9e7911a17418-xrw04.mat',\n",
       " 'features_airplane_326e859d86a8078427eb9e7911a17418-xrw05.mat',\n",
       " 'features_airplane_326e859d86a8078427eb9e7911a17418-xrw06.mat',\n",
       " 'features_airplane_326e859d86a8078427eb9e7911a17418-xrw07.mat',\n",
       " 'features_airplane_326e859d86a8078427eb9e7911a17418-xrw08.mat',\n",
       " 'features_airplane_326e859d86a8078427eb9e7911a17418-xrw09.mat',\n",
       " 'features_airplane_326e859d86a8078427eb9e7911a17418-xrw10.mat',\n",
       " 'features_airplane_326e859d86a8078427eb9e7911a17418-xrw11.mat',\n",
       " 'features_airplane_326e859d86a8078427eb9e7911a17418-xw01.mat',\n",
       " 'features_airplane_326e859d86a8078427eb9e7911a17418-xw02.mat',\n",
       " 'features_airplane_326e859d86a8078427eb9e7911a17418-xw03.mat',\n",
       " 'features_airplane_326e859d86a8078427eb9e7911a17418-xw04.mat',\n",
       " 'features_airplane_326e859d86a8078427eb9e7911a17418-xw05.mat',\n",
       " 'features_airplane_326e859d86a8078427eb9e7911a17418-xw06.mat',\n",
       " 'features_airplane_326e859d86a8078427eb9e7911a17418-xw07.mat',\n",
       " 'features_airplane_326e859d86a8078427eb9e7911a17418-xw08.mat',\n",
       " 'features_airplane_326e859d86a8078427eb9e7911a17418-xw09.mat',\n",
       " 'features_airplane_326e859d86a8078427eb9e7911a17418-xw10.mat',\n",
       " 'features_airplane_326e859d86a8078427eb9e7911a17418-xw11.mat',\n",
       " 'features_airplane_326e859d86a8078427eb9e7911a17418-xy01.mat',\n",
       " 'features_airplane_326e859d86a8078427eb9e7911a17418-xy02.mat',\n",
       " 'features_airplane_326e859d86a8078427eb9e7911a17418-xy03.mat',\n",
       " 'features_airplane_326e859d86a8078427eb9e7911a17418-xy04.mat',\n",
       " 'features_airplane_326e859d86a8078427eb9e7911a17418-xy05.mat',\n",
       " 'features_airplane_326e859d86a8078427eb9e7911a17418-xy06.mat',\n",
       " 'features_airplane_326e859d86a8078427eb9e7911a17418-xy07.mat',\n",
       " 'features_airplane_326e859d86a8078427eb9e7911a17418-xy08.mat',\n",
       " 'features_airplane_326e859d86a8078427eb9e7911a17418-xy09.mat',\n",
       " 'features_airplane_326e859d86a8078427eb9e7911a17418-xy10.mat',\n",
       " 'features_airplane_326e859d86a8078427eb9e7911a17418-xy11.mat',\n",
       " 'features_airplane_326e859d86a8078427eb9e7911a17418-xyp01.mat',\n",
       " 'features_airplane_326e859d86a8078427eb9e7911a17418-xyp02.mat',\n",
       " 'features_airplane_326e859d86a8078427eb9e7911a17418-xyp03.mat',\n",
       " 'features_airplane_326e859d86a8078427eb9e7911a17418-xyp04.mat',\n",
       " 'features_airplane_326e859d86a8078427eb9e7911a17418-xyp05.mat',\n",
       " 'features_airplane_326e859d86a8078427eb9e7911a17418-xyp06.mat',\n",
       " 'features_airplane_326e859d86a8078427eb9e7911a17418-xyp07.mat',\n",
       " 'features_airplane_326e859d86a8078427eb9e7911a17418-xyp08.mat',\n",
       " 'features_airplane_326e859d86a8078427eb9e7911a17418-xyp09.mat',\n",
       " 'features_airplane_326e859d86a8078427eb9e7911a17418-xyp10.mat',\n",
       " 'features_airplane_326e859d86a8078427eb9e7911a17418-xyp11.mat',\n",
       " 'features_airplane_326e859d86a8078427eb9e7911a17418-xypr01.mat',\n",
       " 'features_airplane_326e859d86a8078427eb9e7911a17418-xypr02.mat',\n",
       " 'features_airplane_326e859d86a8078427eb9e7911a17418-xypr03.mat',\n",
       " 'features_airplane_326e859d86a8078427eb9e7911a17418-xypr04.mat',\n",
       " 'features_airplane_326e859d86a8078427eb9e7911a17418-xypr05.mat',\n",
       " 'features_airplane_326e859d86a8078427eb9e7911a17418-xypr06.mat',\n",
       " 'features_airplane_326e859d86a8078427eb9e7911a17418-xypr07.mat',\n",
       " 'features_airplane_326e859d86a8078427eb9e7911a17418-xypr08.mat',\n",
       " 'features_airplane_326e859d86a8078427eb9e7911a17418-xypr09.mat',\n",
       " 'features_airplane_326e859d86a8078427eb9e7911a17418-xypr10.mat',\n",
       " 'features_airplane_326e859d86a8078427eb9e7911a17418-xypr11.mat',\n",
       " 'features_airplane_326e859d86a8078427eb9e7911a17418-xyprw01.mat',\n",
       " 'features_airplane_326e859d86a8078427eb9e7911a17418-xyprw02.mat',\n",
       " 'features_airplane_326e859d86a8078427eb9e7911a17418-xyprw03.mat',\n",
       " 'features_airplane_326e859d86a8078427eb9e7911a17418-xyprw04.mat',\n",
       " 'features_airplane_326e859d86a8078427eb9e7911a17418-xyprw05.mat',\n",
       " 'features_airplane_326e859d86a8078427eb9e7911a17418-xyprw06.mat',\n",
       " 'features_airplane_326e859d86a8078427eb9e7911a17418-xyprw07.mat',\n",
       " 'features_airplane_326e859d86a8078427eb9e7911a17418-xyprw08.mat',\n",
       " 'features_airplane_326e859d86a8078427eb9e7911a17418-xyprw09.mat',\n",
       " 'features_airplane_326e859d86a8078427eb9e7911a17418-xyprw10.mat',\n",
       " 'features_airplane_326e859d86a8078427eb9e7911a17418-xyprw11.mat',\n",
       " 'features_airplane_326e859d86a8078427eb9e7911a17418-xypw01.mat',\n",
       " 'features_airplane_326e859d86a8078427eb9e7911a17418-xypw02.mat',\n",
       " 'features_airplane_326e859d86a8078427eb9e7911a17418-xypw03.mat',\n",
       " 'features_airplane_326e859d86a8078427eb9e7911a17418-xypw04.mat',\n",
       " 'features_airplane_326e859d86a8078427eb9e7911a17418-xypw05.mat',\n",
       " 'features_airplane_326e859d86a8078427eb9e7911a17418-xypw06.mat',\n",
       " 'features_airplane_326e859d86a8078427eb9e7911a17418-xypw07.mat',\n",
       " 'features_airplane_326e859d86a8078427eb9e7911a17418-xypw08.mat',\n",
       " 'features_airplane_326e859d86a8078427eb9e7911a17418-xypw09.mat',\n",
       " 'features_airplane_326e859d86a8078427eb9e7911a17418-xypw10.mat',\n",
       " 'features_airplane_326e859d86a8078427eb9e7911a17418-xypw11.mat',\n",
       " 'features_airplane_326e859d86a8078427eb9e7911a17418-xyr01.mat',\n",
       " 'features_airplane_326e859d86a8078427eb9e7911a17418-xyr02.mat',\n",
       " 'features_airplane_326e859d86a8078427eb9e7911a17418-xyr03.mat',\n",
       " 'features_airplane_326e859d86a8078427eb9e7911a17418-xyr04.mat',\n",
       " 'features_airplane_326e859d86a8078427eb9e7911a17418-xyr05.mat',\n",
       " 'features_airplane_326e859d86a8078427eb9e7911a17418-xyr06.mat',\n",
       " 'features_airplane_326e859d86a8078427eb9e7911a17418-xyr07.mat',\n",
       " 'features_airplane_326e859d86a8078427eb9e7911a17418-xyr08.mat',\n",
       " 'features_airplane_326e859d86a8078427eb9e7911a17418-xyr09.mat',\n",
       " 'features_airplane_326e859d86a8078427eb9e7911a17418-xyr10.mat',\n",
       " 'features_airplane_326e859d86a8078427eb9e7911a17418-xyr11.mat',\n",
       " 'features_airplane_326e859d86a8078427eb9e7911a17418-xyrw01.mat',\n",
       " 'features_airplane_326e859d86a8078427eb9e7911a17418-xyrw02.mat',\n",
       " 'features_airplane_326e859d86a8078427eb9e7911a17418-xyrw03.mat',\n",
       " 'features_airplane_326e859d86a8078427eb9e7911a17418-xyrw04.mat',\n",
       " 'features_airplane_326e859d86a8078427eb9e7911a17418-xyrw05.mat',\n",
       " 'features_airplane_326e859d86a8078427eb9e7911a17418-xyrw06.mat',\n",
       " 'features_airplane_326e859d86a8078427eb9e7911a17418-xyrw07.mat',\n",
       " 'features_airplane_326e859d86a8078427eb9e7911a17418-xyrw08.mat',\n",
       " 'features_airplane_326e859d86a8078427eb9e7911a17418-xyrw09.mat',\n",
       " 'features_airplane_326e859d86a8078427eb9e7911a17418-xyrw10.mat',\n",
       " 'features_airplane_326e859d86a8078427eb9e7911a17418-xyrw11.mat',\n",
       " 'features_airplane_326e859d86a8078427eb9e7911a17418-xyw01.mat',\n",
       " 'features_airplane_326e859d86a8078427eb9e7911a17418-xyw02.mat',\n",
       " 'features_airplane_326e859d86a8078427eb9e7911a17418-xyw03.mat',\n",
       " 'features_airplane_326e859d86a8078427eb9e7911a17418-xyw04.mat',\n",
       " 'features_airplane_326e859d86a8078427eb9e7911a17418-xyw05.mat',\n",
       " 'features_airplane_326e859d86a8078427eb9e7911a17418-xyw06.mat',\n",
       " 'features_airplane_326e859d86a8078427eb9e7911a17418-xyw07.mat',\n",
       " 'features_airplane_326e859d86a8078427eb9e7911a17418-xyw08.mat',\n",
       " 'features_airplane_326e859d86a8078427eb9e7911a17418-xyw09.mat',\n",
       " 'features_airplane_326e859d86a8078427eb9e7911a17418-xyw10.mat',\n",
       " 'features_airplane_326e859d86a8078427eb9e7911a17418-xyw11.mat',\n",
       " 'features_airplane_326e859d86a8078427eb9e7911a17418-y01.mat',\n",
       " 'features_airplane_326e859d86a8078427eb9e7911a17418-y02.mat',\n",
       " 'features_airplane_326e859d86a8078427eb9e7911a17418-y03.mat',\n",
       " 'features_airplane_326e859d86a8078427eb9e7911a17418-y04.mat',\n",
       " 'features_airplane_326e859d86a8078427eb9e7911a17418-y05.mat',\n",
       " 'features_airplane_326e859d86a8078427eb9e7911a17418-y06.mat',\n",
       " 'features_airplane_326e859d86a8078427eb9e7911a17418-y07.mat',\n",
       " 'features_airplane_326e859d86a8078427eb9e7911a17418-y08.mat',\n",
       " 'features_airplane_326e859d86a8078427eb9e7911a17418-y09.mat',\n",
       " 'features_airplane_326e859d86a8078427eb9e7911a17418-y10.mat',\n",
       " 'features_airplane_326e859d86a8078427eb9e7911a17418-y11.mat',\n",
       " 'features_airplane_326e859d86a8078427eb9e7911a17418-yp01.mat',\n",
       " 'features_airplane_326e859d86a8078427eb9e7911a17418-yp02.mat',\n",
       " 'features_airplane_326e859d86a8078427eb9e7911a17418-yp03.mat',\n",
       " 'features_airplane_326e859d86a8078427eb9e7911a17418-yp04.mat',\n",
       " 'features_airplane_326e859d86a8078427eb9e7911a17418-yp05.mat',\n",
       " 'features_airplane_326e859d86a8078427eb9e7911a17418-yp06.mat',\n",
       " 'features_airplane_326e859d86a8078427eb9e7911a17418-yp07.mat',\n",
       " 'features_airplane_326e859d86a8078427eb9e7911a17418-yp08.mat',\n",
       " 'features_airplane_326e859d86a8078427eb9e7911a17418-yp09.mat',\n",
       " 'features_airplane_326e859d86a8078427eb9e7911a17418-yp10.mat',\n",
       " 'features_airplane_326e859d86a8078427eb9e7911a17418-yp11.mat',\n",
       " 'features_airplane_326e859d86a8078427eb9e7911a17418-ypr01.mat',\n",
       " 'features_airplane_326e859d86a8078427eb9e7911a17418-ypr02.mat',\n",
       " 'features_airplane_326e859d86a8078427eb9e7911a17418-ypr03.mat',\n",
       " 'features_airplane_326e859d86a8078427eb9e7911a17418-ypr04.mat',\n",
       " 'features_airplane_326e859d86a8078427eb9e7911a17418-ypr05.mat',\n",
       " 'features_airplane_326e859d86a8078427eb9e7911a17418-ypr06.mat',\n",
       " 'features_airplane_326e859d86a8078427eb9e7911a17418-ypr07.mat',\n",
       " 'features_airplane_326e859d86a8078427eb9e7911a17418-ypr08.mat',\n",
       " 'features_airplane_326e859d86a8078427eb9e7911a17418-ypr09.mat',\n",
       " 'features_airplane_326e859d86a8078427eb9e7911a17418-ypr10.mat',\n",
       " 'features_airplane_326e859d86a8078427eb9e7911a17418-ypr11.mat',\n",
       " 'features_airplane_326e859d86a8078427eb9e7911a17418-yprw01.mat',\n",
       " 'features_airplane_326e859d86a8078427eb9e7911a17418-yprw02.mat',\n",
       " 'features_airplane_326e859d86a8078427eb9e7911a17418-yprw03.mat',\n",
       " 'features_airplane_326e859d86a8078427eb9e7911a17418-yprw04.mat',\n",
       " 'features_airplane_326e859d86a8078427eb9e7911a17418-yprw05.mat',\n",
       " 'features_airplane_326e859d86a8078427eb9e7911a17418-yprw06.mat',\n",
       " 'features_airplane_326e859d86a8078427eb9e7911a17418-yprw07.mat',\n",
       " 'features_airplane_326e859d86a8078427eb9e7911a17418-yprw08.mat',\n",
       " 'features_airplane_326e859d86a8078427eb9e7911a17418-yprw09.mat',\n",
       " 'features_airplane_326e859d86a8078427eb9e7911a17418-yprw10.mat',\n",
       " 'features_airplane_326e859d86a8078427eb9e7911a17418-yprw11.mat',\n",
       " 'features_airplane_326e859d86a8078427eb9e7911a17418-ypw01.mat',\n",
       " 'features_airplane_326e859d86a8078427eb9e7911a17418-ypw02.mat',\n",
       " 'features_airplane_326e859d86a8078427eb9e7911a17418-ypw03.mat',\n",
       " 'features_airplane_326e859d86a8078427eb9e7911a17418-ypw04.mat',\n",
       " 'features_airplane_326e859d86a8078427eb9e7911a17418-ypw05.mat',\n",
       " 'features_airplane_326e859d86a8078427eb9e7911a17418-ypw06.mat',\n",
       " 'features_airplane_326e859d86a8078427eb9e7911a17418-ypw07.mat',\n",
       " 'features_airplane_326e859d86a8078427eb9e7911a17418-ypw08.mat',\n",
       " 'features_airplane_326e859d86a8078427eb9e7911a17418-ypw09.mat',\n",
       " 'features_airplane_326e859d86a8078427eb9e7911a17418-ypw10.mat',\n",
       " 'features_airplane_326e859d86a8078427eb9e7911a17418-ypw11.mat',\n",
       " 'features_airplane_326e859d86a8078427eb9e7911a17418-yr01.mat',\n",
       " 'features_airplane_326e859d86a8078427eb9e7911a17418-yr02.mat',\n",
       " 'features_airplane_326e859d86a8078427eb9e7911a17418-yr03.mat',\n",
       " 'features_airplane_326e859d86a8078427eb9e7911a17418-yr04.mat',\n",
       " 'features_airplane_326e859d86a8078427eb9e7911a17418-yr05.mat',\n",
       " 'features_airplane_326e859d86a8078427eb9e7911a17418-yr06.mat',\n",
       " 'features_airplane_326e859d86a8078427eb9e7911a17418-yr07.mat',\n",
       " 'features_airplane_326e859d86a8078427eb9e7911a17418-yr08.mat',\n",
       " 'features_airplane_326e859d86a8078427eb9e7911a17418-yr09.mat',\n",
       " 'features_airplane_326e859d86a8078427eb9e7911a17418-yr10.mat',\n",
       " 'features_airplane_326e859d86a8078427eb9e7911a17418-yr11.mat',\n",
       " 'features_airplane_326e859d86a8078427eb9e7911a17418-yrw01.mat',\n",
       " 'features_airplane_326e859d86a8078427eb9e7911a17418-yrw02.mat',\n",
       " 'features_airplane_326e859d86a8078427eb9e7911a17418-yrw03.mat',\n",
       " 'features_airplane_326e859d86a8078427eb9e7911a17418-yrw04.mat',\n",
       " 'features_airplane_326e859d86a8078427eb9e7911a17418-yrw05.mat',\n",
       " 'features_airplane_326e859d86a8078427eb9e7911a17418-yrw06.mat',\n",
       " 'features_airplane_326e859d86a8078427eb9e7911a17418-yrw07.mat',\n",
       " 'features_airplane_326e859d86a8078427eb9e7911a17418-yrw08.mat',\n",
       " 'features_airplane_326e859d86a8078427eb9e7911a17418-yrw09.mat',\n",
       " 'features_airplane_326e859d86a8078427eb9e7911a17418-yrw10.mat',\n",
       " 'features_airplane_326e859d86a8078427eb9e7911a17418-yrw11.mat',\n",
       " 'features_airplane_326e859d86a8078427eb9e7911a17418-yw01.mat',\n",
       " 'features_airplane_326e859d86a8078427eb9e7911a17418-yw02.mat',\n",
       " 'features_airplane_326e859d86a8078427eb9e7911a17418-yw03.mat',\n",
       " 'features_airplane_326e859d86a8078427eb9e7911a17418-yw04.mat',\n",
       " 'features_airplane_326e859d86a8078427eb9e7911a17418-yw05.mat',\n",
       " 'features_airplane_326e859d86a8078427eb9e7911a17418-yw06.mat',\n",
       " 'features_airplane_326e859d86a8078427eb9e7911a17418-yw07.mat',\n",
       " 'features_airplane_326e859d86a8078427eb9e7911a17418-yw08.mat',\n",
       " 'features_airplane_326e859d86a8078427eb9e7911a17418-yw09.mat',\n",
       " 'features_airplane_326e859d86a8078427eb9e7911a17418-yw10.mat',\n",
       " 'features_airplane_326e859d86a8078427eb9e7911a17418-yw11.mat',\n",
       " 'features_airplane_35ae2885a0e645fb7843a50f3dd2047e-p01.mat',\n",
       " 'features_airplane_35ae2885a0e645fb7843a50f3dd2047e-p02.mat',\n",
       " 'features_airplane_35ae2885a0e645fb7843a50f3dd2047e-p03.mat',\n",
       " 'features_airplane_35ae2885a0e645fb7843a50f3dd2047e-p04.mat',\n",
       " 'features_airplane_35ae2885a0e645fb7843a50f3dd2047e-p05.mat',\n",
       " 'features_airplane_35ae2885a0e645fb7843a50f3dd2047e-p06.mat',\n",
       " 'features_airplane_35ae2885a0e645fb7843a50f3dd2047e-p07.mat',\n",
       " 'features_airplane_35ae2885a0e645fb7843a50f3dd2047e-p08.mat',\n",
       " 'features_airplane_35ae2885a0e645fb7843a50f3dd2047e-p09.mat',\n",
       " 'features_airplane_35ae2885a0e645fb7843a50f3dd2047e-p10.mat',\n",
       " 'features_airplane_35ae2885a0e645fb7843a50f3dd2047e-p11.mat',\n",
       " 'features_airplane_35ae2885a0e645fb7843a50f3dd2047e-pr01.mat',\n",
       " 'features_airplane_35ae2885a0e645fb7843a50f3dd2047e-pr02.mat',\n",
       " 'features_airplane_35ae2885a0e645fb7843a50f3dd2047e-pr03.mat',\n",
       " 'features_airplane_35ae2885a0e645fb7843a50f3dd2047e-pr04.mat',\n",
       " 'features_airplane_35ae2885a0e645fb7843a50f3dd2047e-pr05.mat',\n",
       " 'features_airplane_35ae2885a0e645fb7843a50f3dd2047e-pr06.mat',\n",
       " 'features_airplane_35ae2885a0e645fb7843a50f3dd2047e-pr07.mat',\n",
       " 'features_airplane_35ae2885a0e645fb7843a50f3dd2047e-pr08.mat',\n",
       " 'features_airplane_35ae2885a0e645fb7843a50f3dd2047e-pr09.mat',\n",
       " 'features_airplane_35ae2885a0e645fb7843a50f3dd2047e-pr10.mat',\n",
       " 'features_airplane_35ae2885a0e645fb7843a50f3dd2047e-pr11.mat',\n",
       " 'features_airplane_35ae2885a0e645fb7843a50f3dd2047e-prw01.mat',\n",
       " 'features_airplane_35ae2885a0e645fb7843a50f3dd2047e-prw02.mat',\n",
       " 'features_airplane_35ae2885a0e645fb7843a50f3dd2047e-prw03.mat',\n",
       " 'features_airplane_35ae2885a0e645fb7843a50f3dd2047e-prw04.mat',\n",
       " 'features_airplane_35ae2885a0e645fb7843a50f3dd2047e-prw05.mat',\n",
       " 'features_airplane_35ae2885a0e645fb7843a50f3dd2047e-prw06.mat',\n",
       " 'features_airplane_35ae2885a0e645fb7843a50f3dd2047e-prw07.mat',\n",
       " 'features_airplane_35ae2885a0e645fb7843a50f3dd2047e-prw08.mat',\n",
       " 'features_airplane_35ae2885a0e645fb7843a50f3dd2047e-prw09.mat',\n",
       " 'features_airplane_35ae2885a0e645fb7843a50f3dd2047e-prw10.mat',\n",
       " 'features_airplane_35ae2885a0e645fb7843a50f3dd2047e-prw11.mat',\n",
       " 'features_airplane_35ae2885a0e645fb7843a50f3dd2047e-pw01.mat',\n",
       " 'features_airplane_35ae2885a0e645fb7843a50f3dd2047e-pw02.mat',\n",
       " 'features_airplane_35ae2885a0e645fb7843a50f3dd2047e-pw03.mat',\n",
       " 'features_airplane_35ae2885a0e645fb7843a50f3dd2047e-pw04.mat',\n",
       " 'features_airplane_35ae2885a0e645fb7843a50f3dd2047e-pw05.mat',\n",
       " 'features_airplane_35ae2885a0e645fb7843a50f3dd2047e-pw06.mat',\n",
       " 'features_airplane_35ae2885a0e645fb7843a50f3dd2047e-pw07.mat',\n",
       " 'features_airplane_35ae2885a0e645fb7843a50f3dd2047e-pw08.mat',\n",
       " 'features_airplane_35ae2885a0e645fb7843a50f3dd2047e-pw09.mat',\n",
       " 'features_airplane_35ae2885a0e645fb7843a50f3dd2047e-pw10.mat',\n",
       " 'features_airplane_35ae2885a0e645fb7843a50f3dd2047e-pw11.mat',\n",
       " 'features_airplane_35ae2885a0e645fb7843a50f3dd2047e-r01.mat',\n",
       " 'features_airplane_35ae2885a0e645fb7843a50f3dd2047e-r02.mat',\n",
       " 'features_airplane_35ae2885a0e645fb7843a50f3dd2047e-r03.mat',\n",
       " 'features_airplane_35ae2885a0e645fb7843a50f3dd2047e-r04.mat',\n",
       " 'features_airplane_35ae2885a0e645fb7843a50f3dd2047e-r05.mat',\n",
       " 'features_airplane_35ae2885a0e645fb7843a50f3dd2047e-r06.mat',\n",
       " 'features_airplane_35ae2885a0e645fb7843a50f3dd2047e-r07.mat',\n",
       " 'features_airplane_35ae2885a0e645fb7843a50f3dd2047e-r08.mat',\n",
       " 'features_airplane_35ae2885a0e645fb7843a50f3dd2047e-r09.mat',\n",
       " 'features_airplane_35ae2885a0e645fb7843a50f3dd2047e-r10.mat',\n",
       " 'features_airplane_35ae2885a0e645fb7843a50f3dd2047e-r11.mat',\n",
       " 'features_airplane_35ae2885a0e645fb7843a50f3dd2047e-rw01.mat',\n",
       " 'features_airplane_35ae2885a0e645fb7843a50f3dd2047e-rw02.mat',\n",
       " 'features_airplane_35ae2885a0e645fb7843a50f3dd2047e-rw03.mat',\n",
       " 'features_airplane_35ae2885a0e645fb7843a50f3dd2047e-rw04.mat',\n",
       " 'features_airplane_35ae2885a0e645fb7843a50f3dd2047e-rw05.mat',\n",
       " 'features_airplane_35ae2885a0e645fb7843a50f3dd2047e-rw06.mat',\n",
       " 'features_airplane_35ae2885a0e645fb7843a50f3dd2047e-rw07.mat',\n",
       " 'features_airplane_35ae2885a0e645fb7843a50f3dd2047e-rw08.mat',\n",
       " 'features_airplane_35ae2885a0e645fb7843a50f3dd2047e-rw09.mat',\n",
       " 'features_airplane_35ae2885a0e645fb7843a50f3dd2047e-rw10.mat',\n",
       " 'features_airplane_35ae2885a0e645fb7843a50f3dd2047e-rw11.mat',\n",
       " 'features_airplane_35ae2885a0e645fb7843a50f3dd2047e-w01.mat',\n",
       " 'features_airplane_35ae2885a0e645fb7843a50f3dd2047e-w02.mat',\n",
       " 'features_airplane_35ae2885a0e645fb7843a50f3dd2047e-w03.mat',\n",
       " 'features_airplane_35ae2885a0e645fb7843a50f3dd2047e-w04.mat',\n",
       " 'features_airplane_35ae2885a0e645fb7843a50f3dd2047e-w05.mat',\n",
       " 'features_airplane_35ae2885a0e645fb7843a50f3dd2047e-w06.mat',\n",
       " 'features_airplane_35ae2885a0e645fb7843a50f3dd2047e-w07.mat',\n",
       " 'features_airplane_35ae2885a0e645fb7843a50f3dd2047e-w08.mat',\n",
       " 'features_airplane_35ae2885a0e645fb7843a50f3dd2047e-w09.mat',\n",
       " 'features_airplane_35ae2885a0e645fb7843a50f3dd2047e-w10.mat',\n",
       " 'features_airplane_35ae2885a0e645fb7843a50f3dd2047e-w11.mat',\n",
       " 'features_airplane_35ae2885a0e645fb7843a50f3dd2047e-x01.mat',\n",
       " 'features_airplane_35ae2885a0e645fb7843a50f3dd2047e-x02.mat',\n",
       " 'features_airplane_35ae2885a0e645fb7843a50f3dd2047e-x03.mat',\n",
       " 'features_airplane_35ae2885a0e645fb7843a50f3dd2047e-x04.mat',\n",
       " 'features_airplane_35ae2885a0e645fb7843a50f3dd2047e-x05.mat',\n",
       " 'features_airplane_35ae2885a0e645fb7843a50f3dd2047e-x06.mat',\n",
       " 'features_airplane_35ae2885a0e645fb7843a50f3dd2047e-x07.mat',\n",
       " 'features_airplane_35ae2885a0e645fb7843a50f3dd2047e-x08.mat',\n",
       " 'features_airplane_35ae2885a0e645fb7843a50f3dd2047e-x09.mat',\n",
       " 'features_airplane_35ae2885a0e645fb7843a50f3dd2047e-x10.mat',\n",
       " 'features_airplane_35ae2885a0e645fb7843a50f3dd2047e-x11.mat',\n",
       " 'features_airplane_35ae2885a0e645fb7843a50f3dd2047e-xp01.mat',\n",
       " 'features_airplane_35ae2885a0e645fb7843a50f3dd2047e-xp02.mat',\n",
       " 'features_airplane_35ae2885a0e645fb7843a50f3dd2047e-xp03.mat',\n",
       " 'features_airplane_35ae2885a0e645fb7843a50f3dd2047e-xp04.mat',\n",
       " 'features_airplane_35ae2885a0e645fb7843a50f3dd2047e-xp05.mat',\n",
       " 'features_airplane_35ae2885a0e645fb7843a50f3dd2047e-xp06.mat',\n",
       " 'features_airplane_35ae2885a0e645fb7843a50f3dd2047e-xp07.mat',\n",
       " 'features_airplane_35ae2885a0e645fb7843a50f3dd2047e-xp08.mat',\n",
       " 'features_airplane_35ae2885a0e645fb7843a50f3dd2047e-xp09.mat',\n",
       " 'features_airplane_35ae2885a0e645fb7843a50f3dd2047e-xp10.mat',\n",
       " 'features_airplane_35ae2885a0e645fb7843a50f3dd2047e-xp11.mat',\n",
       " 'features_airplane_35ae2885a0e645fb7843a50f3dd2047e-xpr01.mat',\n",
       " 'features_airplane_35ae2885a0e645fb7843a50f3dd2047e-xpr02.mat',\n",
       " 'features_airplane_35ae2885a0e645fb7843a50f3dd2047e-xpr03.mat',\n",
       " 'features_airplane_35ae2885a0e645fb7843a50f3dd2047e-xpr04.mat',\n",
       " 'features_airplane_35ae2885a0e645fb7843a50f3dd2047e-xpr05.mat',\n",
       " 'features_airplane_35ae2885a0e645fb7843a50f3dd2047e-xpr06.mat',\n",
       " 'features_airplane_35ae2885a0e645fb7843a50f3dd2047e-xpr07.mat',\n",
       " 'features_airplane_35ae2885a0e645fb7843a50f3dd2047e-xpr08.mat',\n",
       " 'features_airplane_35ae2885a0e645fb7843a50f3dd2047e-xpr09.mat',\n",
       " 'features_airplane_35ae2885a0e645fb7843a50f3dd2047e-xpr10.mat',\n",
       " 'features_airplane_35ae2885a0e645fb7843a50f3dd2047e-xpr11.mat',\n",
       " 'features_airplane_35ae2885a0e645fb7843a50f3dd2047e-xprw01.mat',\n",
       " 'features_airplane_35ae2885a0e645fb7843a50f3dd2047e-xprw02.mat',\n",
       " 'features_airplane_35ae2885a0e645fb7843a50f3dd2047e-xprw03.mat',\n",
       " 'features_airplane_35ae2885a0e645fb7843a50f3dd2047e-xprw04.mat',\n",
       " 'features_airplane_35ae2885a0e645fb7843a50f3dd2047e-xprw05.mat',\n",
       " 'features_airplane_35ae2885a0e645fb7843a50f3dd2047e-xprw06.mat',\n",
       " 'features_airplane_35ae2885a0e645fb7843a50f3dd2047e-xprw07.mat',\n",
       " 'features_airplane_35ae2885a0e645fb7843a50f3dd2047e-xprw08.mat',\n",
       " 'features_airplane_35ae2885a0e645fb7843a50f3dd2047e-xprw09.mat',\n",
       " 'features_airplane_35ae2885a0e645fb7843a50f3dd2047e-xprw10.mat',\n",
       " 'features_airplane_35ae2885a0e645fb7843a50f3dd2047e-xprw11.mat',\n",
       " 'features_airplane_35ae2885a0e645fb7843a50f3dd2047e-xpw01.mat',\n",
       " 'features_airplane_35ae2885a0e645fb7843a50f3dd2047e-xpw02.mat',\n",
       " 'features_airplane_35ae2885a0e645fb7843a50f3dd2047e-xpw03.mat',\n",
       " 'features_airplane_35ae2885a0e645fb7843a50f3dd2047e-xpw04.mat',\n",
       " 'features_airplane_35ae2885a0e645fb7843a50f3dd2047e-xpw05.mat',\n",
       " 'features_airplane_35ae2885a0e645fb7843a50f3dd2047e-xpw06.mat',\n",
       " 'features_airplane_35ae2885a0e645fb7843a50f3dd2047e-xpw07.mat',\n",
       " 'features_airplane_35ae2885a0e645fb7843a50f3dd2047e-xpw08.mat',\n",
       " 'features_airplane_35ae2885a0e645fb7843a50f3dd2047e-xpw09.mat',\n",
       " 'features_airplane_35ae2885a0e645fb7843a50f3dd2047e-xpw10.mat',\n",
       " 'features_airplane_35ae2885a0e645fb7843a50f3dd2047e-xpw11.mat',\n",
       " 'features_airplane_35ae2885a0e645fb7843a50f3dd2047e-xr01.mat',\n",
       " 'features_airplane_35ae2885a0e645fb7843a50f3dd2047e-xr02.mat',\n",
       " 'features_airplane_35ae2885a0e645fb7843a50f3dd2047e-xr03.mat',\n",
       " 'features_airplane_35ae2885a0e645fb7843a50f3dd2047e-xr04.mat',\n",
       " 'features_airplane_35ae2885a0e645fb7843a50f3dd2047e-xr05.mat',\n",
       " 'features_airplane_35ae2885a0e645fb7843a50f3dd2047e-xr06.mat',\n",
       " 'features_airplane_35ae2885a0e645fb7843a50f3dd2047e-xr07.mat',\n",
       " 'features_airplane_35ae2885a0e645fb7843a50f3dd2047e-xr08.mat',\n",
       " 'features_airplane_35ae2885a0e645fb7843a50f3dd2047e-xr09.mat',\n",
       " 'features_airplane_35ae2885a0e645fb7843a50f3dd2047e-xr10.mat',\n",
       " 'features_airplane_35ae2885a0e645fb7843a50f3dd2047e-xr11.mat',\n",
       " 'features_airplane_35ae2885a0e645fb7843a50f3dd2047e-xrw01.mat',\n",
       " 'features_airplane_35ae2885a0e645fb7843a50f3dd2047e-xrw02.mat',\n",
       " 'features_airplane_35ae2885a0e645fb7843a50f3dd2047e-xrw03.mat',\n",
       " 'features_airplane_35ae2885a0e645fb7843a50f3dd2047e-xrw04.mat',\n",
       " 'features_airplane_35ae2885a0e645fb7843a50f3dd2047e-xrw05.mat',\n",
       " 'features_airplane_35ae2885a0e645fb7843a50f3dd2047e-xrw06.mat',\n",
       " 'features_airplane_35ae2885a0e645fb7843a50f3dd2047e-xrw07.mat',\n",
       " 'features_airplane_35ae2885a0e645fb7843a50f3dd2047e-xrw08.mat',\n",
       " 'features_airplane_35ae2885a0e645fb7843a50f3dd2047e-xrw09.mat',\n",
       " 'features_airplane_35ae2885a0e645fb7843a50f3dd2047e-xrw10.mat',\n",
       " 'features_airplane_35ae2885a0e645fb7843a50f3dd2047e-xrw11.mat',\n",
       " 'features_airplane_35ae2885a0e645fb7843a50f3dd2047e-xw01.mat',\n",
       " 'features_airplane_35ae2885a0e645fb7843a50f3dd2047e-xw02.mat',\n",
       " 'features_airplane_35ae2885a0e645fb7843a50f3dd2047e-xw03.mat',\n",
       " 'features_airplane_35ae2885a0e645fb7843a50f3dd2047e-xw04.mat',\n",
       " 'features_airplane_35ae2885a0e645fb7843a50f3dd2047e-xw05.mat',\n",
       " 'features_airplane_35ae2885a0e645fb7843a50f3dd2047e-xw06.mat',\n",
       " 'features_airplane_35ae2885a0e645fb7843a50f3dd2047e-xw07.mat',\n",
       " 'features_airplane_35ae2885a0e645fb7843a50f3dd2047e-xw08.mat',\n",
       " 'features_airplane_35ae2885a0e645fb7843a50f3dd2047e-xw09.mat',\n",
       " 'features_airplane_35ae2885a0e645fb7843a50f3dd2047e-xw10.mat',\n",
       " 'features_airplane_35ae2885a0e645fb7843a50f3dd2047e-xw11.mat',\n",
       " 'features_airplane_35ae2885a0e645fb7843a50f3dd2047e-xy01.mat',\n",
       " 'features_airplane_35ae2885a0e645fb7843a50f3dd2047e-xy02.mat',\n",
       " 'features_airplane_35ae2885a0e645fb7843a50f3dd2047e-xy03.mat',\n",
       " 'features_airplane_35ae2885a0e645fb7843a50f3dd2047e-xy04.mat',\n",
       " 'features_airplane_35ae2885a0e645fb7843a50f3dd2047e-xy05.mat',\n",
       " 'features_airplane_35ae2885a0e645fb7843a50f3dd2047e-xy06.mat',\n",
       " 'features_airplane_35ae2885a0e645fb7843a50f3dd2047e-xy07.mat',\n",
       " 'features_airplane_35ae2885a0e645fb7843a50f3dd2047e-xy08.mat',\n",
       " 'features_airplane_35ae2885a0e645fb7843a50f3dd2047e-xy09.mat',\n",
       " 'features_airplane_35ae2885a0e645fb7843a50f3dd2047e-xy10.mat',\n",
       " 'features_airplane_35ae2885a0e645fb7843a50f3dd2047e-xy11.mat',\n",
       " 'features_airplane_35ae2885a0e645fb7843a50f3dd2047e-xyp01.mat',\n",
       " 'features_airplane_35ae2885a0e645fb7843a50f3dd2047e-xyp02.mat',\n",
       " 'features_airplane_35ae2885a0e645fb7843a50f3dd2047e-xyp03.mat',\n",
       " 'features_airplane_35ae2885a0e645fb7843a50f3dd2047e-xyp04.mat',\n",
       " 'features_airplane_35ae2885a0e645fb7843a50f3dd2047e-xyp05.mat',\n",
       " 'features_airplane_35ae2885a0e645fb7843a50f3dd2047e-xyp06.mat',\n",
       " 'features_airplane_35ae2885a0e645fb7843a50f3dd2047e-xyp07.mat',\n",
       " 'features_airplane_35ae2885a0e645fb7843a50f3dd2047e-xyp08.mat',\n",
       " 'features_airplane_35ae2885a0e645fb7843a50f3dd2047e-xyp09.mat',\n",
       " 'features_airplane_35ae2885a0e645fb7843a50f3dd2047e-xyp10.mat',\n",
       " 'features_airplane_35ae2885a0e645fb7843a50f3dd2047e-xyp11.mat',\n",
       " 'features_airplane_35ae2885a0e645fb7843a50f3dd2047e-xypr01.mat',\n",
       " 'features_airplane_35ae2885a0e645fb7843a50f3dd2047e-xypr02.mat',\n",
       " 'features_airplane_35ae2885a0e645fb7843a50f3dd2047e-xypr03.mat',\n",
       " 'features_airplane_35ae2885a0e645fb7843a50f3dd2047e-xypr04.mat',\n",
       " 'features_airplane_35ae2885a0e645fb7843a50f3dd2047e-xypr05.mat',\n",
       " 'features_airplane_35ae2885a0e645fb7843a50f3dd2047e-xypr06.mat',\n",
       " 'features_airplane_35ae2885a0e645fb7843a50f3dd2047e-xypr07.mat',\n",
       " 'features_airplane_35ae2885a0e645fb7843a50f3dd2047e-xypr08.mat',\n",
       " 'features_airplane_35ae2885a0e645fb7843a50f3dd2047e-xypr09.mat',\n",
       " 'features_airplane_35ae2885a0e645fb7843a50f3dd2047e-xypr10.mat',\n",
       " 'features_airplane_35ae2885a0e645fb7843a50f3dd2047e-xypr11.mat',\n",
       " 'features_airplane_35ae2885a0e645fb7843a50f3dd2047e-xyprw01.mat',\n",
       " 'features_airplane_35ae2885a0e645fb7843a50f3dd2047e-xyprw02.mat',\n",
       " 'features_airplane_35ae2885a0e645fb7843a50f3dd2047e-xyprw03.mat',\n",
       " 'features_airplane_35ae2885a0e645fb7843a50f3dd2047e-xyprw04.mat',\n",
       " 'features_airplane_35ae2885a0e645fb7843a50f3dd2047e-xyprw05.mat',\n",
       " 'features_airplane_35ae2885a0e645fb7843a50f3dd2047e-xyprw06.mat',\n",
       " 'features_airplane_35ae2885a0e645fb7843a50f3dd2047e-xyprw07.mat',\n",
       " 'features_airplane_35ae2885a0e645fb7843a50f3dd2047e-xyprw08.mat',\n",
       " 'features_airplane_35ae2885a0e645fb7843a50f3dd2047e-xyprw09.mat',\n",
       " 'features_airplane_35ae2885a0e645fb7843a50f3dd2047e-xyprw10.mat',\n",
       " 'features_airplane_35ae2885a0e645fb7843a50f3dd2047e-xyprw11.mat',\n",
       " 'features_airplane_35ae2885a0e645fb7843a50f3dd2047e-xypw01.mat',\n",
       " 'features_airplane_35ae2885a0e645fb7843a50f3dd2047e-xypw02.mat',\n",
       " 'features_airplane_35ae2885a0e645fb7843a50f3dd2047e-xypw03.mat',\n",
       " 'features_airplane_35ae2885a0e645fb7843a50f3dd2047e-xypw04.mat',\n",
       " 'features_airplane_35ae2885a0e645fb7843a50f3dd2047e-xypw05.mat',\n",
       " 'features_airplane_35ae2885a0e645fb7843a50f3dd2047e-xypw06.mat',\n",
       " 'features_airplane_35ae2885a0e645fb7843a50f3dd2047e-xypw07.mat',\n",
       " 'features_airplane_35ae2885a0e645fb7843a50f3dd2047e-xypw08.mat',\n",
       " 'features_airplane_35ae2885a0e645fb7843a50f3dd2047e-xypw09.mat',\n",
       " 'features_airplane_35ae2885a0e645fb7843a50f3dd2047e-xypw10.mat',\n",
       " 'features_airplane_35ae2885a0e645fb7843a50f3dd2047e-xypw11.mat',\n",
       " 'features_airplane_35ae2885a0e645fb7843a50f3dd2047e-xyr01.mat',\n",
       " 'features_airplane_35ae2885a0e645fb7843a50f3dd2047e-xyr02.mat',\n",
       " 'features_airplane_35ae2885a0e645fb7843a50f3dd2047e-xyr03.mat',\n",
       " 'features_airplane_35ae2885a0e645fb7843a50f3dd2047e-xyr04.mat',\n",
       " 'features_airplane_35ae2885a0e645fb7843a50f3dd2047e-xyr05.mat',\n",
       " 'features_airplane_35ae2885a0e645fb7843a50f3dd2047e-xyr06.mat',\n",
       " 'features_airplane_35ae2885a0e645fb7843a50f3dd2047e-xyr07.mat',\n",
       " 'features_airplane_35ae2885a0e645fb7843a50f3dd2047e-xyr08.mat',\n",
       " 'features_airplane_35ae2885a0e645fb7843a50f3dd2047e-xyr09.mat',\n",
       " 'features_airplane_35ae2885a0e645fb7843a50f3dd2047e-xyr10.mat',\n",
       " 'features_airplane_35ae2885a0e645fb7843a50f3dd2047e-xyr11.mat',\n",
       " 'features_airplane_35ae2885a0e645fb7843a50f3dd2047e-xyrw01.mat',\n",
       " 'features_airplane_35ae2885a0e645fb7843a50f3dd2047e-xyrw02.mat',\n",
       " 'features_airplane_35ae2885a0e645fb7843a50f3dd2047e-xyrw03.mat',\n",
       " 'features_airplane_35ae2885a0e645fb7843a50f3dd2047e-xyrw04.mat',\n",
       " 'features_airplane_35ae2885a0e645fb7843a50f3dd2047e-xyrw05.mat',\n",
       " 'features_airplane_35ae2885a0e645fb7843a50f3dd2047e-xyrw06.mat',\n",
       " 'features_airplane_35ae2885a0e645fb7843a50f3dd2047e-xyrw07.mat',\n",
       " 'features_airplane_35ae2885a0e645fb7843a50f3dd2047e-xyrw08.mat',\n",
       " 'features_airplane_35ae2885a0e645fb7843a50f3dd2047e-xyrw09.mat',\n",
       " 'features_airplane_35ae2885a0e645fb7843a50f3dd2047e-xyrw10.mat',\n",
       " 'features_airplane_35ae2885a0e645fb7843a50f3dd2047e-xyrw11.mat',\n",
       " 'features_airplane_35ae2885a0e645fb7843a50f3dd2047e-xyw01.mat',\n",
       " 'features_airplane_35ae2885a0e645fb7843a50f3dd2047e-xyw02.mat',\n",
       " 'features_airplane_35ae2885a0e645fb7843a50f3dd2047e-xyw03.mat',\n",
       " 'features_airplane_35ae2885a0e645fb7843a50f3dd2047e-xyw04.mat',\n",
       " 'features_airplane_35ae2885a0e645fb7843a50f3dd2047e-xyw05.mat',\n",
       " 'features_airplane_35ae2885a0e645fb7843a50f3dd2047e-xyw06.mat',\n",
       " 'features_airplane_35ae2885a0e645fb7843a50f3dd2047e-xyw07.mat',\n",
       " 'features_airplane_35ae2885a0e645fb7843a50f3dd2047e-xyw08.mat',\n",
       " 'features_airplane_35ae2885a0e645fb7843a50f3dd2047e-xyw09.mat',\n",
       " 'features_airplane_35ae2885a0e645fb7843a50f3dd2047e-xyw10.mat',\n",
       " 'features_airplane_35ae2885a0e645fb7843a50f3dd2047e-xyw11.mat',\n",
       " 'features_airplane_35ae2885a0e645fb7843a50f3dd2047e-y01.mat',\n",
       " 'features_airplane_35ae2885a0e645fb7843a50f3dd2047e-y02.mat',\n",
       " 'features_airplane_35ae2885a0e645fb7843a50f3dd2047e-y03.mat',\n",
       " 'features_airplane_35ae2885a0e645fb7843a50f3dd2047e-y04.mat',\n",
       " 'features_airplane_35ae2885a0e645fb7843a50f3dd2047e-y05.mat',\n",
       " 'features_airplane_35ae2885a0e645fb7843a50f3dd2047e-y06.mat',\n",
       " 'features_airplane_35ae2885a0e645fb7843a50f3dd2047e-y07.mat',\n",
       " 'features_airplane_35ae2885a0e645fb7843a50f3dd2047e-y08.mat',\n",
       " 'features_airplane_35ae2885a0e645fb7843a50f3dd2047e-y09.mat',\n",
       " 'features_airplane_35ae2885a0e645fb7843a50f3dd2047e-y10.mat',\n",
       " 'features_airplane_35ae2885a0e645fb7843a50f3dd2047e-y11.mat',\n",
       " 'features_airplane_35ae2885a0e645fb7843a50f3dd2047e-yp01.mat',\n",
       " 'features_airplane_35ae2885a0e645fb7843a50f3dd2047e-yp02.mat',\n",
       " 'features_airplane_35ae2885a0e645fb7843a50f3dd2047e-yp03.mat',\n",
       " 'features_airplane_35ae2885a0e645fb7843a50f3dd2047e-yp04.mat',\n",
       " 'features_airplane_35ae2885a0e645fb7843a50f3dd2047e-yp05.mat',\n",
       " 'features_airplane_35ae2885a0e645fb7843a50f3dd2047e-yp06.mat',\n",
       " 'features_airplane_35ae2885a0e645fb7843a50f3dd2047e-yp07.mat',\n",
       " 'features_airplane_35ae2885a0e645fb7843a50f3dd2047e-yp08.mat',\n",
       " 'features_airplane_35ae2885a0e645fb7843a50f3dd2047e-yp09.mat',\n",
       " 'features_airplane_35ae2885a0e645fb7843a50f3dd2047e-yp10.mat',\n",
       " 'features_airplane_35ae2885a0e645fb7843a50f3dd2047e-yp11.mat',\n",
       " 'features_airplane_35ae2885a0e645fb7843a50f3dd2047e-ypr01.mat',\n",
       " 'features_airplane_35ae2885a0e645fb7843a50f3dd2047e-ypr02.mat',\n",
       " 'features_airplane_35ae2885a0e645fb7843a50f3dd2047e-ypr03.mat',\n",
       " 'features_airplane_35ae2885a0e645fb7843a50f3dd2047e-ypr04.mat',\n",
       " 'features_airplane_35ae2885a0e645fb7843a50f3dd2047e-ypr05.mat',\n",
       " 'features_airplane_35ae2885a0e645fb7843a50f3dd2047e-ypr06.mat',\n",
       " 'features_airplane_35ae2885a0e645fb7843a50f3dd2047e-ypr07.mat',\n",
       " 'features_airplane_35ae2885a0e645fb7843a50f3dd2047e-ypr08.mat',\n",
       " 'features_airplane_35ae2885a0e645fb7843a50f3dd2047e-ypr09.mat',\n",
       " 'features_airplane_35ae2885a0e645fb7843a50f3dd2047e-ypr10.mat',\n",
       " 'features_airplane_35ae2885a0e645fb7843a50f3dd2047e-ypr11.mat',\n",
       " 'features_airplane_35ae2885a0e645fb7843a50f3dd2047e-yprw01.mat',\n",
       " 'features_airplane_35ae2885a0e645fb7843a50f3dd2047e-yprw02.mat',\n",
       " 'features_airplane_35ae2885a0e645fb7843a50f3dd2047e-yprw03.mat',\n",
       " 'features_airplane_35ae2885a0e645fb7843a50f3dd2047e-yprw04.mat',\n",
       " 'features_airplane_35ae2885a0e645fb7843a50f3dd2047e-yprw05.mat',\n",
       " 'features_airplane_35ae2885a0e645fb7843a50f3dd2047e-yprw06.mat',\n",
       " 'features_airplane_35ae2885a0e645fb7843a50f3dd2047e-yprw07.mat',\n",
       " 'features_airplane_35ae2885a0e645fb7843a50f3dd2047e-yprw08.mat',\n",
       " 'features_airplane_35ae2885a0e645fb7843a50f3dd2047e-yprw09.mat',\n",
       " 'features_airplane_35ae2885a0e645fb7843a50f3dd2047e-yprw10.mat',\n",
       " 'features_airplane_35ae2885a0e645fb7843a50f3dd2047e-yprw11.mat',\n",
       " 'features_airplane_35ae2885a0e645fb7843a50f3dd2047e-ypw01.mat',\n",
       " 'features_airplane_35ae2885a0e645fb7843a50f3dd2047e-ypw02.mat',\n",
       " 'features_airplane_35ae2885a0e645fb7843a50f3dd2047e-ypw03.mat',\n",
       " 'features_airplane_35ae2885a0e645fb7843a50f3dd2047e-ypw04.mat',\n",
       " 'features_airplane_35ae2885a0e645fb7843a50f3dd2047e-ypw05.mat',\n",
       " 'features_airplane_35ae2885a0e645fb7843a50f3dd2047e-ypw06.mat',\n",
       " 'features_airplane_35ae2885a0e645fb7843a50f3dd2047e-ypw07.mat',\n",
       " 'features_airplane_35ae2885a0e645fb7843a50f3dd2047e-ypw08.mat',\n",
       " 'features_airplane_35ae2885a0e645fb7843a50f3dd2047e-ypw09.mat',\n",
       " 'features_airplane_35ae2885a0e645fb7843a50f3dd2047e-ypw10.mat',\n",
       " 'features_airplane_35ae2885a0e645fb7843a50f3dd2047e-ypw11.mat',\n",
       " 'features_airplane_35ae2885a0e645fb7843a50f3dd2047e-yr01.mat',\n",
       " 'features_airplane_35ae2885a0e645fb7843a50f3dd2047e-yr02.mat',\n",
       " 'features_airplane_35ae2885a0e645fb7843a50f3dd2047e-yr03.mat',\n",
       " 'features_airplane_35ae2885a0e645fb7843a50f3dd2047e-yr04.mat',\n",
       " 'features_airplane_35ae2885a0e645fb7843a50f3dd2047e-yr05.mat',\n",
       " 'features_airplane_35ae2885a0e645fb7843a50f3dd2047e-yr06.mat',\n",
       " 'features_airplane_35ae2885a0e645fb7843a50f3dd2047e-yr07.mat',\n",
       " 'features_airplane_35ae2885a0e645fb7843a50f3dd2047e-yr08.mat',\n",
       " 'features_airplane_35ae2885a0e645fb7843a50f3dd2047e-yr09.mat',\n",
       " 'features_airplane_35ae2885a0e645fb7843a50f3dd2047e-yr10.mat',\n",
       " ...]"
      ]
     },
     "execution_count": 3,
     "metadata": {},
     "output_type": "execute_result"
    }
   ],
   "source": [
    "pull_axis_description_from_txt('../src/test/data_classes/imgnames_all.txt')"
   ]
  },
  {
   "cell_type": "code",
   "execution_count": 4,
   "metadata": {},
   "outputs": [],
   "source": [
    "import h5py"
   ]
  },
  {
   "cell_type": "code",
   "execution_count": 15,
   "metadata": {},
   "outputs": [],
   "source": [
    "def h5_yield():\n",
    "    with h5py.File('../src/test/test_data/distances.mat', 'r') as f:\n",
    "        yield f\n"
   ]
  },
  {
   "cell_type": "code",
   "execution_count": 16,
   "metadata": {},
   "outputs": [],
   "source": [
    "a = h5_yield()"
   ]
  },
  {
   "cell_type": "code",
   "execution_count": 19,
   "metadata": {},
   "outputs": [],
   "source": [
    "c = a.__next__()"
   ]
  },
  {
   "cell_type": "code",
   "execution_count": 22,
   "metadata": {},
   "outputs": [
    {
     "data": {
      "text/plain": [
       "<HDF5 dataset \"Jaccard_dist\": shape (2200, 68200), type \"<f4\">"
      ]
     },
     "execution_count": 22,
     "metadata": {},
     "output_type": "execute_result"
    }
   ],
   "source": [
    "c['Jaccard_dist']"
   ]
  },
  {
   "cell_type": "code",
   "execution_count": 23,
   "metadata": {},
   "outputs": [],
   "source": [
    "c.close()"
   ]
  },
  {
   "cell_type": "code",
   "execution_count": 1,
   "metadata": {},
   "outputs": [],
   "source": [
    "from bidict import bidict"
   ]
  },
  {
   "cell_type": "code",
   "execution_count": 11,
   "metadata": {},
   "outputs": [],
   "source": [
    "a = bidict({2:2, 1:4})"
   ]
  },
  {
   "cell_type": "code",
   "execution_count": 20,
   "metadata": {},
   "outputs": [],
   "source": [
    "c = list(a.items())"
   ]
  },
  {
   "cell_type": "code",
   "execution_count": 21,
   "metadata": {},
   "outputs": [
    {
     "data": {
      "text/plain": [
       "[(2, 2), (1, 4)]"
      ]
     },
     "execution_count": 21,
     "metadata": {},
     "output_type": "execute_result"
    }
   ],
   "source": [
    "c"
   ]
  },
  {
   "cell_type": "code",
   "execution_count": 22,
   "metadata": {},
   "outputs": [],
   "source": [
    "c.sort(key=lambda x: x[0])"
   ]
  },
  {
   "cell_type": "code",
   "execution_count": 23,
   "metadata": {},
   "outputs": [],
   "source": [
    "d = [i[1] for i in c]"
   ]
  },
  {
   "cell_type": "code",
   "execution_count": 33,
   "metadata": {},
   "outputs": [],
   "source": [
    "import cupy as cp\n",
    "import numpy as np"
   ]
  },
  {
   "cell_type": "code",
   "execution_count": 38,
   "metadata": {},
   "outputs": [],
   "source": [
    "a = []\n",
    "a.append(cp.array([1,2,3]).get())\n",
    "a.append(cp.array([4,5,6]).get())"
   ]
  },
  {
   "cell_type": "code",
   "execution_count": 43,
   "metadata": {},
   "outputs": [],
   "source": [
    "b = np.array(a)"
   ]
  },
  {
   "cell_type": "code",
   "execution_count": 44,
   "metadata": {},
   "outputs": [
    {
     "data": {
      "text/plain": [
       "array([1, 2, 3])"
      ]
     },
     "execution_count": 44,
     "metadata": {},
     "output_type": "execute_result"
    }
   ],
   "source": [
    "b[0,:]"
   ]
  },
  {
   "cell_type": "code",
   "execution_count": 68,
   "metadata": {},
   "outputs": [],
   "source": [
    "c = cp.array([[1,2,3], [np.nan,np.nan,np.nan]])"
   ]
  },
  {
   "cell_type": "code",
   "execution_count": 79,
   "metadata": {},
   "outputs": [],
   "source": [
    "d=cp.nanmax(c, axis=1)"
   ]
  },
  {
   "cell_type": "code",
   "execution_count": 80,
   "metadata": {},
   "outputs": [
    {
     "data": {
      "text/plain": [
       "array([False,  True])"
      ]
     },
     "execution_count": 80,
     "metadata": {},
     "output_type": "execute_result"
    }
   ],
   "source": [
    "cp.isnan(d)"
   ]
  },
  {
   "cell_type": "code",
   "execution_count": 81,
   "metadata": {},
   "outputs": [],
   "source": [
    "d[cp.isnan(d)] = -1"
   ]
  },
  {
   "cell_type": "code",
   "execution_count": 82,
   "metadata": {},
   "outputs": [
    {
     "data": {
      "text/plain": [
       "array([ 3., -1.])"
      ]
     },
     "execution_count": 82,
     "metadata": {},
     "output_type": "execute_result"
    }
   ],
   "source": [
    "d"
   ]
  },
  {
   "cell_type": "code",
   "execution_count": 71,
   "metadata": {},
   "outputs": [],
   "source": [
    "e = np.zeros((2, 3), dtype=int)"
   ]
  },
  {
   "cell_type": "code",
   "execution_count": 72,
   "metadata": {},
   "outputs": [],
   "source": [
    "e[:,0] = d"
   ]
  },
  {
   "cell_type": "code",
   "execution_count": 73,
   "metadata": {},
   "outputs": [
    {
     "data": {
      "text/plain": [
       "array([[                   3,                    0,                    0],\n",
       "       [-9223372036854775808,                    0,                    0]])"
      ]
     },
     "execution_count": 73,
     "metadata": {},
     "output_type": "execute_result"
    }
   ],
   "source": [
    "e"
   ]
  },
  {
   "cell_type": "code",
   "execution_count": 64,
   "metadata": {},
   "outputs": [
    {
     "data": {
      "text/plain": [
       "dtype('int64')"
      ]
     },
     "execution_count": 64,
     "metadata": {},
     "output_type": "execute_result"
    }
   ],
   "source": [
    "e.dtype"
   ]
  },
  {
   "cell_type": "code",
   "execution_count": 83,
   "metadata": {},
   "outputs": [
    {
     "data": {
      "text/plain": [
       "array([[                   4,                    1,                    1],\n",
       "       [-9223372036854775807,                    1,                    1]])"
      ]
     },
     "execution_count": 83,
     "metadata": {},
     "output_type": "execute_result"
    }
   ],
   "source": [
    "e+1\n"
   ]
  },
  {
   "attachments": {},
   "cell_type": "markdown",
   "metadata": {},
   "source": [
    "type(np.int)"
   ]
  },
  {
   "cell_type": "code",
   "execution_count": 84,
   "metadata": {},
   "outputs": [
    {
     "data": {
      "text/plain": [
       "type"
      ]
     },
     "execution_count": 84,
     "metadata": {},
     "output_type": "execute_result"
    }
   ],
   "source": [
    "type(np.float64)"
   ]
  },
  {
   "cell_type": "code",
   "execution_count": 1,
   "metadata": {},
   "outputs": [],
   "source": [
    "import numpy as np\n",
    "import cupy as cp"
   ]
  },
  {
   "cell_type": "code",
   "execution_count": 2,
   "metadata": {},
   "outputs": [],
   "source": [
    "a = np.iinfo(np.uint8).max"
   ]
  },
  {
   "cell_type": "code",
   "execution_count": 6,
   "metadata": {},
   "outputs": [],
   "source": [
    "a = np.array([1,2,3], dtype=np.uint8)"
   ]
  },
  {
   "cell_type": "code",
   "execution_count": 12,
   "metadata": {},
   "outputs": [],
   "source": [
    "b = np.array([1,2,np.inf], dtype=float)"
   ]
  },
  {
   "cell_type": "code",
   "execution_count": 15,
   "metadata": {},
   "outputs": [],
   "source": [
    "c = (a*b)"
   ]
  },
  {
   "cell_type": "code",
   "execution_count": 16,
   "metadata": {},
   "outputs": [
    {
     "data": {
      "text/plain": [
       "dtype('float64')"
      ]
     },
     "execution_count": 16,
     "metadata": {},
     "output_type": "execute_result"
    }
   ],
   "source": [
    "c.dtype"
   ]
  },
  {
   "cell_type": "code",
   "execution_count": 17,
   "metadata": {},
   "outputs": [
    {
     "data": {
      "text/plain": [
       "dtype('float64')"
      ]
     },
     "execution_count": 17,
     "metadata": {},
     "output_type": "execute_result"
    }
   ],
   "source": [
    "b.dtype"
   ]
  },
  {
   "cell_type": "code",
   "execution_count": 18,
   "metadata": {},
   "outputs": [],
   "source": [
    "b[2] = a[1]"
   ]
  },
  {
   "cell_type": "code",
   "execution_count": 19,
   "metadata": {},
   "outputs": [
    {
     "data": {
      "text/plain": [
       "array([1., 2., 2.])"
      ]
     },
     "execution_count": 19,
     "metadata": {},
     "output_type": "execute_result"
    }
   ],
   "source": [
    "b"
   ]
  },
  {
   "cell_type": "code",
   "execution_count": 21,
   "metadata": {},
   "outputs": [],
   "source": [
    "a[1] = c[2]"
   ]
  },
  {
   "cell_type": "code",
   "execution_count": 22,
   "metadata": {},
   "outputs": [
    {
     "data": {
      "text/plain": [
       "array([ 1.,  4., inf])"
      ]
     },
     "execution_count": 22,
     "metadata": {},
     "output_type": "execute_result"
    }
   ],
   "source": [
    "c"
   ]
  },
  {
   "cell_type": "code",
   "execution_count": 27,
   "metadata": {},
   "outputs": [],
   "source": [
    "a[1] = c[2]"
   ]
  },
  {
   "cell_type": "code",
   "execution_count": 28,
   "metadata": {},
   "outputs": [
    {
     "data": {
      "text/plain": [
       "inf"
      ]
     },
     "execution_count": 28,
     "metadata": {},
     "output_type": "execute_result"
    }
   ],
   "source": [
    "c[2]"
   ]
  },
  {
   "cell_type": "code",
   "execution_count": 30,
   "metadata": {},
   "outputs": [
    {
     "data": {
      "text/plain": [
       "0"
      ]
     },
     "execution_count": 30,
     "metadata": {},
     "output_type": "execute_result"
    }
   ],
   "source": [
    "a[1]"
   ]
  },
  {
   "cell_type": "code",
   "execution_count": 37,
   "metadata": {},
   "outputs": [],
   "source": [
    "a = a.astype(np.float64)"
   ]
  },
  {
   "cell_type": "code",
   "execution_count": 38,
   "metadata": {},
   "outputs": [],
   "source": [
    "a[1]=c[2]"
   ]
  },
  {
   "cell_type": "code",
   "execution_count": 39,
   "metadata": {},
   "outputs": [
    {
     "data": {
      "text/plain": [
       "array([  1.,  inf, 255.])"
      ]
     },
     "execution_count": 39,
     "metadata": {},
     "output_type": "execute_result"
    }
   ],
   "source": [
    "a"
   ]
  },
  {
   "cell_type": "code",
   "execution_count": 4,
   "metadata": {},
   "outputs": [
    {
     "ename": "ImportError",
     "evalue": "attempted relative import beyond top-level package",
     "output_type": "error",
     "traceback": [
      "\u001b[0;31m---------------------------------------------------------------------------\u001b[0m",
      "\u001b[0;31mImportError\u001b[0m                               Traceback (most recent call last)",
      "Cell \u001b[0;32mIn[4], line 3\u001b[0m\n\u001b[1;32m      1\u001b[0m \u001b[39mimport\u001b[39;00m \u001b[39msys\u001b[39;00m\n\u001b[1;32m      2\u001b[0m sys\u001b[39m.\u001b[39mpath\u001b[39m.\u001b[39mappend(\u001b[39m\"\u001b[39m\u001b[39m../src\u001b[39m\u001b[39m\"\u001b[39m)\n\u001b[0;32m----> 3\u001b[0m \u001b[39mimport\u001b[39;00m \u001b[39mdata_classes\u001b[39;00m \u001b[39mas\u001b[39;00m \u001b[39mdc\u001b[39;00m\n\u001b[1;32m      4\u001b[0m json_path \u001b[39m=\u001b[39m \u001b[39m\"\u001b[39m\u001b[39m../src/test/test_data/config_normal.json\u001b[39m\u001b[39m\"\u001b[39m\n\u001b[1;32m      5\u001b[0m config \u001b[39m=\u001b[39m dc\u001b[39m.\u001b[39mNNAnalysisConfig\u001b[39m.\u001b[39mschema()\u001b[39m.\u001b[39mloads(json_path)\n",
      "File \u001b[0;32m~/projects/ShapeYV2/notebook/../src/data_classes/__init__.py:1\u001b[0m\n\u001b[0;32m----> 1\u001b[0m \u001b[39mfrom\u001b[39;00m \u001b[39m.\u001b[39;00m\u001b[39mcorrmat\u001b[39;00m \u001b[39mimport\u001b[39;00m \u001b[39m*\u001b[39m\n\u001b[1;32m      2\u001b[0m \u001b[39mfrom\u001b[39;00m \u001b[39m.\u001b[39;00m\u001b[39mnn_analysis_configs\u001b[39;00m \u001b[39mimport\u001b[39;00m \u001b[39m*\u001b[39m\n\u001b[1;32m      3\u001b[0m \u001b[39mfrom\u001b[39;00m \u001b[39m.\u001b[39;00m\u001b[39mplotting\u001b[39;00m \u001b[39mimport\u001b[39;00m \u001b[39m*\u001b[39m\n",
      "File \u001b[0;32m~/projects/ShapeYV2/notebook/../src/data_classes/corrmat.py:7\u001b[0m\n\u001b[1;32m      5\u001b[0m \u001b[39mimport\u001b[39;00m \u001b[39mh5py\u001b[39;00m\n\u001b[1;32m      6\u001b[0m \u001b[39mfrom\u001b[39;00m \u001b[39mabc\u001b[39;00m \u001b[39mimport\u001b[39;00m ABC\n\u001b[0;32m----> 7\u001b[0m \u001b[39mfrom\u001b[39;00m \u001b[39m.\u001b[39;00m\u001b[39m.\u001b[39;00m \u001b[39mimport\u001b[39;00m utils\n\u001b[1;32m      8\u001b[0m \u001b[39mfrom\u001b[39;00m \u001b[39m.\u001b[39;00m \u001b[39mimport\u001b[39;00m axis_description\n\u001b[1;32m     11\u001b[0m \u001b[39m@dataclass\u001b[39m\n\u001b[1;32m     12\u001b[0m \u001b[39mclass\u001b[39;00m \u001b[39mCorrMat\u001b[39;00m(ABC):\n",
      "\u001b[0;31mImportError\u001b[0m: attempted relative import beyond top-level package"
     ]
    }
   ],
   "source": [
    "import sys\n",
    "sys.path.append(\"../\")\n",
    "import src.data_classes as dc\n",
    "json_path = \"../src/test/test_data/config_normal.json\"\n",
    "config = dc.NNAnalysisConfig.schema().loads(json_path)"
   ]
  },
  {
   "cell_type": "markdown",
   "metadata": {},
   "source": []
  },
  {
   "cell_type": "code",
   "execution_count": null,
   "metadata": {},
   "outputs": [],
   "source": []
  }
 ],
 "metadata": {
  "kernelspec": {
   "display_name": "shapeymodular",
   "language": "python",
   "name": "python3"
  },
  "language_info": {
   "codemirror_mode": {
    "name": "ipython",
    "version": 3
   },
   "file_extension": ".py",
   "mimetype": "text/x-python",
   "name": "python",
   "nbconvert_exporter": "python",
   "pygments_lexer": "ipython3",
   "version": "3.9.16"
  },
  "orig_nbformat": 4
 },
 "nbformat": 4,
 "nbformat_minor": 2
}
