{
 "cells": [
  {
   "cell_type": "code",
   "execution_count": 1,
   "metadata": {},
   "outputs": [],
   "source": [
    "import h5py\n",
    "import os"
   ]
  },
  {
   "cell_type": "code",
   "execution_count": 3,
   "metadata": {},
   "outputs": [],
   "source": [
    "# get all directories to run\n",
    "all_features_directories = []\n",
    "base_dir = \"/home/francis/nineCasesToRun/\"\n",
    "datadirs = os.listdir(base_dir)\n",
    "datadirs.sort()\n",
    "datadirs = datadirs\n",
    "feature_dirs = []\n",
    "for dir in datadirs:\n",
    "    features_dir = [\n",
    "        os.path.join(base_dir, dir, fd)\n",
    "        for fd in os.listdir(os.path.join(base_dir, dir))\n",
    "        if \"features-results-\" in fd\n",
    "    ]\n",
    "    feature_dirs.extend(features_dir)"
   ]
  },
  {
   "cell_type": "code",
   "execution_count": 4,
   "metadata": {},
   "outputs": [
    {
     "data": {
      "text/plain": [
       "['/home/francis/nineCasesToRun/kernels12_poolingMap0Left1Right/features-results-l2p0,1',\n",
       " '/home/francis/nineCasesToRun/kernels12_poolingMap0Left1Right/features-results-l2p1,1',\n",
       " '/home/francis/nineCasesToRun/kernels12_poolingMap0Left1Right/features-results-l2p1,2',\n",
       " '/home/francis/nineCasesToRun/kernels12_poolingMap1Left1Right/features-results-l2p1,1',\n",
       " '/home/francis/nineCasesToRun/kernels12_poolingMap1Left1Right/features-results-l2p0,1',\n",
       " '/home/francis/nineCasesToRun/kernels12_poolingMap1Left1Right/features-results-l2p1,2',\n",
       " '/home/francis/nineCasesToRun/kernels12_poolingMap1Left2Right/features-results-l2p0,1',\n",
       " '/home/francis/nineCasesToRun/kernels12_poolingMap1Left2Right/features-results-l2p1,1',\n",
       " '/home/francis/nineCasesToRun/kernels12_poolingMap1Left2Right/features-results-l2p1,2',\n",
       " '/home/francis/nineCasesToRun/kernels16_poolingMap0Left1Right/features-results-l2p1,2',\n",
       " '/home/francis/nineCasesToRun/kernels16_poolingMap0Left1Right/features-results-l2p0,1',\n",
       " '/home/francis/nineCasesToRun/kernels16_poolingMap0Left1Right/features-results-l2p1,1',\n",
       " '/home/francis/nineCasesToRun/kernels16_poolingMap1Left1Right/features-results-l2p1,2',\n",
       " '/home/francis/nineCasesToRun/kernels16_poolingMap1Left1Right/features-results-l2p0,1',\n",
       " '/home/francis/nineCasesToRun/kernels16_poolingMap1Left1Right/features-results-l2p1,1',\n",
       " '/home/francis/nineCasesToRun/kernels16_poolingMap1Left2Right/features-results-l2p1,2',\n",
       " '/home/francis/nineCasesToRun/kernels16_poolingMap1Left2Right/features-results-l2p0,1',\n",
       " '/home/francis/nineCasesToRun/kernels16_poolingMap1Left2Right/features-results-l2p1,1',\n",
       " '/home/francis/nineCasesToRun/kernels24_poolingMap0Left1Right/features-results-l2p0,1',\n",
       " '/home/francis/nineCasesToRun/kernels24_poolingMap0Left1Right/features-results-l2p1,1',\n",
       " '/home/francis/nineCasesToRun/kernels24_poolingMap0Left1Right/features-results-l2p1,2',\n",
       " '/home/francis/nineCasesToRun/kernels24_poolingMap1Left1Right/features-results-l2p1,2',\n",
       " '/home/francis/nineCasesToRun/kernels24_poolingMap1Left1Right/features-results-l2p1,1',\n",
       " '/home/francis/nineCasesToRun/kernels24_poolingMap1Left1Right/features-results-l2p0,1',\n",
       " '/home/francis/nineCasesToRun/kernels24_poolingMap1Left2Right/features-results-l2p0,1',\n",
       " '/home/francis/nineCasesToRun/kernels24_poolingMap1Left2Right/features-results-l2p1,1',\n",
       " '/home/francis/nineCasesToRun/kernels24_poolingMap1Left2Right/features-results-l2p1,2']"
      ]
     },
     "execution_count": 4,
     "metadata": {},
     "output_type": "execute_result"
    }
   ],
   "source": [
    "feature_dirs"
   ]
  },
  {
   "cell_type": "code",
   "execution_count": 7,
   "metadata": {},
   "outputs": [
    {
     "name": "stdout",
     "output_type": "stream",
     "text": [
      "/home/francis/nineCasesToRun/kernels12_poolingMap0Left1Right/features-results-l2p0,1\n",
      "<KeysViewHDF5 ['detected_0', 'detected_1', 'detected_2', 'l2pool_0', 'l2pool_1', 'l2pool_2']>\n",
      "/home/francis/nineCasesToRun/kernels12_poolingMap1Left1Right/features-results-l2p0,1\n",
      "<KeysViewHDF5 ['detected_0', 'detected_1', 'detected_2', 'l2pool_0', 'l2pool_1', 'l2pool_2']>\n",
      "/home/francis/nineCasesToRun/kernels12_poolingMap1Left2Right/features-results-l2p0,1\n",
      "<KeysViewHDF5 ['detected_0', 'detected_1', 'detected_2', 'l2pool_0', 'l2pool_1', 'l2pool_2']>\n",
      "/home/francis/nineCasesToRun/kernels16_poolingMap0Left1Right/features-results-l2p0,1\n",
      "<KeysViewHDF5 ['detected_0', 'detected_1', 'detected_2', 'l2pool_0', 'l2pool_1', 'l2pool_2']>\n",
      "/home/francis/nineCasesToRun/kernels16_poolingMap1Left1Right/features-results-l2p0,1\n",
      "<KeysViewHDF5 ['detected_0', 'detected_1', 'detected_2', 'l2pool_0', 'l2pool_1', 'l2pool_2']>\n",
      "/home/francis/nineCasesToRun/kernels16_poolingMap1Left2Right/features-results-l2p0,1\n",
      "<KeysViewHDF5 ['detected_0', 'detected_1', 'detected_2', 'l2pool_0', 'l2pool_1', 'l2pool_2']>\n",
      "/home/francis/nineCasesToRun/kernels24_poolingMap0Left1Right/features-results-l2p0,1\n",
      "<KeysViewHDF5 ['detected_0', 'detected_1', 'detected_2', 'l2pool_0', 'l2pool_1', 'l2pool_2']>\n",
      "/home/francis/nineCasesToRun/kernels24_poolingMap1Left1Right/features-results-l2p0,1\n",
      "<KeysViewHDF5 ['detected_0', 'detected_1', 'detected_2', 'l2pool_0', 'l2pool_1', 'l2pool_2']>\n",
      "/home/francis/nineCasesToRun/kernels24_poolingMap1Left2Right/features-results-l2p0,1\n",
      "<KeysViewHDF5 ['detected_0', 'detected_1', 'detected_2', 'l2pool_0', 'l2pool_1', 'l2pool_2']>\n"
     ]
    }
   ],
   "source": [
    "for dir in feature_dirs:\n",
    "    matfiles = [f for f in os.listdir(dir) if f.endswith(\".mat\")]\n",
    "    with h5py.File(os.path.join(dir, matfiles[0])) as f:\n",
    "        if len(f.keys())!=3:\n",
    "            print(dir)\n",
    "            print(f.keys())"
   ]
  },
  {
   "cell_type": "code",
   "execution_count": 11,
   "metadata": {},
   "outputs": [
    {
     "name": "stdout",
     "output_type": "stream",
     "text": [
      "/home/francis/nineCasesToRun/kernels12_poolingMap0Left1Right/features-results-l2p0,1\n",
      "/home/francis/nineCasesToRun/kernels12_poolingMap1Left1Right/features-results-l2p0,1\n",
      "/home/francis/nineCasesToRun/kernels12_poolingMap1Left2Right/features-results-l2p0,1\n",
      "/home/francis/nineCasesToRun/kernels16_poolingMap0Left1Right/features-results-l2p0,1\n",
      "/home/francis/nineCasesToRun/kernels16_poolingMap1Left1Right/features-results-l2p0,1\n",
      "/home/francis/nineCasesToRun/kernels16_poolingMap1Left2Right/features-results-l2p1,2\n",
      "/home/francis/nineCasesToRun/kernels16_poolingMap1Left2Right/features-results-l2p0,1\n",
      "/home/francis/nineCasesToRun/kernels16_poolingMap1Left2Right/features-results-l2p1,1\n",
      "/home/francis/nineCasesToRun/kernels24_poolingMap0Left1Right/features-results-l2p0,1\n",
      "/home/francis/nineCasesToRun/kernels24_poolingMap1Left1Right/features-results-l2p0,1\n",
      "/home/francis/nineCasesToRun/kernels24_poolingMap1Left2Right/features-results-l2p0,1\n"
     ]
    }
   ],
   "source": [
    "for dir in feature_dirs:\n",
    "    matfiles = \"old_thresholds.mat\"\n",
    "    if os.path.exists(os.path.join(dir, matfiles)):\n",
    "        with h5py.File(os.path.join(dir, matfiles)) as f:\n",
    "            if len(f.keys())!=3:\n",
    "                print(dir)\n",
    "    else:\n",
    "        print(dir)\n"
   ]
  },
  {
   "cell_type": "code",
   "execution_count": 10,
   "metadata": {},
   "outputs": [],
   "source": [
    "for dir in feature_dirs:\n",
    "    matfiles = \"thresholds.mat\"\n",
    "    if os.path.exists(os.path.join(dir, matfiles)):\n",
    "        with h5py.File(os.path.join(dir, matfiles)) as f:\n",
    "            if len(f.keys())!=3:\n",
    "                print(dir)\n",
    "                print(f.keys())\n",
    "    else:\n",
    "        print(dir)\n",
    "        print(\"old_thresholds.mat does not exist\")"
   ]
  },
  {
   "cell_type": "code",
   "execution_count": 20,
   "metadata": {},
   "outputs": [],
   "source": [
    "with open(\"/home/namj/projects/ShapeYV2/shapeymodular/utils/imgnames_pw_series.txt\", \"r\") as f:\n",
    "    lines = f.readlines()"
   ]
  },
  {
   "cell_type": "code",
   "execution_count": 21,
   "metadata": {},
   "outputs": [],
   "source": [
    "features = [\"features_{}\".format(img) for img in lines]"
   ]
  },
  {
   "cell_type": "code",
   "execution_count": 22,
   "metadata": {},
   "outputs": [],
   "source": [
    "with open(\"/home/namj/projects/ShapeYV2/shapeymodular/utils/features_imgnames_pw_series.txt\", \"w\") as f:\n",
    "    f.writelines(features)"
   ]
  },
  {
   "cell_type": "code",
   "execution_count": null,
   "metadata": {},
   "outputs": [],
   "source": []
  }
 ],
 "metadata": {
  "kernelspec": {
   "display_name": "shapeymodular",
   "language": "python",
   "name": "python3"
  },
  "language_info": {
   "codemirror_mode": {
    "name": "ipython",
    "version": 3
   },
   "file_extension": ".py",
   "mimetype": "text/x-python",
   "name": "python",
   "nbconvert_exporter": "python",
   "pygments_lexer": "ipython3",
   "version": "3.9.16"
  },
  "orig_nbformat": 4
 },
 "nbformat": 4,
 "nbformat_minor": 2
}
